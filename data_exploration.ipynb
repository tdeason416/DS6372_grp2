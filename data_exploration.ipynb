{
 "cells": [
  {
   "cell_type": "code",
   "execution_count": 4,
   "metadata": {
    "collapsed": true
   },
   "outputs": [],
   "source": [
    "import scipy.stats as scs\n",
    "import matplotlib.pyplot as plt\n",
    "import pandas as pd\n",
    "import numpy as np\n",
    "import re\n",
    "import json"
   ]
  },
  {
   "cell_type": "code",
   "execution_count": 85,
   "metadata": {
    "collapsed": false
   },
   "outputs": [],
   "source": [
    "data = pd.read_csv('data/ks-projects-201612.csv')"
   ]
  },
  {
   "cell_type": "code",
   "execution_count": 86,
   "metadata": {
    "collapsed": false
   },
   "outputs": [],
   "source": [
    "data = data.iloc[:,:14]"
   ]
  },
  {
   "cell_type": "code",
   "execution_count": 87,
   "metadata": {
    "collapsed": true
   },
   "outputs": [],
   "source": [
    "data.columns = [x.strip() for x in data.columns]"
   ]
  },
  {
   "cell_type": "code",
   "execution_count": 88,
   "metadata": {
    "collapsed": true
   },
   "outputs": [],
   "source": [
    "data2 = pd.read_csv('data/ks-projects-201801.csv')"
   ]
  },
  {
   "cell_type": "code",
   "execution_count": 89,
   "metadata": {
    "collapsed": false
   },
   "outputs": [],
   "source": [
    "data2 = data2.iloc[:,:14]"
   ]
  },
  {
   "cell_type": "code",
   "execution_count": 90,
   "metadata": {
    "collapsed": true
   },
   "outputs": [],
   "source": [
    "data2.columns = [x.strip() for x in data2.columns]"
   ]
  },
  {
   "cell_type": "code",
   "execution_count": 91,
   "metadata": {
    "collapsed": true
   },
   "outputs": [],
   "source": [
    "data['dataset'] = 2016\n",
    "data2['dataset'] = 2018"
   ]
  },
  {
   "cell_type": "code",
   "execution_count": 92,
   "metadata": {
    "collapsed": false
   },
   "outputs": [],
   "source": [
    "data = pd.concat([data, data2])"
   ]
  },
  {
   "cell_type": "code",
   "execution_count": 93,
   "metadata": {
    "collapsed": false
   },
   "outputs": [],
   "source": [
    "# data['goal'] = data['goal'].astype('float')"
   ]
  },
  {
   "cell_type": "code",
   "execution_count": 94,
   "metadata": {
    "collapsed": true
   },
   "outputs": [],
   "source": [
    "def make_fun(x):\n",
    "    try:\n",
    "        float(x)\n",
    "        return 0\n",
    "    except:\n",
    "        return x"
   ]
  },
  {
   "cell_type": "code",
   "execution_count": 95,
   "metadata": {
    "collapsed": false
   },
   "outputs": [],
   "source": [
    "whats_up = data['goal'].apply(make_fun)"
   ]
  },
  {
   "cell_type": "code",
   "execution_count": 96,
   "metadata": {
    "collapsed": false
   },
   "outputs": [
    {
     "data": {
      "text/html": [
       "<div>\n",
       "<table border=\"1\" class=\"dataframe\">\n",
       "  <thead>\n",
       "    <tr style=\"text-align: right;\">\n",
       "      <th></th>\n",
       "      <th>ID</th>\n",
       "      <th>Unnamed: 13</th>\n",
       "      <th>backers</th>\n",
       "      <th>category</th>\n",
       "      <th>country</th>\n",
       "      <th>currency</th>\n",
       "      <th>dataset</th>\n",
       "      <th>deadline</th>\n",
       "      <th>goal</th>\n",
       "      <th>launched</th>\n",
       "      <th>main_category</th>\n",
       "      <th>name</th>\n",
       "      <th>pledged</th>\n",
       "      <th>state</th>\n",
       "      <th>usd pledged</th>\n",
       "      <th>usd_pledged_real</th>\n",
       "    </tr>\n",
       "  </thead>\n",
       "  <tbody>\n",
       "    <tr>\n",
       "      <th>260138</th>\n",
       "      <td>617715586</td>\n",
       "      <td>4367</td>\n",
       "      <td>successful</td>\n",
       "      <td>I am Prisoner</td>\n",
       "      <td>37</td>\n",
       "      <td>Publishing</td>\n",
       "      <td>2016</td>\n",
       "      <td>USD</td>\n",
       "      <td>2011-11-14 23:00:00</td>\n",
       "      <td>4000</td>\n",
       "      <td>Nonfiction</td>\n",
       "      <td>I am Danger</td>\n",
       "      <td>2011-10-10 02:33:40</td>\n",
       "      <td>4367</td>\n",
       "      <td>US</td>\n",
       "      <td>NaN</td>\n",
       "    </tr>\n",
       "    <tr>\n",
       "      <th>111562</th>\n",
       "      <td>1662276614</td>\n",
       "      <td>1421</td>\n",
       "      <td>failed</td>\n",
       "      <td>a feature length HD film</td>\n",
       "      <td>31</td>\n",
       "      <td>Film &amp; Video</td>\n",
       "      <td>2016</td>\n",
       "      <td>USD</td>\n",
       "      <td>2010-04-26 11:59:00</td>\n",
       "      <td>2200</td>\n",
       "      <td>Shorts</td>\n",
       "      <td>Finley Wade</td>\n",
       "      <td>2010-04-04 17:35:26</td>\n",
       "      <td>1421</td>\n",
       "      <td>US</td>\n",
       "      <td>NaN</td>\n",
       "    </tr>\n",
       "    <tr>\n",
       "      <th>258117</th>\n",
       "      <td>60596218</td>\n",
       "      <td>13436.602656755</td>\n",
       "      <td>successful</td>\n",
       "      <td>A miniature painting monograph.</td>\n",
       "      <td>732</td>\n",
       "      <td>Art</td>\n",
       "      <td>2016</td>\n",
       "      <td>EUR</td>\n",
       "      <td>2016-11-18 12:00:00</td>\n",
       "      <td>7500</td>\n",
       "      <td>Painting</td>\n",
       "      <td>Arsies' Painting Toolbox</td>\n",
       "      <td>2016-10-15 11:57:11</td>\n",
       "      <td>52670</td>\n",
       "      <td>ES</td>\n",
       "      <td>NaN</td>\n",
       "    </tr>\n",
       "    <tr>\n",
       "      <th>150479</th>\n",
       "      <td>189401226</td>\n",
       "      <td>7839</td>\n",
       "      <td>successful</td>\n",
       "      <td>an instructional video</td>\n",
       "      <td>174</td>\n",
       "      <td>Film &amp; Video</td>\n",
       "      <td>2016</td>\n",
       "      <td>USD</td>\n",
       "      <td>2011-09-16 23:20:31</td>\n",
       "      <td>6000</td>\n",
       "      <td>Documentary</td>\n",
       "      <td>Bird Language with Jon Young</td>\n",
       "      <td>2011-08-02 23:20:31</td>\n",
       "      <td>7839</td>\n",
       "      <td>US</td>\n",
       "      <td>NaN</td>\n",
       "    </tr>\n",
       "    <tr>\n",
       "      <th>46987</th>\n",
       "      <td>1279208458</td>\n",
       "      <td>0</td>\n",
       "      <td>failed</td>\n",
       "      <td>Memoir of an 18 y.o fuck-up</td>\n",
       "      <td>0</td>\n",
       "      <td>Art</td>\n",
       "      <td>2016</td>\n",
       "      <td>USD</td>\n",
       "      <td>2015-08-12 18:03:38</td>\n",
       "      <td>500</td>\n",
       "      <td>Mixed Media</td>\n",
       "      <td>Dweling</td>\n",
       "      <td>2015-07-13 18:03:38</td>\n",
       "      <td>0</td>\n",
       "      <td>US</td>\n",
       "      <td>NaN</td>\n",
       "    </tr>\n",
       "  </tbody>\n",
       "</table>\n",
       "</div>"
      ],
      "text/plain": [
       "                ID      Unnamed: 13     backers  \\\n",
       "260138   617715586             4367  successful   \n",
       "111562  1662276614             1421      failed   \n",
       "258117    60596218  13436.602656755  successful   \n",
       "150479   189401226             7839  successful   \n",
       "46987   1279208458                0      failed   \n",
       "\n",
       "                                category country      currency  dataset  \\\n",
       "260138                     I am Prisoner      37    Publishing     2016   \n",
       "111562          a feature length HD film      31  Film & Video     2016   \n",
       "258117   A miniature painting monograph.     732           Art     2016   \n",
       "150479            an instructional video     174  Film & Video     2016   \n",
       "46987        Memoir of an 18 y.o fuck-up       0           Art     2016   \n",
       "\n",
       "       deadline                 goal launched main_category  \\\n",
       "260138      USD  2011-11-14 23:00:00     4000    Nonfiction   \n",
       "111562      USD  2010-04-26 11:59:00     2200        Shorts   \n",
       "258117      EUR  2016-11-18 12:00:00     7500      Painting   \n",
       "150479      USD  2011-09-16 23:20:31     6000   Documentary   \n",
       "46987       USD  2015-08-12 18:03:38      500   Mixed Media   \n",
       "\n",
       "                                name              pledged  state usd pledged  \\\n",
       "260138                   I am Danger  2011-10-10 02:33:40   4367          US   \n",
       "111562                   Finley Wade  2010-04-04 17:35:26   1421          US   \n",
       "258117      Arsies' Painting Toolbox  2016-10-15 11:57:11  52670          ES   \n",
       "150479  Bird Language with Jon Young  2011-08-02 23:20:31   7839          US   \n",
       "46987                        Dweling  2015-07-13 18:03:38      0          US   \n",
       "\n",
       "        usd_pledged_real  \n",
       "260138               NaN  \n",
       "111562               NaN  \n",
       "258117               NaN  \n",
       "150479               NaN  \n",
       "46987                NaN  "
      ]
     },
     "execution_count": 96,
     "metadata": {},
     "output_type": "execute_result"
    }
   ],
   "source": [
    "data[whats_up != 0].sample(5)"
   ]
  },
  {
   "cell_type": "code",
   "execution_count": 97,
   "metadata": {
    "collapsed": false
   },
   "outputs": [],
   "source": [
    "!False"
   ]
  },
  {
   "cell_type": "code",
   "execution_count": 98,
   "metadata": {
    "collapsed": true
   },
   "outputs": [],
   "source": [
    "# data.to_csv('data/all_data.csv')"
   ]
  },
  {
   "cell_type": "code",
   "execution_count": 99,
   "metadata": {
    "collapsed": true
   },
   "outputs": [],
   "source": [
    "bad_data = data[whats_up != 0]"
   ]
  },
  {
   "cell_type": "code",
   "execution_count": 100,
   "metadata": {
    "collapsed": false
   },
   "outputs": [
    {
     "data": {
      "text/plain": [
       ")                                                    7\n",
       "-)                                                   4\n",
       " a short film                                        3\n",
       " an Art Exhibition                                   2\n",
       " Made in the USA                                     2\n",
       " Part 1                                              2\n",
       " give them a try!                                    2\n",
       " 'Take Me Away' ... Become a part of Team Kerrin!    1\n",
       " Verger en Polyculture Orchard                       1\n",
       " Art Exposition + Book                               1\n",
       "Name: category, dtype: int64"
      ]
     },
     "execution_count": 100,
     "metadata": {},
     "output_type": "execute_result"
    }
   ],
   "source": [
    "bad_data['category'].value_counts().head(10)"
   ]
  },
  {
   "cell_type": "code",
   "execution_count": 101,
   "metadata": {
    "collapsed": false
   },
   "outputs": [],
   "source": [
    "good_data = data[whats_up == 0]"
   ]
  },
  {
   "cell_type": "code",
   "execution_count": 102,
   "metadata": {
    "collapsed": false
   },
   "outputs": [
    {
     "data": {
      "text/plain": [
       "(701779, 16)"
      ]
     },
     "execution_count": 102,
     "metadata": {},
     "output_type": "execute_result"
    }
   ],
   "source": [
    "good_data.shape"
   ]
  },
  {
   "cell_type": "code",
   "execution_count": 103,
   "metadata": {
    "collapsed": false
   },
   "outputs": [
    {
     "data": {
      "text/plain": [
       "Product Design    39791\n",
       "Documentary       31030\n",
       "Music             29634\n",
       "Tabletop Games    24888\n",
       "Shorts            24038\n",
       "Food              22026\n",
       "Video Games       21889\n",
       "Film & Video      19315\n",
       "Fiction           17400\n",
       "Fashion           16464\n",
       "Name: category, dtype: int64"
      ]
     },
     "execution_count": 103,
     "metadata": {},
     "output_type": "execute_result"
    }
   ],
   "source": [
    "good_data['category'].value_counts().head(10)"
   ]
  },
  {
   "cell_type": "code",
   "execution_count": 104,
   "metadata": {
    "collapsed": false
   },
   "outputs": [
    {
     "name": "stderr",
     "output_type": "stream",
     "text": [
      "/Users/travis/anaconda2/lib/python2.7/site-packages/ipykernel/__main__.py:5: SettingWithCopyWarning: \n",
      "A value is trying to be set on a copy of a slice from a DataFrame.\n",
      "Try using .loc[row_indexer,col_indexer] = value instead\n",
      "\n",
      "See the caveats in the documentation: http://pandas.pydata.org/pandas-docs/stable/indexing.html#indexing-view-versus-copy\n"
     ]
    }
   ],
   "source": [
    "cats = good_data['category'].unique()\n",
    "\n",
    "(bad_data['usd pledged'] == 'failed').sum()\n",
    "\n",
    "bad_data['name'] += bad_data['category']"
   ]
  },
  {
   "cell_type": "code",
   "execution_count": 105,
   "metadata": {
    "collapsed": false
   },
   "outputs": [],
   "source": [
    "for i in range(2,len(bad_data.columns))[::-1]:\n",
    "    bad_data[bad_data.columns[i-1]]"
   ]
  },
  {
   "cell_type": "code",
   "execution_count": 106,
   "metadata": {
    "collapsed": true
   },
   "outputs": [],
   "source": [
    "# good_data = good_data.iloc[:,:-1]"
   ]
  },
  {
   "cell_type": "code",
   "execution_count": null,
   "metadata": {
    "collapsed": true
   },
   "outputs": [],
   "source": []
  },
  {
   "cell_type": "code",
   "execution_count": 107,
   "metadata": {
    "collapsed": false
   },
   "outputs": [
    {
     "data": {
      "text/plain": [
       "(701779, 16)"
      ]
     },
     "execution_count": 107,
     "metadata": {},
     "output_type": "execute_result"
    }
   ],
   "source": [
    "good_data.shape"
   ]
  },
  {
   "cell_type": "code",
   "execution_count": 108,
   "metadata": {
    "collapsed": false
   },
   "outputs": [],
   "source": [
    "# bad_data.sample(20)"
   ]
  },
  {
   "cell_type": "code",
   "execution_count": 109,
   "metadata": {
    "collapsed": true
   },
   "outputs": [],
   "source": [
    "cats= set(set(good_data['category'].value_counts()))"
   ]
  },
  {
   "cell_type": "code",
   "execution_count": 110,
   "metadata": {
    "collapsed": false
   },
   "outputs": [
    {
     "name": "stdout",
     "output_type": "stream",
     "text": [
      "poop\n"
     ]
    }
   ],
   "source": [
    "output = []\n",
    "with open('data/ks-projects-201612.csv','r') as read_file:\n",
    "    poop = read_file.read()\n",
    "    cols = [x.strip() for x in poop.split('\\n')[0].split(',')]\n",
    "    for line in poop.split('\\n')[1:]:\n",
    "        try:\n",
    "            cells = line.split(',')\n",
    "            if cells[2] in cats:\n",
    "                output.append({col:value for col,value in zip(cols, cells)})\n",
    "            else:\n",
    "                row_out = {}\n",
    "                row_out[cols[0]] = cells[0]\n",
    "                row_out[cols[1]] = cells[1]\n",
    "                row_out[cols[2]] = cells[2] + cells[3]\n",
    "                row_out[cols[3]] = cells[4]\n",
    "                row_out[cols[4]] = cells[5]\n",
    "                row_out[cols[5]] = cells[6]\n",
    "                row_out[cols[6]] = cells[7]\n",
    "                row_out[cols[7]] = cells[8]\n",
    "                row_out[cols[8]] = cells[9]\n",
    "                row_out[cols[9]] = cells[10]\n",
    "                row_out[cols[10]] = cells[11]\n",
    "                row_out[cols[11]] = cells[12]\n",
    "                row_out[cols[12]] = cells[13]\n",
    "                output.append(row_out)\n",
    "        except:\n",
    "            print line + 'poop'"
   ]
  },
  {
   "cell_type": "code",
   "execution_count": 111,
   "metadata": {
    "collapsed": true
   },
   "outputs": [],
   "source": [
    "poop = pd.DataFrame(output)"
   ]
  },
  {
   "cell_type": "code",
   "execution_count": 112,
   "metadata": {
    "collapsed": false
   },
   "outputs": [
    {
     "name": "stderr",
     "output_type": "stream",
     "text": [
      "/Users/travis/anaconda2/lib/python2.7/site-packages/ipykernel/__main__.py:1: SettingWithCopyWarning: \n",
      "A value is trying to be set on a copy of a slice from a DataFrame.\n",
      "Try using .loc[row_indexer,col_indexer] = value instead\n",
      "\n",
      "See the caveats in the documentation: http://pandas.pydata.org/pandas-docs/stable/indexing.html#indexing-view-versus-copy\n",
      "  if __name__ == '__main__':\n"
     ]
    }
   ],
   "source": [
    "bad_data['name'] += bad_data['category']"
   ]
  },
  {
   "cell_type": "code",
   "execution_count": 113,
   "metadata": {
    "collapsed": false
   },
   "outputs": [
    {
     "data": {
      "text/plain": [
       "['ID',\n",
       " 'name',\n",
       " 'category',\n",
       " 'main_category',\n",
       " 'currency',\n",
       " 'deadline',\n",
       " 'goal',\n",
       " 'launched',\n",
       " 'pledged',\n",
       " 'state',\n",
       " 'backers',\n",
       " 'country',\n",
       " 'usd pledged',\n",
       " '',\n",
       " '',\n",
       " '',\n",
       " '']"
      ]
     },
     "execution_count": 113,
     "metadata": {},
     "output_type": "execute_result"
    }
   ],
   "source": [
    "cols"
   ]
  },
  {
   "cell_type": "code",
   "execution_count": 114,
   "metadata": {
    "collapsed": false
   },
   "outputs": [
    {
     "ename": "SyntaxError",
     "evalue": "invalid syntax (<ipython-input-114-15ce840f7b7b>, line 1)",
     "output_type": "error",
     "traceback": [
      "\u001b[0;36m  File \u001b[0;32m\"<ipython-input-114-15ce840f7b7b>\"\u001b[0;36m, line \u001b[0;32m1\u001b[0m\n\u001b[0;31m    for i in cats[2]\u001b[0m\n\u001b[0m                    ^\u001b[0m\n\u001b[0;31mSyntaxError\u001b[0m\u001b[0;31m:\u001b[0m invalid syntax\n"
     ]
    }
   ],
   "source": [
    "for i in cats[2]"
   ]
  },
  {
   "cell_type": "code",
   "execution_count": 115,
   "metadata": {
    "collapsed": false
   },
   "outputs": [
    {
     "data": {
      "text/plain": [
       "failed        0.521446\n",
       "successful    0.352015\n",
       "canceled      0.101361\n",
       "live          0.010298\n",
       "undefined     0.010141\n",
       "suspended     0.004738\n",
       "Name: state, dtype: float64"
      ]
     },
     "execution_count": 115,
     "metadata": {},
     "output_type": "execute_result"
    }
   ],
   "source": [
    "good_data['state'].value_counts(1)"
   ]
  },
  {
   "cell_type": "code",
   "execution_count": 116,
   "metadata": {
    "collapsed": false
   },
   "outputs": [
    {
     "data": {
      "text/plain": [
       "17483"
      ]
     },
     "execution_count": 116,
     "metadata": {},
     "output_type": "execute_result"
    }
   ],
   "source": [
    "(poop['goal'].apply(make_fun) == 0).sum()"
   ]
  },
  {
   "cell_type": "code",
   "execution_count": 117,
   "metadata": {
    "collapsed": true
   },
   "outputs": [],
   "source": [
    "with open('data/ks-projects-201612.csv','r') as read_file:\n",
    "    poop = read_file.read()"
   ]
  },
  {
   "cell_type": "code",
   "execution_count": 118,
   "metadata": {
    "collapsed": true
   },
   "outputs": [],
   "source": [
    "good_data.to_csv('data/data_nobadrows.csv')"
   ]
  },
  {
   "cell_type": "code",
   "execution_count": null,
   "metadata": {
    "collapsed": true
   },
   "outputs": [],
   "source": []
  },
  {
   "cell_type": "code",
   "execution_count": 32,
   "metadata": {
    "collapsed": false
   },
   "outputs": [
    {
     "data": {
      "text/plain": [
       "(323750,)"
      ]
     },
     "execution_count": 32,
     "metadata": {},
     "output_type": "execute_result"
    }
   ],
   "source": [
    "data['ID'].unique().shape"
   ]
  },
  {
   "cell_type": "code",
   "execution_count": 88,
   "metadata": {
    "collapsed": false
   },
   "outputs": [
    {
     "data": {
      "text/plain": [
       "(772,)"
      ]
     },
     "execution_count": 88,
     "metadata": {},
     "output_type": "execute_result"
    }
   ],
   "source": [
    "data['category'].unique().shape"
   ]
  },
  {
   "cell_type": "code",
   "execution_count": 89,
   "metadata": {
    "collapsed": false
   },
   "outputs": [
    {
     "data": {
      "text/plain": [
       "(120,)"
      ]
     },
     "execution_count": 89,
     "metadata": {},
     "output_type": "execute_result"
    }
   ],
   "source": [
    "data['main_category'].unique().shape"
   ]
  },
  {
   "cell_type": "code",
   "execution_count": 368,
   "metadata": {
    "collapsed": false
   },
   "outputs": [
    {
     "name": "stdout",
     "output_type": "stream",
     "text": [
      "<class 'pandas.core.frame.DataFrame'>\n",
      "Int64Index: 702411 entries, 0 to 378660\n",
      "Data columns (total 15 columns):\n",
      "ID                  702411 non-null int64\n",
      "Unnamed: 13         625 non-null object\n",
      "backers             702411 non-null object\n",
      "category            702406 non-null object\n",
      "country             702411 non-null object\n",
      "currency            702411 non-null object\n",
      "deadline            702411 non-null object\n",
      "goal                702411 non-null object\n",
      "launched            702411 non-null object\n",
      "main_category       702411 non-null object\n",
      "name                702405 non-null object\n",
      "pledged             702411 non-null object\n",
      "state               702411 non-null object\n",
      "usd pledged         694824 non-null object\n",
      "usd_pledged_real    378661 non-null float64\n",
      "dtypes: float64(1), int64(1), object(13)\n",
      "memory usage: 85.7+ MB\n"
     ]
    }
   ],
   "source": [
    "data.info()"
   ]
  },
  {
   "cell_type": "code",
   "execution_count": 144,
   "metadata": {
    "collapsed": true
   },
   "outputs": [],
   "source": [
    "%matplotlib inline"
   ]
  },
  {
   "cell_type": "code",
   "execution_count": null,
   "metadata": {
    "collapsed": true
   },
   "outputs": [],
   "source": []
  },
  {
   "cell_type": "code",
   "execution_count": null,
   "metadata": {
    "collapsed": true
   },
   "outputs": [],
   "source": []
  }
 ],
 "metadata": {
  "anaconda-cloud": {},
  "kernelspec": {
   "display_name": "Python [conda root]",
   "language": "python",
   "name": "conda-root-py"
  },
  "language_info": {
   "codemirror_mode": {
    "name": "ipython",
    "version": 2
   },
   "file_extension": ".py",
   "mimetype": "text/x-python",
   "name": "python",
   "nbconvert_exporter": "python",
   "pygments_lexer": "ipython2",
   "version": "2.7.12"
  }
 },
 "nbformat": 4,
 "nbformat_minor": 1
}
