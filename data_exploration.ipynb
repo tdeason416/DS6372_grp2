{
 "cells": [
  {
   "cell_type": "code",
   "execution_count": 4,
   "metadata": {
    "collapsed": true
   },
   "outputs": [],
   "source": [
    "import scipy.stats as scs\n",
    "import matplotlib.pyplot as plt\n",
    "import pandas as pd\n",
    "import numpy as np\n",
    "import re\n",
    "import json"
   ]
  },
  {
   "cell_type": "code",
   "execution_count": 5,
   "metadata": {
    "collapsed": false
   },
   "outputs": [
    {
     "name": "stderr",
     "output_type": "stream",
     "text": [
      "/Users/travis/anaconda2/lib/python2.7/site-packages/IPython/core/interactiveshell.py:2717: DtypeWarning: Columns (13,14,15) have mixed types. Specify dtype option on import or set low_memory=False.\n",
      "  interactivity=interactivity, compiler=compiler, result=result)\n"
     ]
    }
   ],
   "source": [
    "data = pd.read_csv('data/ks-projects-201612.csv')"
   ]
  },
  {
   "cell_type": "code",
   "execution_count": 6,
   "metadata": {
    "collapsed": false
   },
   "outputs": [],
   "source": [
    "data['dataset'] = 2016"
   ]
  },
  {
   "cell_type": "code",
   "execution_count": 7,
   "metadata": {
    "collapsed": false
   },
   "outputs": [],
   "source": [
    "data = data.iloc[:,:14]"
   ]
  },
  {
   "cell_type": "code",
   "execution_count": 8,
   "metadata": {
    "collapsed": true
   },
   "outputs": [],
   "source": [
    "data.columns = [x.strip() for x in data.columns]"
   ]
  },
  {
   "cell_type": "code",
   "execution_count": 9,
   "metadata": {
    "collapsed": true
   },
   "outputs": [],
   "source": [
    "data2 = pd.read_csv('data/ks-projects-201801.csv')"
   ]
  },
  {
   "cell_type": "code",
   "execution_count": 10,
   "metadata": {
    "collapsed": true
   },
   "outputs": [],
   "source": [
    "data2['dataset'] = 2018"
   ]
  },
  {
   "cell_type": "code",
   "execution_count": 11,
   "metadata": {
    "collapsed": false
   },
   "outputs": [],
   "source": [
    "data2 = data2.iloc[:,:14]"
   ]
  },
  {
   "cell_type": "code",
   "execution_count": 12,
   "metadata": {
    "collapsed": true
   },
   "outputs": [],
   "source": [
    "data2.columns = [x.strip() for x in data2.columns]"
   ]
  },
  {
   "cell_type": "code",
   "execution_count": 13,
   "metadata": {
    "collapsed": false
   },
   "outputs": [],
   "source": [
    "data = pd.concat([data, data2])"
   ]
  },
  {
   "cell_type": "code",
   "execution_count": 14,
   "metadata": {
    "collapsed": false
   },
   "outputs": [],
   "source": [
    "# data['goal'] = data['goal'].astype('float')"
   ]
  },
  {
   "cell_type": "code",
   "execution_count": 15,
   "metadata": {
    "collapsed": true
   },
   "outputs": [],
   "source": [
    "def make_fun(x):\n",
    "    try:\n",
    "        float(x)\n",
    "        return 0\n",
    "    except:\n",
    "        return x"
   ]
  },
  {
   "cell_type": "code",
   "execution_count": 16,
   "metadata": {
    "collapsed": false
   },
   "outputs": [],
   "source": [
    "whats_up = data['goal'].apply(make_fun)"
   ]
  },
  {
   "cell_type": "code",
   "execution_count": 17,
   "metadata": {
    "collapsed": false
   },
   "outputs": [
    {
     "data": {
      "text/html": [
       "<div>\n",
       "<table border=\"1\" class=\"dataframe\">\n",
       "  <thead>\n",
       "    <tr style=\"text-align: right;\">\n",
       "      <th></th>\n",
       "      <th>ID</th>\n",
       "      <th>Unnamed: 13</th>\n",
       "      <th>backers</th>\n",
       "      <th>category</th>\n",
       "      <th>country</th>\n",
       "      <th>currency</th>\n",
       "      <th>deadline</th>\n",
       "      <th>goal</th>\n",
       "      <th>launched</th>\n",
       "      <th>main_category</th>\n",
       "      <th>name</th>\n",
       "      <th>pledged</th>\n",
       "      <th>state</th>\n",
       "      <th>usd pledged</th>\n",
       "      <th>usd_pledged_real</th>\n",
       "    </tr>\n",
       "  </thead>\n",
       "  <tbody>\n",
       "    <tr>\n",
       "      <th>250924</th>\n",
       "      <td>562478730</td>\n",
       "      <td>0</td>\n",
       "      <td>failed</td>\n",
       "      <td>One Percent</td>\n",
       "      <td>0</td>\n",
       "      <td>Film &amp; Video</td>\n",
       "      <td>USD</td>\n",
       "      <td>2013-01-07 00:35:26</td>\n",
       "      <td>10000</td>\n",
       "      <td>Documentary</td>\n",
       "      <td>Documentary about overcoming the odds</td>\n",
       "      <td>2012-12-08 00:35:26</td>\n",
       "      <td>0</td>\n",
       "      <td>US</td>\n",
       "      <td>NaN</td>\n",
       "    </tr>\n",
       "    <tr>\n",
       "      <th>190029</th>\n",
       "      <td>213156196</td>\n",
       "      <td>0</td>\n",
       "      <td>failed</td>\n",
       "      <td>Idea's database.</td>\n",
       "      <td>0</td>\n",
       "      <td>Technology</td>\n",
       "      <td>EUR</td>\n",
       "      <td>2016-06-15 19:13:11</td>\n",
       "      <td>155</td>\n",
       "      <td>Web</td>\n",
       "      <td>My Box For Ideas - www.myidealbox.com</td>\n",
       "      <td>2016-05-16 19:13:11</td>\n",
       "      <td>0</td>\n",
       "      <td>FR</td>\n",
       "      <td>NaN</td>\n",
       "    </tr>\n",
       "    <tr>\n",
       "      <th>84625</th>\n",
       "      <td>1502129617</td>\n",
       "      <td>172.829</td>\n",
       "      <td>failed</td>\n",
       "      <td>Beautiful enough for you but made for your pet</td>\n",
       "      <td>13</td>\n",
       "      <td>Fashion</td>\n",
       "      <td>CAD</td>\n",
       "      <td>2016-09-19 14:27:46</td>\n",
       "      <td>10000</td>\n",
       "      <td>Pet Fashion</td>\n",
       "      <td>Leo &amp; Sam</td>\n",
       "      <td>2016-07-21 14:27:46</td>\n",
       "      <td>514</td>\n",
       "      <td>CA</td>\n",
       "      <td>NaN</td>\n",
       "    </tr>\n",
       "    <tr>\n",
       "      <th>150710</th>\n",
       "      <td>1895494481</td>\n",
       "      <td>7492</td>\n",
       "      <td>failed</td>\n",
       "      <td>Tap. Paint. Love!</td>\n",
       "      <td>107</td>\n",
       "      <td>Technology</td>\n",
       "      <td>USD</td>\n",
       "      <td>2014-05-28 15:57:05</td>\n",
       "      <td>20000</td>\n",
       "      <td>Technology</td>\n",
       "      <td>TapPainter</td>\n",
       "      <td>2014-04-23 15:57:05</td>\n",
       "      <td>7492</td>\n",
       "      <td>US</td>\n",
       "      <td>NaN</td>\n",
       "    </tr>\n",
       "    <tr>\n",
       "      <th>188111</th>\n",
       "      <td>2119851365</td>\n",
       "      <td>6136.68</td>\n",
       "      <td>successful</td>\n",
       "      <td>1st Birthday Celebration!</td>\n",
       "      <td>50</td>\n",
       "      <td>Art</td>\n",
       "      <td>AUD</td>\n",
       "      <td>2014-10-15 16:00:00</td>\n",
       "      <td>6600</td>\n",
       "      <td>Art</td>\n",
       "      <td>Heyokah Art House (ARI)</td>\n",
       "      <td>2014-09-15 01:29:54</td>\n",
       "      <td>6790</td>\n",
       "      <td>AU</td>\n",
       "      <td>NaN</td>\n",
       "    </tr>\n",
       "  </tbody>\n",
       "</table>\n",
       "</div>"
      ],
      "text/plain": [
       "                ID Unnamed: 13     backers  \\\n",
       "250924   562478730           0      failed   \n",
       "190029   213156196           0      failed   \n",
       "84625   1502129617     172.829      failed   \n",
       "150710  1895494481        7492      failed   \n",
       "188111  2119851365     6136.68  successful   \n",
       "\n",
       "                                               category country      currency  \\\n",
       "250924                                      One Percent       0  Film & Video   \n",
       "190029                                 Idea's database.       0    Technology   \n",
       "84625    Beautiful enough for you but made for your pet      13       Fashion   \n",
       "150710                                Tap. Paint. Love!     107    Technology   \n",
       "188111                        1st Birthday Celebration!      50           Art   \n",
       "\n",
       "       deadline                 goal launched main_category  \\\n",
       "250924      USD  2013-01-07 00:35:26    10000   Documentary   \n",
       "190029      EUR  2016-06-15 19:13:11      155           Web   \n",
       "84625       CAD  2016-09-19 14:27:46    10000   Pet Fashion   \n",
       "150710      USD  2014-05-28 15:57:05    20000    Technology   \n",
       "188111      AUD  2014-10-15 16:00:00     6600           Art   \n",
       "\n",
       "                                          name              pledged state  \\\n",
       "250924   Documentary about overcoming the odds  2012-12-08 00:35:26     0   \n",
       "190029  My Box For Ideas - www.myidealbox.com   2016-05-16 19:13:11     0   \n",
       "84625                                Leo & Sam  2016-07-21 14:27:46   514   \n",
       "150710                              TapPainter  2014-04-23 15:57:05  7492   \n",
       "188111                 Heyokah Art House (ARI)  2014-09-15 01:29:54  6790   \n",
       "\n",
       "       usd pledged  usd_pledged_real  \n",
       "250924          US               NaN  \n",
       "190029          FR               NaN  \n",
       "84625           CA               NaN  \n",
       "150710          US               NaN  \n",
       "188111          AU               NaN  "
      ]
     },
     "execution_count": 17,
     "metadata": {},
     "output_type": "execute_result"
    }
   ],
   "source": [
    "data[whats_up != 0].sample(5)"
   ]
  },
  {
   "cell_type": "code",
   "execution_count": 18,
   "metadata": {
    "collapsed": true
   },
   "outputs": [],
   "source": [
    "# data.to_csv('data/all_data.csv')"
   ]
  },
  {
   "cell_type": "code",
   "execution_count": 19,
   "metadata": {
    "collapsed": true
   },
   "outputs": [],
   "source": [
    "bad_data = data[whats_up != 0]"
   ]
  },
  {
   "cell_type": "code",
   "execution_count": 20,
   "metadata": {
    "collapsed": false
   },
   "outputs": [
    {
     "data": {
      "text/plain": [
       ")                                                    7\n",
       "-)                                                   4\n",
       " a short film                                        3\n",
       " an Art Exhibition                                   2\n",
       " Made in the USA                                     2\n",
       " Part 1                                              2\n",
       " give them a try!                                    2\n",
       " 'Take Me Away' ... Become a part of Team Kerrin!    1\n",
       " Verger en Polyculture Orchard                       1\n",
       " Art Exposition + Book                               1\n",
       "Name: category, dtype: int64"
      ]
     },
     "execution_count": 20,
     "metadata": {},
     "output_type": "execute_result"
    }
   ],
   "source": [
    "bad_data['category'].value_counts().head(10)"
   ]
  },
  {
   "cell_type": "code",
   "execution_count": 43,
   "metadata": {
    "collapsed": false
   },
   "outputs": [],
   "source": [
    "good_data = data[whats_up == 0]"
   ]
  },
  {
   "cell_type": "code",
   "execution_count": 44,
   "metadata": {
    "collapsed": false
   },
   "outputs": [
    {
     "data": {
      "text/plain": [
       "(701779, 15)"
      ]
     },
     "execution_count": 44,
     "metadata": {},
     "output_type": "execute_result"
    }
   ],
   "source": [
    "good_data.shape"
   ]
  },
  {
   "cell_type": "code",
   "execution_count": 23,
   "metadata": {
    "collapsed": false
   },
   "outputs": [
    {
     "data": {
      "text/plain": [
       "Product Design    39791\n",
       "Documentary       31030\n",
       "Music             29634\n",
       "Tabletop Games    24888\n",
       "Shorts            24038\n",
       "Food              22026\n",
       "Video Games       21889\n",
       "Film & Video      19315\n",
       "Fiction           17400\n",
       "Fashion           16464\n",
       "Name: category, dtype: int64"
      ]
     },
     "execution_count": 23,
     "metadata": {},
     "output_type": "execute_result"
    }
   ],
   "source": [
    "good_data['category'].value_counts().head(10)"
   ]
  },
  {
   "cell_type": "code",
   "execution_count": 24,
   "metadata": {
    "collapsed": false
   },
   "outputs": [
    {
     "name": "stderr",
     "output_type": "stream",
     "text": [
      "/Users/travis/anaconda2/lib/python2.7/site-packages/ipykernel/__main__.py:5: SettingWithCopyWarning: \n",
      "A value is trying to be set on a copy of a slice from a DataFrame.\n",
      "Try using .loc[row_indexer,col_indexer] = value instead\n",
      "\n",
      "See the caveats in the documentation: http://pandas.pydata.org/pandas-docs/stable/indexing.html#indexing-view-versus-copy\n"
     ]
    }
   ],
   "source": [
    "cats = good_data['category'].unique()\n",
    "\n",
    "(bad_data['usd pledged'] == 'failed').sum()\n",
    "\n",
    "bad_data['name'] += bad_data['category']"
   ]
  },
  {
   "cell_type": "code",
   "execution_count": 28,
   "metadata": {
    "collapsed": false
   },
   "outputs": [],
   "source": [
    "for i in range(2,len(bad_data.columns))[::-1]:\n",
    "    bad_data[bad_data.columns[i-1]]"
   ]
  },
  {
   "cell_type": "code",
   "execution_count": 29,
   "metadata": {
    "collapsed": true
   },
   "outputs": [],
   "source": [
    "# good_data = good_data.iloc[:,:-1]"
   ]
  },
  {
   "cell_type": "code",
   "execution_count": null,
   "metadata": {
    "collapsed": true
   },
   "outputs": [],
   "source": []
  },
  {
   "cell_type": "code",
   "execution_count": 30,
   "metadata": {
    "collapsed": false
   },
   "outputs": [
    {
     "data": {
      "text/plain": [
       "(701779, 13)"
      ]
     },
     "execution_count": 30,
     "metadata": {},
     "output_type": "execute_result"
    }
   ],
   "source": [
    "good_data.shape"
   ]
  },
  {
   "cell_type": "code",
   "execution_count": 31,
   "metadata": {
    "collapsed": false
   },
   "outputs": [],
   "source": [
    "# bad_data.sample(20)"
   ]
  },
  {
   "cell_type": "code",
   "execution_count": 46,
   "metadata": {
    "collapsed": true
   },
   "outputs": [],
   "source": [
    "cats= set(set(good_data['category'].value_counts()))"
   ]
  },
  {
   "cell_type": "code",
   "execution_count": 33,
   "metadata": {
    "collapsed": false
   },
   "outputs": [
    {
     "name": "stdout",
     "output_type": "stream",
     "text": [
      "poop\n"
     ]
    }
   ],
   "source": [
    "output = []\n",
    "with open('data/ks-projects-201612.csv','r') as read_file:\n",
    "    poop = read_file.read()\n",
    "    cols = [x.strip() for x in poop.split('\\n')[0].split(',')]\n",
    "    for line in poop.split('\\n')[1:]:\n",
    "        try:\n",
    "            cells = line.split(',')\n",
    "            if cells[2] in cats:\n",
    "                output.append({col:value for col,value in zip(cols, cells)})\n",
    "            else:\n",
    "                row_out = {}\n",
    "                row_out[cols[0]] = cells[0]\n",
    "                row_out[cols[1]] = cells[1]\n",
    "                row_out[cols[2]] = cells[2] + cells[3]\n",
    "                row_out[cols[3]] = cells[4]\n",
    "                row_out[cols[4]] = cells[5]\n",
    "                row_out[cols[5]] = cells[6]\n",
    "                row_out[cols[6]] = cells[7]\n",
    "                row_out[cols[7]] = cells[8]\n",
    "                row_out[cols[8]] = cells[9]\n",
    "                row_out[cols[9]] = cells[10]\n",
    "                row_out[cols[10]] = cells[11]\n",
    "                row_out[cols[11]] = cells[12]\n",
    "                row_out[cols[12]] = cells[13]\n",
    "                output.append(row_out)\n",
    "        except:\n",
    "            print line + 'poop'"
   ]
  },
  {
   "cell_type": "code",
   "execution_count": 34,
   "metadata": {
    "collapsed": true
   },
   "outputs": [],
   "source": [
    "poop = pd.DataFrame(output)"
   ]
  },
  {
   "cell_type": "code",
   "execution_count": 35,
   "metadata": {
    "collapsed": false
   },
   "outputs": [
    {
     "name": "stderr",
     "output_type": "stream",
     "text": [
      "/Users/travis/anaconda2/lib/python2.7/site-packages/ipykernel/__main__.py:1: SettingWithCopyWarning: \n",
      "A value is trying to be set on a copy of a slice from a DataFrame.\n",
      "Try using .loc[row_indexer,col_indexer] = value instead\n",
      "\n",
      "See the caveats in the documentation: http://pandas.pydata.org/pandas-docs/stable/indexing.html#indexing-view-versus-copy\n",
      "  if __name__ == '__main__':\n"
     ]
    }
   ],
   "source": [
    "bad_data['name'] += bad_data['category']"
   ]
  },
  {
   "cell_type": "code",
   "execution_count": 36,
   "metadata": {
    "collapsed": false
   },
   "outputs": [
    {
     "data": {
      "text/plain": [
       "['ID',\n",
       " 'name',\n",
       " 'category',\n",
       " 'main_category',\n",
       " 'currency',\n",
       " 'deadline',\n",
       " 'goal',\n",
       " 'launched',\n",
       " 'pledged',\n",
       " 'state',\n",
       " 'backers',\n",
       " 'country',\n",
       " 'usd pledged',\n",
       " '',\n",
       " '',\n",
       " '',\n",
       " '']"
      ]
     },
     "execution_count": 36,
     "metadata": {},
     "output_type": "execute_result"
    }
   ],
   "source": [
    "cols"
   ]
  },
  {
   "cell_type": "code",
   "execution_count": 37,
   "metadata": {
    "collapsed": false
   },
   "outputs": [
    {
     "ename": "SyntaxError",
     "evalue": "invalid syntax (<ipython-input-37-15ce840f7b7b>, line 1)",
     "output_type": "error",
     "traceback": [
      "\u001b[0;36m  File \u001b[0;32m\"<ipython-input-37-15ce840f7b7b>\"\u001b[0;36m, line \u001b[0;32m1\u001b[0m\n\u001b[0;31m    for i in cats[2]\u001b[0m\n\u001b[0m                    ^\u001b[0m\n\u001b[0;31mSyntaxError\u001b[0m\u001b[0;31m:\u001b[0m invalid syntax\n"
     ]
    }
   ],
   "source": [
    "for i in cats[2]"
   ]
  },
  {
   "cell_type": "code",
   "execution_count": null,
   "metadata": {
    "collapsed": false
   },
   "outputs": [],
   "source": [
    "good_data['state'].value_counts(1)"
   ]
  },
  {
   "cell_type": "code",
   "execution_count": 38,
   "metadata": {
    "collapsed": false
   },
   "outputs": [
    {
     "data": {
      "text/plain": [
       "17483"
      ]
     },
     "execution_count": 38,
     "metadata": {},
     "output_type": "execute_result"
    }
   ],
   "source": [
    "(poop['goal'].apply(make_fun) == 0).sum()"
   ]
  },
  {
   "cell_type": "code",
   "execution_count": 39,
   "metadata": {
    "collapsed": true
   },
   "outputs": [],
   "source": [
    "with open('data/ks-projects-201612.csv','r') as read_file:\n",
    "    poop = read_file.read()"
   ]
  },
  {
   "cell_type": "code",
   "execution_count": 48,
   "metadata": {
    "collapsed": true
   },
   "outputs": [],
   "source": [
    "good_data.to_csv('data/data_nobadrows.csv')"
   ]
  },
  {
   "cell_type": "code",
   "execution_count": null,
   "metadata": {
    "collapsed": true
   },
   "outputs": [],
   "source": []
  },
  {
   "cell_type": "code",
   "execution_count": 32,
   "metadata": {
    "collapsed": false
   },
   "outputs": [
    {
     "data": {
      "text/plain": [
       "(323750,)"
      ]
     },
     "execution_count": 32,
     "metadata": {},
     "output_type": "execute_result"
    }
   ],
   "source": [
    "data['ID'].unique().shape"
   ]
  },
  {
   "cell_type": "code",
   "execution_count": 88,
   "metadata": {
    "collapsed": false
   },
   "outputs": [
    {
     "data": {
      "text/plain": [
       "(772,)"
      ]
     },
     "execution_count": 88,
     "metadata": {},
     "output_type": "execute_result"
    }
   ],
   "source": [
    "data['category'].unique().shape"
   ]
  },
  {
   "cell_type": "code",
   "execution_count": 89,
   "metadata": {
    "collapsed": false
   },
   "outputs": [
    {
     "data": {
      "text/plain": [
       "(120,)"
      ]
     },
     "execution_count": 89,
     "metadata": {},
     "output_type": "execute_result"
    }
   ],
   "source": [
    "data['main_category'].unique().shape"
   ]
  },
  {
   "cell_type": "code",
   "execution_count": 368,
   "metadata": {
    "collapsed": false
   },
   "outputs": [
    {
     "name": "stdout",
     "output_type": "stream",
     "text": [
      "<class 'pandas.core.frame.DataFrame'>\n",
      "Int64Index: 702411 entries, 0 to 378660\n",
      "Data columns (total 15 columns):\n",
      "ID                  702411 non-null int64\n",
      "Unnamed: 13         625 non-null object\n",
      "backers             702411 non-null object\n",
      "category            702406 non-null object\n",
      "country             702411 non-null object\n",
      "currency            702411 non-null object\n",
      "deadline            702411 non-null object\n",
      "goal                702411 non-null object\n",
      "launched            702411 non-null object\n",
      "main_category       702411 non-null object\n",
      "name                702405 non-null object\n",
      "pledged             702411 non-null object\n",
      "state               702411 non-null object\n",
      "usd pledged         694824 non-null object\n",
      "usd_pledged_real    378661 non-null float64\n",
      "dtypes: float64(1), int64(1), object(13)\n",
      "memory usage: 85.7+ MB\n"
     ]
    }
   ],
   "source": [
    "data.info()"
   ]
  },
  {
   "cell_type": "code",
   "execution_count": 144,
   "metadata": {
    "collapsed": true
   },
   "outputs": [],
   "source": [
    "%matplotlib inline"
   ]
  },
  {
   "cell_type": "code",
   "execution_count": null,
   "metadata": {
    "collapsed": true
   },
   "outputs": [],
   "source": []
  }
 ],
 "metadata": {
  "anaconda-cloud": {},
  "kernelspec": {
   "display_name": "Python [conda root]",
   "language": "python",
   "name": "conda-root-py"
  },
  "language_info": {
   "codemirror_mode": {
    "name": "ipython",
    "version": 2
   },
   "file_extension": ".py",
   "mimetype": "text/x-python",
   "name": "python",
   "nbconvert_exporter": "python",
   "pygments_lexer": "ipython2",
   "version": "2.7.12"
  }
 },
 "nbformat": 4,
 "nbformat_minor": 1
}
