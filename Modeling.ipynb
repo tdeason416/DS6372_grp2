{
 "cells": [
  {
   "cell_type": "code",
   "execution_count": 1,
   "metadata": {
    "collapsed": true
   },
   "outputs": [],
   "source": [
    "import scipy.stats as scs\n",
    "import matplotlib.pyplot as plt\n",
    "import pandas as pd\n",
    "import time\n",
    "import numpy as np\n",
    "import re\n",
    "import json\n",
    "import matplotlib.pyplot as plt\n",
    "import seaborn as sns\n",
    "import requests\n",
    "from datetime import date, datetime, timedelta\n",
    "from collections import Counter\n",
    "plt.style.use('fivethirtyeight')\n",
    "sns.set_style('darkgrid')\n",
    "%matplotlib inline\n",
    "\n",
    "from sklearn import linear_model as lm\n",
    "from sklearn import ensemble as ens\n",
    "\n",
    "from scipy import interp\n",
    "from itertools import cycle\n",
    "from sklearn.metrics import roc_curve, auc\n",
    "from sklearn.model_selection import StratifiedKFold\n",
    "\n",
    "import os"
   ]
  },
  {
   "cell_type": "code",
   "execution_count": 3,
   "metadata": {
    "collapsed": false
   },
   "outputs": [
    {
     "data": {
      "text/plain": [
       "['data_with_dummies.csv',\n",
       " 'data_with_usd.csv',\n",
       " 'data_with_dummies_and_class.csv',\n",
       " 'data_nobadrows.csv',\n",
       " 'all_data.csv',\n",
       " 'data_with_pos',\n",
       " 'ks-projects-201801.csv',\n",
       " 'ks-projects-201612.csv',\n",
       " 'data_with_pos.csv',\n",
       " 'exchange.csv']"
      ]
     },
     "execution_count": 3,
     "metadata": {},
     "output_type": "execute_result"
    }
   ],
   "source": [
    "os.listdir('data')"
   ]
  },
  {
   "cell_type": "code",
   "execution_count": 4,
   "metadata": {
    "collapsed": false
   },
   "outputs": [],
   "source": [
    "df = pd.read_csv('data/data_with_dummies_and_class.csv')"
   ]
  },
  {
   "cell_type": "code",
   "execution_count": 5,
   "metadata": {
    "collapsed": false
   },
   "outputs": [],
   "source": [
    "keep_cols = [x for x in df.columns if 'Unnamed' not in x]\n",
    "df = df[keep_cols].set_index('ID')"
   ]
  },
  {
   "cell_type": "code",
   "execution_count": 6,
   "metadata": {
    "collapsed": false
   },
   "outputs": [
    {
     "data": {
      "text/plain": [
       "(694192, 250)"
      ]
     },
     "execution_count": 6,
     "metadata": {},
     "output_type": "execute_result"
    }
   ],
   "source": [
    "df.shape"
   ]
  },
  {
   "cell_type": "code",
   "execution_count": 8,
   "metadata": {
    "collapsed": false
   },
   "outputs": [],
   "source": [
    "features = Counter()\n",
    "for col in df.columns:\n",
    "    features[col.split('&')[0].strip()] += 1\n",
    "features = pd.Series(features)"
   ]
  },
  {
   "cell_type": "code",
   "execution_count": 48,
   "metadata": {
    "collapsed": false
   },
   "outputs": [
    {
     "data": {
      "text/plain": [
       "backers                      1\n",
       "category                   159\n",
       "country                     22\n",
       "currency                    14\n",
       "deadline_month              12\n",
       "goal                         1\n",
       "launched_month              12\n",
       "length                       1\n",
       "main_category               15\n",
       "name$adj_count               1\n",
       "name$caps_count              1\n",
       "name$determinator_count      1\n",
       "name$noun_count              1\n",
       "name$possesive_count         1\n",
       "name$preposition_count       1\n",
       "name$punc_count              1\n",
       "name$verb_count              1\n",
       "name$word_count              1\n",
       "pledged                      1\n",
       "success                      1\n",
       "usd pledged                  1\n",
       "usd_pledged_real             1\n",
       "dtype: int64"
      ]
     },
     "execution_count": 48,
     "metadata": {},
     "output_type": "execute_result"
    }
   ],
   "source": [
    "features"
   ]
  },
  {
   "cell_type": "code",
   "execution_count": 51,
   "metadata": {
    "collapsed": false
   },
   "outputs": [],
   "source": [
    "dfl = df.drop(['usd pledged', 'pledged', 'usd_pledged_real'], axis=1)"
   ]
  },
  {
   "cell_type": "code",
   "execution_count": 52,
   "metadata": {
    "collapsed": true
   },
   "outputs": [],
   "source": [
    "## drop catagory from axis (too many datapoints [159])\n",
    "df_logis = dfl.drop([col for col in dfl.columns if col.split('&')[0] == 'category'], axis=1)"
   ]
  },
  {
   "cell_type": "code",
   "execution_count": 53,
   "metadata": {
    "collapsed": false
   },
   "outputs": [],
   "source": [
    "df_logis = df_logis.dropna()"
   ]
  },
  {
   "cell_type": "code",
   "execution_count": 54,
   "metadata": {
    "collapsed": false
   },
   "outputs": [
    {
     "data": {
      "text/plain": [
       "backers                     1\n",
       "country                    22\n",
       "currency                   14\n",
       "deadline_month             12\n",
       "goal                        1\n",
       "launched_month             12\n",
       "length                      1\n",
       "main_category              15\n",
       "name$adj_count              1\n",
       "name$caps_count             1\n",
       "name$determinator_count     1\n",
       "name$noun_count             1\n",
       "name$possesive_count        1\n",
       "name$preposition_count      1\n",
       "name$punc_count             1\n",
       "name$verb_count             1\n",
       "name$word_count             1\n",
       "success                     1\n",
       "dtype: int64"
      ]
     },
     "execution_count": 54,
     "metadata": {},
     "output_type": "execute_result"
    }
   ],
   "source": [
    "features = Counter()\n",
    "for col in df_logis.columns:\n",
    "    features[col.split('&')[0].strip()] += 1\n",
    "features = pd.Series(features)\n",
    "features"
   ]
  },
  {
   "cell_type": "code",
   "execution_count": 55,
   "metadata": {
    "collapsed": true
   },
   "outputs": [],
   "source": [
    "## manual model\n",
    "# model = ens.RandomForestClassifier(n_estimators=100, n_jobs=-1, random_state=42)\n",
    "\n",
    "# cv = pd.Series(np.random.choice(range(5), df_logis.shape[0]), index=df_logis.index)\n",
    "\n",
    "# Xtr = df_logis.loc[cv != 0, :]\n",
    "# Xte = df_logis.loc[cv == 0, :]\n",
    "# ytr = Xtr.pop('success')\n",
    "# yte = Xte.pop('success')\n",
    "\n",
    "# model.fit(Xtr, ytr)\n",
    "\n",
    "# # float((model.predict(Xte) == yte).sum()) / yte.size"
   ]
  },
  {
   "cell_type": "code",
   "execution_count": 56,
   "metadata": {
    "collapsed": false
   },
   "outputs": [
    {
     "data": {
      "image/png": "[encoded data removed]",
      "text/plain": [
       "<matplotlib.figure.Figure at 0x111521c50>"
      ]
     },
     "metadata": {},
     "output_type": "display_data"
    }
   ],
   "source": [
    "# #############################################################################\n",
    "# Data IO and generation\n",
    "\n",
    "# Import some data to play with\n",
    "X = df_logis.copy()\n",
    "y = X.pop('success')\n",
    "n_samples, n_features = X.shape\n",
    "\n",
    "# # Add noisy features\n",
    "random_state = np.random.RandomState(42)\n",
    "# # X = np.c_[X, random_state.randn(n_samples, 200 * n_features)]\n",
    "\n",
    "# #############################################################################\n",
    "# Classification and ROC analysis\n",
    "\n",
    "# Run classifier with cross-validation and plot ROC curves\n",
    "cv = StratifiedKFold(n_splits=6)\n",
    "# classifier = svm.SVC(kernel='linear', probability=True,\n",
    "#                      random_state=random_state)\n",
    "classifier = ens.RandomForestClassifier(n_estimators=100, \n",
    "                                        n_jobs=-1, \n",
    "                                        random_state=random_state) \n",
    "\n",
    "tprs = []\n",
    "aucs = []\n",
    "mean_fpr = np.linspace(0, 1, 100)\n",
    "\n",
    "i = 0\n",
    "for train, test in cv.split(X, y):\n",
    "    probs = classifier.fit(X.iloc[train], y.iloc[train]).predict_proba(X.iloc[test])\n",
    "    # Compute ROC curve and area the curve\n",
    "    fpr, tpr, thresholds = roc_curve(y.iloc[test], probs[:, 1])\n",
    "    tprs.append(interp(mean_fpr, fpr, tpr))\n",
    "    tprs[-1][0] = 0.0\n",
    "    roc_auc = auc(fpr, tpr)\n",
    "    aucs.append(roc_auc)\n",
    "    plt.plot(fpr, tpr, lw=1, alpha=0.3,\n",
    "             label='ROC fold %d (AUC = %0.2f)' % (i, roc_auc))\n",
    "    i += 1\n",
    "plt.plot([0, 1], [0, 1], linestyle='--', lw=2, color='r',\n",
    "         label='Luck', alpha=.8)\n",
    "\n",
    "mean_tpr = np.mean(tprs, axis=0)\n",
    "mean_tpr[-1] = 1.0\n",
    "mean_auc = auc(mean_fpr, mean_tpr)\n",
    "std_auc = np.std(aucs)\n",
    "plt.plot(mean_fpr, mean_tpr, color='b',\n",
    "         label=r'Mean ROC (AUC = %0.2f $\\pm$ %0.2f)' % (mean_auc, std_auc),\n",
    "         lw=2, alpha=.8)\n",
    "\n",
    "std_tpr = np.std(tprs, axis=0)\n",
    "tprs_upper = np.minimum(mean_tpr + std_tpr, 1)\n",
    "tprs_lower = np.maximum(mean_tpr - std_tpr, 0)\n",
    "plt.fill_between(mean_fpr, tprs_lower, tprs_upper, color='grey', alpha=.2,\n",
    "                 label=r'$\\pm$ 1 std. dev.')\n",
    "\n",
    "plt.xlim([-0.05, 1.05])\n",
    "plt.ylim([-0.05, 1.05])\n",
    "plt.xlabel('False Positive Rate')\n",
    "plt.ylabel('True Positive Rate')\n",
    "plt.title('Receiver operating characteristic example')\n",
    "plt.legend(loc=\"lower right\")\n",
    "plt.show()"
   ]
  },
  {
   "cell_type": "code",
   "execution_count": null,
   "metadata": {
    "collapsed": true
   },
   "outputs": [],
   "source": []
  }
 ],
 "metadata": {
  "anaconda-cloud": {},
  "kernelspec": {
   "display_name": "Python [conda root]",
   "language": "python",
   "name": "conda-root-py"
  },
  "language_info": {
   "codemirror_mode": {
    "name": "ipython",
    "version": 2
   },
   "file_extension": ".py",
   "mimetype": "text/x-python",
   "name": "python",
   "nbconvert_exporter": "python",
   "pygments_lexer": "ipython2",
   "version": "2.7.12"
  }
 },
 "nbformat": 4,
 "nbformat_minor": 1
}
