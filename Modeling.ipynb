{
 "cells": [
  {
   "cell_type": "code",
   "execution_count": 57,
   "metadata": {
    "collapsed": true
   },
   "outputs": [],
   "source": [
    "import scipy.stats as scs\n",
    "import matplotlib.pyplot as plt\n",
    "import pandas as pd\n",
    "import time\n",
    "import numpy as np\n",
    "import re\n",
    "import json\n",
    "import matplotlib.pyplot as plt\n",
    "import seaborn as sns\n",
    "import requests\n",
    "from datetime import date, datetime, timedelta\n",
    "from collections import Counter\n",
    "plt.style.use('fivethirtyeight')\n",
    "sns.set_style('darkgrid')\n",
    "%matplotlib inline\n",
    "\n",
    "from sklearn import linear_model as lm\n",
    "from sklearn import ensemble as ens\n",
    "\n",
    "from scipy import interp\n",
    "from itertools import cycle\n",
    "from sklearn.metrics import roc_curve, auc\n",
    "from sklearn.model_selection import StratifiedKFold\n",
    "\n",
    "import os"
   ]
  },
  {
   "cell_type": "code",
   "execution_count": 58,
   "metadata": {
    "collapsed": false
   },
   "outputs": [],
   "source": [
    "df = pd.read_csv('data/data_with_dummies_and_class.csv')"
   ]
  },
  {
   "cell_type": "code",
   "execution_count": 59,
   "metadata": {
    "collapsed": false
   },
   "outputs": [],
   "source": [
    "keep_cols = [x for x in df.columns if 'Unnamed' not in x]\n",
    "df = df[keep_cols].set_index('ID')"
   ]
  },
  {
   "cell_type": "code",
   "execution_count": 60,
   "metadata": {
    "collapsed": false
   },
   "outputs": [
    {
     "data": {
      "text/plain": [
       "(694192, 250)"
      ]
     },
     "execution_count": 60,
     "metadata": {},
     "output_type": "execute_result"
    }
   ],
   "source": [
    "df.shape"
   ]
  },
  {
   "cell_type": "code",
   "execution_count": 61,
   "metadata": {
    "collapsed": false
   },
   "outputs": [],
   "source": [
    "features = Counter()\n",
    "for col in df.columns:\n",
    "    features[col.split('&')[0].strip()] += 1\n",
    "features = pd.Series(features)"
   ]
  },
  {
   "cell_type": "code",
   "execution_count": 62,
   "metadata": {
    "collapsed": false
   },
   "outputs": [
    {
     "data": {
      "text/plain": [
       "backers                      1\n",
       "category                   159\n",
       "country                     22\n",
       "currency                    14\n",
       "deadline_month              12\n",
       "goal                         1\n",
       "launched_month              12\n",
       "length                       1\n",
       "main_category               15\n",
       "name$adj_count               1\n",
       "name$caps_count              1\n",
       "name$determinator_count      1\n",
       "name$noun_count              1\n",
       "name$possesive_count         1\n",
       "name$preposition_count       1\n",
       "name$punc_count              1\n",
       "name$verb_count              1\n",
       "name$word_count              1\n",
       "pledged                      1\n",
       "success                      1\n",
       "usd pledged                  1\n",
       "usd_pledged_real             1\n",
       "dtype: int64"
      ]
     },
     "execution_count": 62,
     "metadata": {},
     "output_type": "execute_result"
    }
   ],
   "source": [
    "features"
   ]
  },
  {
   "cell_type": "code",
   "execution_count": 63,
   "metadata": {
    "collapsed": false
   },
   "outputs": [],
   "source": [
    "dfl = df.drop(['usd pledged', 'pledged', 'usd_pledged_real'], axis=1)"
   ]
  },
  {
   "cell_type": "code",
   "execution_count": 64,
   "metadata": {
    "collapsed": true
   },
   "outputs": [],
   "source": [
    "## drop catagory from axis (too many datapoints [159])\n",
    "df_logis = dfl.drop([col for col in dfl.columns if col.split('&')[0] == 'category'], axis=1)"
   ]
  },
  {
   "cell_type": "code",
   "execution_count": 65,
   "metadata": {
    "collapsed": false
   },
   "outputs": [],
   "source": [
    "df_logis = df_logis.dropna()"
   ]
  },
  {
   "cell_type": "code",
   "execution_count": 66,
   "metadata": {
    "collapsed": false
   },
   "outputs": [
    {
     "data": {
      "text/plain": [
       "backers                     1\n",
       "country                    22\n",
       "currency                   14\n",
       "deadline_month             12\n",
       "goal                        1\n",
       "launched_month             12\n",
       "length                      1\n",
       "main_category              15\n",
       "name$adj_count              1\n",
       "name$caps_count             1\n",
       "name$determinator_count     1\n",
       "name$noun_count             1\n",
       "name$possesive_count        1\n",
       "name$preposition_count      1\n",
       "name$punc_count             1\n",
       "name$verb_count             1\n",
       "name$word_count             1\n",
       "success                     1\n",
       "dtype: int64"
      ]
     },
     "execution_count": 66,
     "metadata": {},
     "output_type": "execute_result"
    }
   ],
   "source": [
    "features = Counter()\n",
    "for col in df_logis.columns:\n",
    "    features[col.split('&')[0].strip()] += 1\n",
    "features = pd.Series(features)\n",
    "features"
   ]
  },
  {
   "cell_type": "code",
   "execution_count": 67,
   "metadata": {
    "collapsed": true
   },
   "outputs": [],
   "source": [
    "## manual model\n",
    "# model = ens.RandomForestClassifier(n_estimators=100, n_jobs=-1, random_state=42)\n",
    "\n",
    "# cv = pd.Series(np.random.choice(range(5), df_logis.shape[0]), index=df_logis.index)\n",
    "\n",
    "# Xtr = df_logis.loc[cv != 0, :]\n",
    "# Xte = df_logis.loc[cv == 0, :]\n",
    "# ytr = Xtr.pop('success')\n",
    "# yte = Xte.pop('success')\n",
    "\n",
    "# model.fit(Xtr, ytr)\n",
    "\n",
    "# # float((model.predict(Xte) == yte).sum()) / yte.size"
   ]
  },
  {
   "cell_type": "code",
   "execution_count": 68,
   "metadata": {
    "collapsed": false
   },
   "outputs": [
    {
     "data": {
      "image/png": "[encoded data removed]",
      "text/plain": [
       "<matplotlib.figure.Figure at 0x11dff5210>"
      ]
     },
     "metadata": {},
     "output_type": "display_data"
    }
   ],
   "source": [
    "# #############################################################################\n",
    "# Data IO and generation\n",
    "\n",
    "# Import some data to play with\n",
    "X = df_logis.copy()\n",
    "y = X.pop('success')\n",
    "n_samples, n_features = X.shape\n",
    "\n",
    "# # Add noisy features\n",
    "random_state = np.random.RandomState(42)\n",
    "# # X = np.c_[X, random_state.randn(n_samples, 200 * n_features)]\n",
    "\n",
    "# #############################################################################\n",
    "# Classification and ROC analysis\n",
    "\n",
    "# Run classifier with cross-validation and plot ROC curves\n",
    "cv = StratifiedKFold(n_splits=6)\n",
    "# classifier = svm.SVC(kernel='linear', probability=True,\n",
    "#                      random_state=random_state)\n",
    "classifier = ens.RandomForestClassifier(n_estimators=100, \n",
    "                                        n_jobs=-1, \n",
    "                                        random_state=random_state) \n",
    "\n",
    "tprs = []\n",
    "aucs = []\n",
    "mean_fpr = np.linspace(0, 1, 100)\n",
    "\n",
    "i = 0\n",
    "for train, test in cv.split(X, y):\n",
    "    probs = classifier.fit(X.iloc[train], y.iloc[train]).predict_proba(X.iloc[test])\n",
    "    # Compute ROC curve and area the curve\n",
    "    fpr, tpr, thresholds = roc_curve(y.iloc[test], probs[:, 1])\n",
    "    tprs.append(interp(mean_fpr, fpr, tpr))\n",
    "    tprs[-1][0] = 0.0\n",
    "    roc_auc = auc(fpr, tpr)\n",
    "    aucs.append(roc_auc)\n",
    "    plt.plot(fpr, tpr, lw=1, alpha=0.3,\n",
    "             label='ROC fold %d (AUC = %0.2f)' % (i, roc_auc))\n",
    "    i += 1\n",
    "plt.plot([0, 1], [0, 1], linestyle='--', lw=2, color='r',\n",
    "         label='Luck', alpha=.8)\n",
    "\n",
    "mean_tpr = np.mean(tprs, axis=0)\n",
    "mean_tpr[-1] = 1.0\n",
    "mean_auc = auc(mean_fpr, mean_tpr)\n",
    "std_auc = np.std(aucs)\n",
    "plt.plot(mean_fpr, mean_tpr, color='b',\n",
    "         label=r'Mean ROC (AUC = %0.2f $\\pm$ %0.2f)' % (mean_auc, std_auc),\n",
    "         lw=2, alpha=.8)\n",
    "\n",
    "std_tpr = np.std(tprs, axis=0)\n",
    "tprs_upper = np.minimum(mean_tpr + std_tpr, 1)\n",
    "tprs_lower = np.maximum(mean_tpr - std_tpr, 0)\n",
    "plt.fill_between(mean_fpr, tprs_lower, tprs_upper, color='grey', alpha=.2,\n",
    "                 label=r'$\\pm$ 1 std. dev.')\n",
    "\n",
    "plt.xlim([-0.05, 1.05])\n",
    "plt.ylim([-0.05, 1.05])\n",
    "plt.xlabel('False Positive Rate')\n",
    "plt.ylabel('True Positive Rate')\n",
    "plt.title('Receiver operating characteristic example')\n",
    "plt.legend(loc=\"lower right\")\n",
    "plt.show()"
   ]
  },
  {
   "cell_type": "code",
   "execution_count": 197,
   "metadata": {
    "collapsed": false
   },
   "outputs": [],
   "source": [
    "def cv_build_model(df, y_col, nfolds=5, n_estimators=100, max_features='sqrt', \n",
    "                    criterion='gini', min_samples_leaf=1, random_state=42):\n",
    "    '''\n",
    "    Input Dataframe ready for analysis ouputs probabilities of y_col (y col must be binary or bool)\n",
    "    --------\n",
    "    PARAMETERS\n",
    "    df: pd.DataFrame\n",
    "        -   Must contain all numerical or bool values\n",
    "    y_col: str\n",
    "        -   must be a column within df and contain only either binary or bool values\n",
    "    nfolds: int (default 5):\n",
    "        -   number of times to split dataframe between train and test sets (min value should be 3)\n",
    "    n_estimators: int:\n",
    "        -   Number of decision trees to generate out of the dataset\n",
    "    max_features: str ('sqrt' | 'log2' | 'None' ) {default= 'sqrt'}\n",
    "        -   Max number of features allowed in one individual estimator\n",
    "    criterion: str ('gini' | 'entropy' ) {default=  'gini'}\n",
    "        -   Function used to determine information gain from a split\n",
    "    min_samples_leaf: int default(1)\n",
    "        -   the minimum number of samples in a final terminus for the decision tree\n",
    "    random_state: int {default= 42}\n",
    "        -   random seed for decision tree feature selection and bootstrap \n",
    "    --------\n",
    "    RETURNS\n",
    "    prob_folds, atcual: tuple (list of np.array dtype=float, list of np.array dtype=bool)\n",
    "        -   prob_folds contains the probability that a given value in the test_set is equal to 1\n",
    "        -   atcual contains the atcual value for that datapoint\n",
    "    '''\n",
    "    X = df.copy()\n",
    "    y = X.pop(y_col)\n",
    "    n_samples, n_features = X.shape\n",
    "    ## Define random seed\n",
    "    random_state = np.random.RandomState(random_state)\n",
    "    # Run classifier with cross-validation \n",
    "    cv = StratifiedKFold(nfolds)\n",
    "    classifier = ens.RandomForestClassifier(n_estimators=n_estimators,\n",
    "                                            max_features=max_features, \n",
    "                                            bootstrap=True,\n",
    "                                            n_jobs=-1,\n",
    "                                            criterion=criterion,\n",
    "                                            min_samples_leaf= min_samples_leaf,\n",
    "                                            random_state=random_state) \n",
    "    tprs = []\n",
    "    aucs = []\n",
    "    mean_fpr = np.linspace(0, 1, 100)\n",
    "\n",
    "    prob_folds = []\n",
    "    atcual = []\n",
    "    for train, test in cv.split(X, y):\n",
    "        prob_folds.append(classifier.fit(X.iloc[train], y.iloc[train]).predict_proba(X.iloc[test]))\n",
    "        atcual.append(y.iloc[test])\n",
    "    return prob_folds[:,1], atcual\n",
    "\n",
    "def find_auc(probs, atcual):\n",
    "    '''\n",
    "    Identify Area under ROC curve for a specific model\n",
    "    --------\n",
    "    PARAMETERS\n",
    "    probs: np.array dtype= float\n",
    "        -   probability of the value being True\n",
    "    atcual np.array dtype= bool or int\n",
    "        -   Atcual value of predictor variable as a bool or binary integer\n",
    "    --------\n",
    "    RETURNS (tuple with 3 values)\n",
    "    roc_auc: float\n",
    "        -   area under the curve for the given model\n",
    "    fpr:\n",
    "        -   ratio of atcual false values which were predicted true\n",
    "    tpr:\n",
    "        -   ratio of atcual true values predicted correctly\n",
    "    '''\n",
    "    fpr, tpr, thresholds = roc_curve(atcual, probs)\n",
    "#     fpr, tpr, thresholds = roc_curve(y.iloc[test], probs[:, 1])\n",
    "    roc_auc = auc(fpr, tpr)\n",
    "    return fpr, tpr, roc_auc\n",
    "\n",
    "def plot_auc(folds):\n",
    "    '''\n",
    "    poop\n",
    "    --------\n",
    "    PARAMETERS list of folds - (fpr, tpr, roc_auc)\n",
    "    folds: list of indeterminite length tuples containing (fpr: array, tpr: array, roc_auc: float)\n",
    "        * tpr: array dtype= float\n",
    "            -   ratio of positive values predicted positive by the model\n",
    "        * fpr: array dtype= float\n",
    "            -   ratio of positive values predicted negative by the model\n",
    "        * roc_auc: float\n",
    "            -   area under the ROC curve\n",
    "    '''\n",
    "    i=0\n",
    "    for fpr, tpr, roc_auc in folds:\n",
    "        plt.plot(fpr, tpr, lw=1, alpha=0.3,\n",
    "                label='ROC fold %d (AUC = %0.2f)' % (i, roc_auc))\n",
    "        i += 1\n",
    "    plt.plot([0, 1], [0, 1], linestyle='--', lw=2, color='r',\n",
    "            label='Luck', alpha=.8)\n",
    "    mean_tpr = np.array([np.mean(i) for i in zip(*[t[1] for t in folds])])\n",
    "    mean_fpr = np.array([np.mean(i) for i in zip(*[t[0] for t in folds])])\n",
    "    std_tpr = np.array([np.std(i) for i in zip(*[t[1] for t in folds])])\n",
    "    mean_tpr[-1] = 1.0\n",
    "    mean_auc = auc(mean_fpr, mean_tpr)\n",
    "    std_auc = np.std([i[2] for i in folds])\n",
    "    print mean_auc \n",
    "    print std_auc\n",
    "    plt.plot(mean_fpr, mean_tpr, color='b',\n",
    "            label=r'Mean ROC (AUC = %0.2f $\\pm$ %0.2f)' % (mean_auc, std_auc),\n",
    "            lw=2, alpha=.8)\n",
    "\n",
    "    tprs_upper = np.minimum(mean_tpr + std_tpr, 1)\n",
    "    tprs_lower = np.maximum(mean_tpr - std_tpr, 0)\n",
    "    plt.fill_between(mean_fpr, tprs_lower, tprs_upper, color='grey', alpha=.2,\n",
    "                    label=r'$\\pm$ 1 std. dev.')\n",
    "\n",
    "    plt.xlim([-0.05, 1.05])\n",
    "    plt.ylim([-0.05, 1.05])\n",
    "    plt.xlabel('False Positive Rate')\n",
    "    plt.ylabel('True Positive Rate')\n",
    "    plt.title('Receiver operating characteristic')\n",
    "    plt.legend(loc=\"lower right\")\n",
    "    plt.show()"
   ]
  },
  {
   "cell_type": "code",
   "execution_count": 138,
   "metadata": {
    "collapsed": false
   },
   "outputs": [],
   "source": [
    "# validate_model(df_logis, 'success')"
   ]
  },
  {
   "cell_type": "code",
   "execution_count": 95,
   "metadata": {
    "collapsed": true
   },
   "outputs": [],
   "source": [
    "prob_folds, atcual = cv_build_model(df_logis, 'success')"
   ]
  },
  {
   "cell_type": "code",
   "execution_count": 120,
   "metadata": {
    "collapsed": false
   },
   "outputs": [],
   "source": [
    "tup = find_auc(prob_folds[0][:,1], atcual[0])"
   ]
  },
  {
   "cell_type": "code",
   "execution_count": 148,
   "metadata": {
    "collapsed": false
   },
   "outputs": [
    {
     "name": "stdout",
     "output_type": "stream",
     "text": [
      "0.999676115967\n",
      "0.999746353284\n",
      "0.998903542445\n",
      "0.998299150686\n",
      "0.998517627393\n"
     ]
    }
   ],
   "source": [
    "for i in tup:\n",
    "    print i[2]"
   ]
  },
  {
   "cell_type": "code",
   "execution_count": 198,
   "metadata": {
    "collapsed": false
   },
   "outputs": [
    {
     "name": "stdout",
     "output_type": "stream",
     "text": [
      "0.425670853819\n",
      "0.000590470218301\n"
     ]
    },
    {
     "data": {
      "image/png": "[encoded data removed]",
      "text/plain": [
       "<matplotlib.figure.Figure at 0x13369d0d0>"
      ]
     },
     "metadata": {},
     "output_type": "display_data"
    }
   ],
   "source": [
    "plot_auc(tup)"
   ]
  },
  {
   "cell_type": "code",
   "execution_count": 162,
   "metadata": {
    "collapsed": false
   },
   "outputs": [
    {
     "data": {
      "text/plain": [
       "(5,)"
      ]
     },
     "execution_count": 162,
     "metadata": {},
     "output_type": "execute_result"
    }
   ],
   "source": [
    "np.array([list(t[1]) for t in tup]).shape"
   ]
  },
  {
   "cell_type": "code",
   "execution_count": 171,
   "metadata": {
    "collapsed": false
   },
   "outputs": [
    {
     "data": {
      "text/plain": [
       "0.90460938791842149"
      ]
     },
     "execution_count": 171,
     "metadata": {},
     "output_type": "execute_result"
    }
   ],
   "source": [
    "np.mean(zip(*[t[1] for t in tup]))"
   ]
  },
  {
   "cell_type": "code",
   "execution_count": 172,
   "metadata": {
    "collapsed": false
   },
   "outputs": [
    {
     "data": {
      "text/plain": [
       "0.040695005995964074"
      ]
     },
     "execution_count": 172,
     "metadata": {},
     "output_type": "execute_result"
    }
   ],
   "source": [
    "np.mean(zip(*[t[0] for t in tup]))"
   ]
  },
  {
   "cell_type": "code",
   "execution_count": 180,
   "metadata": {
    "collapsed": false
   },
   "outputs": [
    {
     "data": {
      "text/plain": [
       "0.0005904702183009646"
      ]
     },
     "execution_count": 180,
     "metadata": {},
     "output_type": "execute_result"
    }
   ],
   "source": [
    "np.std([t[2] for t in tup])"
   ]
  },
  {
   "cell_type": "code",
   "execution_count": 179,
   "metadata": {
    "collapsed": false
   },
   "outputs": [
    {
     "data": {
      "text/plain": [
       "[0.025868285652117649,\n",
       " 0.094071460151886194,\n",
       " 0.1881548326543083,\n",
       " 0.26711406993708497,\n",
       " 0.34092369728586447,\n",
       " 0.42840671249212836,\n",
       " 0.49243405446027982,\n",
       " 0.53665652442079925,\n",
       " 0.59736562183756603,\n",
       " 0.6249851493304257,\n",
       " 0.66341676181344966,\n",
       " 0.69311210206733342,\n",
       " 0.72075161005738464,\n",
       " 0.7384606333997723,\n",
       " 0.7604215578241591,\n",
       " 0.7794450074043906,\n",
       " 0.79113481496775839,\n",
       " 0.80836285921020001,\n",
       " 0.81771631153474167,\n",
       " 0.83160218976317712,\n",
       " 0.84329999480916451,\n",
       " 0.84940739850260871,\n",
       " 0.85993902612291317,\n",
       " 0.86678379265496341,\n",
       " 0.87884225184631892,\n",
       " 0.88426036022561616,\n",
       " 0.892331400332804,\n",
       " 0.89724857111717482,\n",
       " 0.90430572306802193,\n",
       " 0.90840937863016147,\n",
       " 0.91662067207439202,\n",
       " 0.92403447914824777,\n",
       " 0.93071492160285685,\n",
       " 0.93623320219595141,\n",
       " 0.93934700661613169,\n",
       " 0.94319417388895754,\n",
       " 0.94698523672738466,\n",
       " 0.94921338998917748,\n",
       " 0.95374182104631333,\n",
       " 0.95658712172139082,\n",
       " 0.95951256898445059,\n",
       " 0.96303111901790994,\n",
       " 0.96358014621980692,\n",
       " 0.9665977590598398,\n",
       " 0.9696554514171174,\n",
       " 0.97137865657871814,\n",
       " 0.97369897678258488,\n",
       " 0.97589105862339776,\n",
       " 0.97708929046049131,\n",
       " 0.97897680548642574,\n",
       " 0.97993859762583246,\n",
       " 0.98135723950575637,\n",
       " 0.98230300207060639,\n",
       " 0.98346115920845811,\n",
       " 0.98446302612740677,\n",
       " 0.98495594528140307,\n",
       " 0.98580552895351248,\n",
       " 0.98641466426957025,\n",
       " 0.98701979253326377,\n",
       " 0.98768503252462048,\n",
       " 0.98829416848307827,\n",
       " 0.98869090649593294,\n",
       " 0.98882315255375119,\n",
       " 0.98923191517659959,\n",
       " 0.98966071482786866,\n",
       " 0.98998532099986891,\n",
       " 0.99039408394391748,\n",
       " 0.99075074910443117,\n",
       " 0.99095513149990588,\n",
       " 0.99135988739159031,\n",
       " 0.99164842680001308,\n",
       " 0.99196902487574901,\n",
       " 0.99218542939191623,\n",
       " 0.99255411739582267,\n",
       " 0.99287070801769439,\n",
       " 0.9929508571752782,\n",
       " 0.99319932092085872,\n",
       " 0.99349988148637336,\n",
       " 0.99366018108634169,\n",
       " 0.9938084584050173,\n",
       " 0.99414909366977411,\n",
       " 0.99442961736746827,\n",
       " 0.99468609610107728,\n",
       " 0.99493856818382231,\n",
       " 0.99519504627503075,\n",
       " 0.99541545728146164,\n",
       " 0.99564789113128516,\n",
       " 0.99572002530084058,\n",
       " 0.99595646620302836,\n",
       " 0.9961969146393802,\n",
       " 0.99634118402239147,\n",
       " 0.9965215204098804,\n",
       " 0.9967419310148109,\n",
       " 0.99683410333698785,\n",
       " 0.99704249206212603,\n",
       " 0.99724687317280014,\n",
       " 0.99733503715781224,\n",
       " 0.99748732136825191,\n",
       " 0.997539419232087,\n",
       " 0.99765964284801245,\n",
       " 0.99783196408687291,\n",
       " 0.99792413600754948,\n",
       " 0.99805638198506763,\n",
       " 0.99814454661247998,\n",
       " 0.99828080004386255,\n",
       " 0.99834491970718964,\n",
       " 0.9983769793381031,\n",
       " 0.99846113651165136,\n",
       " 0.99852926322734259,\n",
       " 0.99867753958241789,\n",
       " 0.99878574083675087,\n",
       " 0.99886588991403458,\n",
       " 0.99890596445267654,\n",
       " 0.99899813629305301,\n",
       " 0.99910233009352178,\n",
       " 0.99913839725859965,\n",
       " 0.99920251652042658,\n",
       " 0.99928667321217479,\n",
       " 0.99930671048149544]"
      ]
     },
     "execution_count": 179,
     "metadata": {},
     "output_type": "execute_result"
    }
   ],
   "source": [
    "[np.mean(i) for i in zip(*[t[1] for t in tup])]"
   ]
  },
  {
   "cell_type": "code",
   "execution_count": null,
   "metadata": {
    "collapsed": true
   },
   "outputs": [],
   "source": []
  }
 ],
 "metadata": {
  "anaconda-cloud": {},
  "kernelspec": {
   "display_name": "Python [conda root]",
   "language": "python",
   "name": "conda-root-py"
  },
  "language_info": {
   "codemirror_mode": {
    "name": "ipython",
    "version": 2
   },
   "file_extension": ".py",
   "mimetype": "text/x-python",
   "name": "python",
   "nbconvert_exporter": "python",
   "pygments_lexer": "ipython2",
   "version": "2.7.12"
  }
 },
 "nbformat": 4,
 "nbformat_minor": 1
}
