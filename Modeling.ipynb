{
 "cells": [
  {
   "cell_type": "code",
   "execution_count": 86,
   "metadata": {
    "collapsed": true
   },
   "outputs": [],
   "source": [
    "import scipy.stats as scs\n",
    "import matplotlib.pyplot as plt\n",
    "import pandas as pd\n",
    "import time\n",
    "import numpy as np\n",
    "import re\n",
    "import json\n",
    "import matplotlib.pyplot as plt\n",
    "import seaborn as sns\n",
    "import requests\n",
    "from datetime import date, datetime, timedelta\n",
    "from collections import Counter\n",
    "plt.style.use('fivethirtyeight')\n",
    "sns.set_style('darkgrid')\n",
    "%matplotlib inline"
   ]
  },
  {
   "cell_type": "code",
   "execution_count": 87,
   "metadata": {
    "collapsed": true
   },
   "outputs": [],
   "source": [
    "import os"
   ]
  },
  {
   "cell_type": "code",
   "execution_count": 88,
   "metadata": {
    "collapsed": false
   },
   "outputs": [
    {
     "data": {
      "text/plain": [
       "['data_with_dummies.csv',\n",
       " 'data_with_usd.csv',\n",
       " 'data_with_dummies_and_class.csv',\n",
       " 'data_nobadrows.csv',\n",
       " 'all_data.csv',\n",
       " 'data_with_pos',\n",
       " 'ks-projects-201801.csv',\n",
       " 'ks-projects-201612.csv',\n",
       " 'data_with_pos.csv',\n",
       " 'exchange.csv']"
      ]
     },
     "execution_count": 88,
     "metadata": {},
     "output_type": "execute_result"
    }
   ],
   "source": [
    "os.listdir('data')"
   ]
  },
  {
   "cell_type": "code",
   "execution_count": 89,
   "metadata": {
    "collapsed": false
   },
   "outputs": [],
   "source": [
    "df = pd.read_csv('data/data_with_dummies_and_class.csv')"
   ]
  },
  {
   "cell_type": "code",
   "execution_count": 90,
   "metadata": {
    "collapsed": false
   },
   "outputs": [],
   "source": [
    "keep_cols = [x for x in df.columns if 'Unnamed' not in x]\n",
    "df = df[keep_cols].set_index('ID')"
   ]
  },
  {
   "cell_type": "code",
   "execution_count": 91,
   "metadata": {
    "collapsed": false
   },
   "outputs": [
    {
     "data": {
      "text/plain": [
       "(694192, 250)"
      ]
     },
     "execution_count": 91,
     "metadata": {},
     "output_type": "execute_result"
    }
   ],
   "source": [
    "df.shape"
   ]
  },
  {
   "cell_type": "code",
   "execution_count": 92,
   "metadata": {
    "collapsed": false
   },
   "outputs": [
    {
     "data": {
      "text/html": [
       "<div>\n",
       "<table border=\"1\" class=\"dataframe\">\n",
       "  <thead>\n",
       "    <tr style=\"text-align: right;\">\n",
       "      <th></th>\n",
       "      <th>backers</th>\n",
       "      <th>goal</th>\n",
       "      <th>pledged</th>\n",
       "      <th>usd pledged</th>\n",
       "      <th>usd_pledged_real</th>\n",
       "      <th>name$word_count</th>\n",
       "      <th>name$punc_count</th>\n",
       "      <th>name$caps_count</th>\n",
       "      <th>name$possesive_count</th>\n",
       "      <th>name$noun_count</th>\n",
       "      <th>...</th>\n",
       "      <th>launched_month&amp;Jul</th>\n",
       "      <th>launched_month&amp;Feb</th>\n",
       "      <th>launched_month&amp;Dec</th>\n",
       "      <th>launched_month&amp;Apr</th>\n",
       "      <th>launched_month&amp;Sep</th>\n",
       "      <th>launched_month&amp;Oct</th>\n",
       "      <th>launched_month&amp;May</th>\n",
       "      <th>launched_month&amp;Nov</th>\n",
       "      <th>launched_month&amp;Jun</th>\n",
       "      <th>success</th>\n",
       "    </tr>\n",
       "    <tr>\n",
       "      <th>ID</th>\n",
       "      <th></th>\n",
       "      <th></th>\n",
       "      <th></th>\n",
       "      <th></th>\n",
       "      <th></th>\n",
       "      <th></th>\n",
       "      <th></th>\n",
       "      <th></th>\n",
       "      <th></th>\n",
       "      <th></th>\n",
       "      <th></th>\n",
       "      <th></th>\n",
       "      <th></th>\n",
       "      <th></th>\n",
       "      <th></th>\n",
       "      <th></th>\n",
       "      <th></th>\n",
       "      <th></th>\n",
       "      <th></th>\n",
       "      <th></th>\n",
       "      <th></th>\n",
       "    </tr>\n",
       "  </thead>\n",
       "  <tbody>\n",
       "    <tr>\n",
       "      <th>1272859096</th>\n",
       "      <td>227</td>\n",
       "      <td>10000</td>\n",
       "      <td>10647</td>\n",
       "      <td>1980.00000</td>\n",
       "      <td>10647.0</td>\n",
       "      <td>9</td>\n",
       "      <td>0.021277</td>\n",
       "      <td>0.170213</td>\n",
       "      <td>0.0</td>\n",
       "      <td>0.777778</td>\n",
       "      <td>...</td>\n",
       "      <td>False</td>\n",
       "      <td>False</td>\n",
       "      <td>False</td>\n",
       "      <td>False</td>\n",
       "      <td>True</td>\n",
       "      <td>False</td>\n",
       "      <td>False</td>\n",
       "      <td>False</td>\n",
       "      <td>False</td>\n",
       "      <td>True</td>\n",
       "    </tr>\n",
       "    <tr>\n",
       "      <th>1007121454</th>\n",
       "      <td>2</td>\n",
       "      <td>20000</td>\n",
       "      <td>6</td>\n",
       "      <td>6.00000</td>\n",
       "      <td>6.0</td>\n",
       "      <td>10</td>\n",
       "      <td>0.040816</td>\n",
       "      <td>0.122449</td>\n",
       "      <td>0.0</td>\n",
       "      <td>0.400000</td>\n",
       "      <td>...</td>\n",
       "      <td>False</td>\n",
       "      <td>False</td>\n",
       "      <td>False</td>\n",
       "      <td>False</td>\n",
       "      <td>False</td>\n",
       "      <td>False</td>\n",
       "      <td>False</td>\n",
       "      <td>False</td>\n",
       "      <td>False</td>\n",
       "      <td>False</td>\n",
       "    </tr>\n",
       "    <tr>\n",
       "      <th>1431471945</th>\n",
       "      <td>1</td>\n",
       "      <td>2500</td>\n",
       "      <td>15</td>\n",
       "      <td>0.00000</td>\n",
       "      <td>15.0</td>\n",
       "      <td>9</td>\n",
       "      <td>0.021277</td>\n",
       "      <td>0.127660</td>\n",
       "      <td>0.0</td>\n",
       "      <td>0.555556</td>\n",
       "      <td>...</td>\n",
       "      <td>False</td>\n",
       "      <td>False</td>\n",
       "      <td>False</td>\n",
       "      <td>False</td>\n",
       "      <td>False</td>\n",
       "      <td>False</td>\n",
       "      <td>False</td>\n",
       "      <td>False</td>\n",
       "      <td>False</td>\n",
       "      <td>False</td>\n",
       "    </tr>\n",
       "    <tr>\n",
       "      <th>1064353512</th>\n",
       "      <td>7</td>\n",
       "      <td>15000</td>\n",
       "      <td>127</td>\n",
       "      <td>134.45428</td>\n",
       "      <td>NaN</td>\n",
       "      <td>3</td>\n",
       "      <td>0.000000</td>\n",
       "      <td>0.142857</td>\n",
       "      <td>0.0</td>\n",
       "      <td>0.666667</td>\n",
       "      <td>...</td>\n",
       "      <td>False</td>\n",
       "      <td>False</td>\n",
       "      <td>True</td>\n",
       "      <td>False</td>\n",
       "      <td>False</td>\n",
       "      <td>False</td>\n",
       "      <td>False</td>\n",
       "      <td>False</td>\n",
       "      <td>False</td>\n",
       "      <td>False</td>\n",
       "    </tr>\n",
       "    <tr>\n",
       "      <th>1065478972</th>\n",
       "      <td>8</td>\n",
       "      <td>5000</td>\n",
       "      <td>618</td>\n",
       "      <td>618.00000</td>\n",
       "      <td>NaN</td>\n",
       "      <td>2</td>\n",
       "      <td>0.000000</td>\n",
       "      <td>0.200000</td>\n",
       "      <td>0.0</td>\n",
       "      <td>0.000000</td>\n",
       "      <td>...</td>\n",
       "      <td>False</td>\n",
       "      <td>False</td>\n",
       "      <td>False</td>\n",
       "      <td>False</td>\n",
       "      <td>True</td>\n",
       "      <td>False</td>\n",
       "      <td>False</td>\n",
       "      <td>False</td>\n",
       "      <td>False</td>\n",
       "      <td>False</td>\n",
       "    </tr>\n",
       "  </tbody>\n",
       "</table>\n",
       "<p>5 rows × 250 columns</p>\n",
       "</div>"
      ],
      "text/plain": [
       "            backers   goal  pledged  usd pledged  usd_pledged_real  \\\n",
       "ID                                                                   \n",
       "1272859096      227  10000    10647   1980.00000           10647.0   \n",
       "1007121454        2  20000        6      6.00000               6.0   \n",
       "1431471945        1   2500       15      0.00000              15.0   \n",
       "1064353512        7  15000      127    134.45428               NaN   \n",
       "1065478972        8   5000      618    618.00000               NaN   \n",
       "\n",
       "            name$word_count  name$punc_count  name$caps_count  \\\n",
       "ID                                                              \n",
       "1272859096                9         0.021277         0.170213   \n",
       "1007121454               10         0.040816         0.122449   \n",
       "1431471945                9         0.021277         0.127660   \n",
       "1064353512                3         0.000000         0.142857   \n",
       "1065478972                2         0.000000         0.200000   \n",
       "\n",
       "            name$possesive_count  name$noun_count   ...    launched_month&Jul  \\\n",
       "ID                                                  ...                         \n",
       "1272859096                   0.0         0.777778   ...                 False   \n",
       "1007121454                   0.0         0.400000   ...                 False   \n",
       "1431471945                   0.0         0.555556   ...                 False   \n",
       "1064353512                   0.0         0.666667   ...                 False   \n",
       "1065478972                   0.0         0.000000   ...                 False   \n",
       "\n",
       "            launched_month&Feb  launched_month&Dec  launched_month&Apr  \\\n",
       "ID                                                                       \n",
       "1272859096               False               False               False   \n",
       "1007121454               False               False               False   \n",
       "1431471945               False               False               False   \n",
       "1064353512               False                True               False   \n",
       "1065478972               False               False               False   \n",
       "\n",
       "           launched_month&Sep launched_month&Oct launched_month&May  \\\n",
       "ID                                                                    \n",
       "1272859096               True              False              False   \n",
       "1007121454              False              False              False   \n",
       "1431471945              False              False              False   \n",
       "1064353512              False              False              False   \n",
       "1065478972               True              False              False   \n",
       "\n",
       "           launched_month&Nov launched_month&Jun success  \n",
       "ID                                                        \n",
       "1272859096              False              False    True  \n",
       "1007121454              False              False   False  \n",
       "1431471945              False              False   False  \n",
       "1064353512              False              False   False  \n",
       "1065478972              False              False   False  \n",
       "\n",
       "[5 rows x 250 columns]"
      ]
     },
     "execution_count": 92,
     "metadata": {},
     "output_type": "execute_result"
    }
   ],
   "source": [
    "df.sample(5)"
   ]
  },
  {
   "cell_type": "code",
   "execution_count": 93,
   "metadata": {
    "collapsed": false
   },
   "outputs": [],
   "source": [
    "features = Counter()\n",
    "for col in df.columns:\n",
    "    features[col.split('&')[0].strip()] += 1\n",
    "features = pd.Series(features)"
   ]
  },
  {
   "cell_type": "code",
   "execution_count": 94,
   "metadata": {
    "collapsed": false
   },
   "outputs": [
    {
     "data": {
      "text/plain": [
       "backers                      1\n",
       "category                   159\n",
       "country                     22\n",
       "currency                    14\n",
       "deadline_month              12\n",
       "goal                         1\n",
       "launched_month              12\n",
       "length                       1\n",
       "main_category               15\n",
       "name$adj_count               1\n",
       "name$caps_count              1\n",
       "name$determinator_count      1\n",
       "name$noun_count              1\n",
       "name$possesive_count         1\n",
       "name$preposition_count       1\n",
       "name$punc_count              1\n",
       "name$verb_count              1\n",
       "name$word_count              1\n",
       "pledged                      1\n",
       "success                      1\n",
       "usd pledged                  1\n",
       "usd_pledged_real             1\n",
       "dtype: int64"
      ]
     },
     "execution_count": 94,
     "metadata": {},
     "output_type": "execute_result"
    }
   ],
   "source": [
    "features"
   ]
  },
  {
   "cell_type": "code",
   "execution_count": 95,
   "metadata": {
    "collapsed": false
   },
   "outputs": [],
   "source": [
    "dfl = df.drop(['usd pledged', 'pledged'], axis=1)"
   ]
  },
  {
   "cell_type": "code",
   "execution_count": 96,
   "metadata": {
    "collapsed": true
   },
   "outputs": [],
   "source": [
    "df_logis = dfl.drop([col for col in dfl.columns if col.split('&')[0] == 'category'], axis=1)"
   ]
  },
  {
   "cell_type": "code",
   "execution_count": 97,
   "metadata": {
    "collapsed": false
   },
   "outputs": [],
   "source": [
    "df_logis = df_logis.dropna()"
   ]
  },
  {
   "cell_type": "code",
   "execution_count": 98,
   "metadata": {
    "collapsed": true
   },
   "outputs": [],
   "source": [
    "from sklearn import linear_model as lm"
   ]
  },
  {
   "cell_type": "code",
   "execution_count": 99,
   "metadata": {
    "collapsed": true
   },
   "outputs": [],
   "source": [
    "model = lm.LogisticRegression(C=.8)"
   ]
  },
  {
   "cell_type": "code",
   "execution_count": 100,
   "metadata": {
    "collapsed": true
   },
   "outputs": [],
   "source": [
    "cv = pd.Series(np.random.choice(range(5), df_logis.shape[0]), index=df_logis.index)"
   ]
  },
  {
   "cell_type": "code",
   "execution_count": 101,
   "metadata": {
    "collapsed": false
   },
   "outputs": [
    {
     "data": {
      "text/plain": [
       "(374863,)"
      ]
     },
     "execution_count": 101,
     "metadata": {},
     "output_type": "execute_result"
    }
   ],
   "source": [
    "df_logis.index.shape"
   ]
  },
  {
   "cell_type": "code",
   "execution_count": 102,
   "metadata": {
    "collapsed": false
   },
   "outputs": [
    {
     "data": {
      "text/plain": [
       "(374863,)"
      ]
     },
     "execution_count": 102,
     "metadata": {},
     "output_type": "execute_result"
    }
   ],
   "source": [
    "df_logis.index.unique().shape"
   ]
  },
  {
   "cell_type": "code",
   "execution_count": 103,
   "metadata": {
    "collapsed": false
   },
   "outputs": [],
   "source": [
    "Xtr = df_logis.loc[cv != 0, :]\n",
    "Xte = df_logis.loc[cv == 0, :]\n",
    "ytr = Xtr.pop('success')\n",
    "yte = Xte.pop('success')"
   ]
  },
  {
   "cell_type": "code",
   "execution_count": 104,
   "metadata": {
    "collapsed": false
   },
   "outputs": [
    {
     "ename": "ValueError",
     "evalue": "bad input shape (75383, 88)",
     "output_type": "error",
     "traceback": [
      "\u001b[0;31m---------------------------------------------------------------------------\u001b[0m",
      "\u001b[0;31mValueError\u001b[0m                                Traceback (most recent call last)",
      "\u001b[0;32m<ipython-input-104-b1f0a0b82391>\u001b[0m in \u001b[0;36m<module>\u001b[0;34m()\u001b[0m\n\u001b[0;32m----> 1\u001b[0;31m \u001b[0mmodel\u001b[0m\u001b[0;34m.\u001b[0m\u001b[0mfit\u001b[0m\u001b[0;34m(\u001b[0m\u001b[0mXtr\u001b[0m\u001b[0;34m,\u001b[0m \u001b[0mXte\u001b[0m\u001b[0;34m)\u001b[0m\u001b[0;34m\u001b[0m\u001b[0m\n\u001b[0m",
      "\u001b[0;32m/Users/travis/anaconda2/lib/python2.7/site-packages/sklearn/linear_model/logistic.pyc\u001b[0m in \u001b[0;36mfit\u001b[0;34m(self, X, y, sample_weight)\u001b[0m\n\u001b[1;32m   1171\u001b[0m \u001b[0;34m\u001b[0m\u001b[0m\n\u001b[1;32m   1172\u001b[0m         X, y = check_X_y(X, y, accept_sparse='csr', dtype=np.float64,\n\u001b[0;32m-> 1173\u001b[0;31m                          order=\"C\")\n\u001b[0m\u001b[1;32m   1174\u001b[0m         \u001b[0mcheck_classification_targets\u001b[0m\u001b[0;34m(\u001b[0m\u001b[0my\u001b[0m\u001b[0;34m)\u001b[0m\u001b[0;34m\u001b[0m\u001b[0m\n\u001b[1;32m   1175\u001b[0m         \u001b[0mself\u001b[0m\u001b[0;34m.\u001b[0m\u001b[0mclasses_\u001b[0m \u001b[0;34m=\u001b[0m \u001b[0mnp\u001b[0m\u001b[0;34m.\u001b[0m\u001b[0munique\u001b[0m\u001b[0;34m(\u001b[0m\u001b[0my\u001b[0m\u001b[0;34m)\u001b[0m\u001b[0;34m\u001b[0m\u001b[0m\n",
      "\u001b[0;32m/Users/travis/anaconda2/lib/python2.7/site-packages/sklearn/utils/validation.pyc\u001b[0m in \u001b[0;36mcheck_X_y\u001b[0;34m(X, y, accept_sparse, dtype, order, copy, force_all_finite, ensure_2d, allow_nd, multi_output, ensure_min_samples, ensure_min_features, y_numeric, warn_on_dtype, estimator)\u001b[0m\n\u001b[1;32m    524\u001b[0m                         dtype=None)\n\u001b[1;32m    525\u001b[0m     \u001b[0;32melse\u001b[0m\u001b[0;34m:\u001b[0m\u001b[0;34m\u001b[0m\u001b[0m\n\u001b[0;32m--> 526\u001b[0;31m         \u001b[0my\u001b[0m \u001b[0;34m=\u001b[0m \u001b[0mcolumn_or_1d\u001b[0m\u001b[0;34m(\u001b[0m\u001b[0my\u001b[0m\u001b[0;34m,\u001b[0m \u001b[0mwarn\u001b[0m\u001b[0;34m=\u001b[0m\u001b[0mTrue\u001b[0m\u001b[0;34m)\u001b[0m\u001b[0;34m\u001b[0m\u001b[0m\n\u001b[0m\u001b[1;32m    527\u001b[0m         \u001b[0m_assert_all_finite\u001b[0m\u001b[0;34m(\u001b[0m\u001b[0my\u001b[0m\u001b[0;34m)\u001b[0m\u001b[0;34m\u001b[0m\u001b[0m\n\u001b[1;32m    528\u001b[0m     \u001b[0;32mif\u001b[0m \u001b[0my_numeric\u001b[0m \u001b[0;32mand\u001b[0m \u001b[0my\u001b[0m\u001b[0;34m.\u001b[0m\u001b[0mdtype\u001b[0m\u001b[0;34m.\u001b[0m\u001b[0mkind\u001b[0m \u001b[0;34m==\u001b[0m \u001b[0;34m'O'\u001b[0m\u001b[0;34m:\u001b[0m\u001b[0;34m\u001b[0m\u001b[0m\n",
      "\u001b[0;32m/Users/travis/anaconda2/lib/python2.7/site-packages/sklearn/utils/validation.pyc\u001b[0m in \u001b[0;36mcolumn_or_1d\u001b[0;34m(y, warn)\u001b[0m\n\u001b[1;32m    560\u001b[0m         \u001b[0;32mreturn\u001b[0m \u001b[0mnp\u001b[0m\u001b[0;34m.\u001b[0m\u001b[0mravel\u001b[0m\u001b[0;34m(\u001b[0m\u001b[0my\u001b[0m\u001b[0;34m)\u001b[0m\u001b[0;34m\u001b[0m\u001b[0m\n\u001b[1;32m    561\u001b[0m \u001b[0;34m\u001b[0m\u001b[0m\n\u001b[0;32m--> 562\u001b[0;31m     \u001b[0;32mraise\u001b[0m \u001b[0mValueError\u001b[0m\u001b[0;34m(\u001b[0m\u001b[0;34m\"bad input shape {0}\"\u001b[0m\u001b[0;34m.\u001b[0m\u001b[0mformat\u001b[0m\u001b[0;34m(\u001b[0m\u001b[0mshape\u001b[0m\u001b[0;34m)\u001b[0m\u001b[0;34m)\u001b[0m\u001b[0;34m\u001b[0m\u001b[0m\n\u001b[0m\u001b[1;32m    563\u001b[0m \u001b[0;34m\u001b[0m\u001b[0m\n\u001b[1;32m    564\u001b[0m \u001b[0;34m\u001b[0m\u001b[0m\n",
      "\u001b[0;31mValueError\u001b[0m: bad input shape (75383, 88)"
     ]
    }
   ],
   "source": [
    "model.fit(Xtr, Xte)"
   ]
  },
  {
   "cell_type": "code",
   "execution_count": null,
   "metadata": {
    "collapsed": false
   },
   "outputs": [],
   "source": [
    "Xtr[np.isnan(Xtr['name$punc_count'])]"
   ]
  },
  {
   "cell_type": "code",
   "execution_count": 78,
   "metadata": {
    "collapsed": false
   },
   "outputs": [
    {
     "data": {
      "text/html": [
       "<div>\n",
       "<table border=\"1\" class=\"dataframe\">\n",
       "  <thead>\n",
       "    <tr style=\"text-align: right;\">\n",
       "      <th></th>\n",
       "      <th>goal</th>\n",
       "      <th>backers</th>\n",
       "      <th>name$word_count</th>\n",
       "      <th>name$punc_count</th>\n",
       "      <th>name$caps_count</th>\n",
       "      <th>name$possesive_count</th>\n",
       "      <th>name$noun_count</th>\n",
       "      <th>name$adj_count</th>\n",
       "      <th>name$verb_count</th>\n",
       "      <th>name$preposition_count</th>\n",
       "      <th>...</th>\n",
       "      <th>launched_month&amp;Mar</th>\n",
       "      <th>launched_month&amp;Jul</th>\n",
       "      <th>launched_month&amp;Feb</th>\n",
       "      <th>launched_month&amp;Dec</th>\n",
       "      <th>launched_month&amp;Apr</th>\n",
       "      <th>launched_month&amp;Sep</th>\n",
       "      <th>launched_month&amp;Oct</th>\n",
       "      <th>launched_month&amp;May</th>\n",
       "      <th>launched_month&amp;Nov</th>\n",
       "      <th>launched_month&amp;Jun</th>\n",
       "    </tr>\n",
       "    <tr>\n",
       "      <th>ID</th>\n",
       "      <th></th>\n",
       "      <th></th>\n",
       "      <th></th>\n",
       "      <th></th>\n",
       "      <th></th>\n",
       "      <th></th>\n",
       "      <th></th>\n",
       "      <th></th>\n",
       "      <th></th>\n",
       "      <th></th>\n",
       "      <th></th>\n",
       "      <th></th>\n",
       "      <th></th>\n",
       "      <th></th>\n",
       "      <th></th>\n",
       "      <th></th>\n",
       "      <th></th>\n",
       "      <th></th>\n",
       "      <th></th>\n",
       "      <th></th>\n",
       "      <th></th>\n",
       "    </tr>\n",
       "  </thead>\n",
       "  <tbody>\n",
       "    <tr>\n",
       "      <th>518903190</th>\n",
       "      <td>3500</td>\n",
       "      <td>84</td>\n",
       "      <td>0</td>\n",
       "      <td>inf</td>\n",
       "      <td>NaN</td>\n",
       "      <td>NaN</td>\n",
       "      <td>NaN</td>\n",
       "      <td>NaN</td>\n",
       "      <td>NaN</td>\n",
       "      <td>NaN</td>\n",
       "      <td>...</td>\n",
       "      <td>True</td>\n",
       "      <td>False</td>\n",
       "      <td>False</td>\n",
       "      <td>False</td>\n",
       "      <td>False</td>\n",
       "      <td>False</td>\n",
       "      <td>False</td>\n",
       "      <td>False</td>\n",
       "      <td>False</td>\n",
       "      <td>False</td>\n",
       "    </tr>\n",
       "  </tbody>\n",
       "</table>\n",
       "<p>1 rows × 87 columns</p>\n",
       "</div>"
      ],
      "text/plain": [
       "           goal  backers  name$word_count  name$punc_count  name$caps_count  \\\n",
       "ID                                                                            \n",
       "518903190  3500       84                0              inf              NaN   \n",
       "\n",
       "           name$possesive_count  name$noun_count  name$adj_count  \\\n",
       "ID                                                                 \n",
       "518903190                   NaN              NaN             NaN   \n",
       "\n",
       "           name$verb_count  name$preposition_count        ...          \\\n",
       "ID                                                        ...           \n",
       "518903190              NaN                     NaN        ...           \n",
       "\n",
       "           launched_month&Mar launched_month&Jul launched_month&Feb  \\\n",
       "ID                                                                    \n",
       "518903190                True              False              False   \n",
       "\n",
       "          launched_month&Dec launched_month&Apr launched_month&Sep  \\\n",
       "ID                                                                   \n",
       "518903190              False              False              False   \n",
       "\n",
       "          launched_month&Oct launched_month&May launched_month&Nov  \\\n",
       "ID                                                                   \n",
       "518903190              False              False              False   \n",
       "\n",
       "          launched_month&Jun  \n",
       "ID                            \n",
       "518903190              False  \n",
       "\n",
       "[1 rows x 87 columns]"
      ]
     },
     "execution_count": 78,
     "metadata": {},
     "output_type": "execute_result"
    }
   ],
   "source": [
    "Xtr[Xtr['name$punc_count'] == np.inf]"
   ]
  },
  {
   "cell_type": "code",
   "execution_count": null,
   "metadata": {
    "collapsed": true
   },
   "outputs": [],
   "source": []
  }
 ],
 "metadata": {
  "anaconda-cloud": {},
  "kernelspec": {
   "display_name": "Python [conda root]",
   "language": "python",
   "name": "conda-root-py"
  },
  "language_info": {
   "codemirror_mode": {
    "name": "ipython",
    "version": 2
   },
   "file_extension": ".py",
   "mimetype": "text/x-python",
   "name": "python",
   "nbconvert_exporter": "python",
   "pygments_lexer": "ipython2",
   "version": "2.7.12"
  }
 },
 "nbformat": 4,
 "nbformat_minor": 1
}
