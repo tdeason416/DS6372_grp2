{
 "cells": [
  {
   "cell_type": "code",
   "execution_count": 331,
   "metadata": {
    "collapsed": false
   },
   "outputs": [],
   "source": [
    "import scipy.stats as scs\n",
    "import matplotlib.pyplot as plt\n",
    "import pandas as pd\n",
    "import time\n",
    "import numpy as np\n",
    "import re\n",
    "import json\n",
    "import matplotlib.pyplot as plt\n",
    "import seaborn as sns\n",
    "import requests\n",
    "from datetime import date, datetime, timedelta\n",
    "from collections import Counter\n",
    "plt.style.use('fivethirtyeight')\n",
    "sns.set_style('darkgrid')\n",
    "%matplotlib inline"
   ]
  },
  {
   "cell_type": "code",
   "execution_count": 2,
   "metadata": {
    "collapsed": true
   },
   "outputs": [],
   "source": [
    "df = pd.read_csv('data/data_nobadrows.csv')"
   ]
  },
  {
   "cell_type": "code",
   "execution_count": 3,
   "metadata": {
    "collapsed": false
   },
   "outputs": [
    {
     "name": "stdout",
     "output_type": "stream",
     "text": [
      "<class 'pandas.core.frame.DataFrame'>\n",
      "RangeIndex: 701506 entries, 0 to 701505\n",
      "Data columns (total 14 columns):\n",
      "Unnamed: 0       701506 non-null int64\n",
      "ID               701506 non-null int64\n",
      "name             701500 non-null object\n",
      "category         701506 non-null object\n",
      "main_category    701506 non-null object\n",
      "currency         701506 non-null object\n",
      "deadline         701506 non-null object\n",
      "goal             701506 non-null float64\n",
      "launched         701506 non-null object\n",
      "pledged          701506 non-null float64\n",
      "state            701506 non-null object\n",
      "backers          701506 non-null int64\n",
      "country          701506 non-null object\n",
      "usd pledged      693919 non-null float64\n",
      "dtypes: float64(3), int64(3), object(8)\n",
      "memory usage: 74.9+ MB\n"
     ]
    }
   ],
   "source": [
    "df.info()"
   ]
  },
  {
   "cell_type": "markdown",
   "metadata": {},
   "source": [
    "* all tables seem good except usd_pledged  time to find out what's going on here"
   ]
  },
  {
   "cell_type": "code",
   "execution_count": 4,
   "metadata": {
    "collapsed": false
   },
   "outputs": [
    {
     "data": {
      "text/html": [
       "<div>\n",
       "<table border=\"1\" class=\"dataframe\">\n",
       "  <thead>\n",
       "    <tr style=\"text-align: right;\">\n",
       "      <th></th>\n",
       "      <th>Unnamed: 0</th>\n",
       "      <th>ID</th>\n",
       "      <th>name</th>\n",
       "      <th>category</th>\n",
       "      <th>main_category</th>\n",
       "      <th>currency</th>\n",
       "      <th>deadline</th>\n",
       "      <th>goal</th>\n",
       "      <th>launched</th>\n",
       "      <th>pledged</th>\n",
       "      <th>state</th>\n",
       "      <th>backers</th>\n",
       "      <th>country</th>\n",
       "      <th>usd pledged</th>\n",
       "    </tr>\n",
       "  </thead>\n",
       "  <tbody>\n",
       "    <tr>\n",
       "      <th>618503</th>\n",
       "      <td>295658</td>\n",
       "      <td>574780336</td>\n",
       "      <td>Roberto lomeli first e.p</td>\n",
       "      <td>Music</td>\n",
       "      <td>Music</td>\n",
       "      <td>USD</td>\n",
       "      <td>2015-04-05</td>\n",
       "      <td>1500.0</td>\n",
       "      <td>2015-03-06 19:33:08</td>\n",
       "      <td>76.0</td>\n",
       "      <td>undefined</td>\n",
       "      <td>0</td>\n",
       "      <td>N,0\"</td>\n",
       "      <td>NaN</td>\n",
       "    </tr>\n",
       "    <tr>\n",
       "      <th>58591</th>\n",
       "      <td>58744</td>\n",
       "      <td>1348999949</td>\n",
       "      <td>Recording Endeavors: Jalisah Ray Originals</td>\n",
       "      <td>Music</td>\n",
       "      <td>Music</td>\n",
       "      <td>USD</td>\n",
       "      <td>2015-07-22 18:03:32</td>\n",
       "      <td>2200.0</td>\n",
       "      <td>2015-06-22 18:03:32</td>\n",
       "      <td>2420.0</td>\n",
       "      <td>undefined</td>\n",
       "      <td>0</td>\n",
       "      <td>N,\"0</td>\n",
       "      <td>NaN</td>\n",
       "    </tr>\n",
       "    <tr>\n",
       "      <th>414846</th>\n",
       "      <td>92001</td>\n",
       "      <td>1467351300</td>\n",
       "      <td>SANTA MIRA: The Web Series pilot episode</td>\n",
       "      <td>Film &amp; Video</td>\n",
       "      <td>Film &amp; Video</td>\n",
       "      <td>USD</td>\n",
       "      <td>2016-04-17</td>\n",
       "      <td>6000.0</td>\n",
       "      <td>2016-03-18 19:29:52</td>\n",
       "      <td>0.0</td>\n",
       "      <td>undefined</td>\n",
       "      <td>0</td>\n",
       "      <td>N,0\"</td>\n",
       "      <td>NaN</td>\n",
       "    </tr>\n",
       "  </tbody>\n",
       "</table>\n",
       "</div>"
      ],
      "text/plain": [
       "        Unnamed: 0          ID                                        name  \\\n",
       "618503      295658   574780336                    Roberto lomeli first e.p   \n",
       "58591        58744  1348999949  Recording Endeavors: Jalisah Ray Originals   \n",
       "414846       92001  1467351300    SANTA MIRA: The Web Series pilot episode   \n",
       "\n",
       "            category main_category currency             deadline    goal  \\\n",
       "618503         Music         Music      USD           2015-04-05  1500.0   \n",
       "58591          Music         Music      USD  2015-07-22 18:03:32  2200.0   \n",
       "414846  Film & Video  Film & Video      USD           2016-04-17  6000.0   \n",
       "\n",
       "                   launched  pledged      state  backers country  usd pledged  \n",
       "618503  2015-03-06 19:33:08     76.0  undefined        0    N,0\"          NaN  \n",
       "58591   2015-06-22 18:03:32   2420.0  undefined        0    N,\"0          NaN  \n",
       "414846  2016-03-18 19:29:52      0.0  undefined        0    N,0\"          NaN  "
      ]
     },
     "execution_count": 4,
     "metadata": {},
     "output_type": "execute_result"
    }
   ],
   "source": [
    "df[np.isnan(df['usd pledged'])].sample(3)"
   ]
  },
  {
   "cell_type": "markdown",
   "metadata": {},
   "source": [
    "* it looks like the n/a columns are those which the region is not defined.  Since USD otherwise would define an absolute value for cost (implying pledged typically results in non USD values, we will have to attempt to convert the pledged price to a USD value based on exchange rates (we will use both launch date exchange rates and deadline exchange rates to see which provies the better predictive power\n",
    "\n",
    "* but, as a start, we will drop these values."
   ]
  },
  {
   "cell_type": "code",
   "execution_count": 5,
   "metadata": {
    "collapsed": false
   },
   "outputs": [],
   "source": [
    "keep_cols = [x for x in df.columns if 'Unnamed' not in x]"
   ]
  },
  {
   "cell_type": "code",
   "execution_count": 6,
   "metadata": {
    "collapsed": true
   },
   "outputs": [],
   "source": [
    "df = df[keep_cols]"
   ]
  },
  {
   "cell_type": "code",
   "execution_count": 7,
   "metadata": {
    "collapsed": false
   },
   "outputs": [
    {
     "data": {
      "text/plain": [
       "<matplotlib.axes._subplots.AxesSubplot at 0x11f07de90>"
      ]
     },
     "execution_count": 7,
     "metadata": {},
     "output_type": "execute_result"
    },
    {
     "data": {
      "image/png": "[encoded data removed]",
      "text/plain": [
       "<matplotlib.figure.Figure at 0x1069d1250>"
      ]
     },
     "metadata": {},
     "output_type": "display_data"
    }
   ],
   "source": [
    "df.goal[df.goal < 100000].hist(bins=30)"
   ]
  },
  {
   "cell_type": "markdown",
   "metadata": {},
   "source": [
    "* Keep everything as integer values"
   ]
  },
  {
   "cell_type": "code",
   "execution_count": 14,
   "metadata": {
    "collapsed": false
   },
   "outputs": [],
   "source": [
    "df.loc[:,'goal'] = df.loc[:,'goal'].astype(int)\n",
    "df.loc[:,'pledged'] = df.loc[:,'pledged'].astype(int)\n",
    "df.loc[:,'backers'] = df.loc[:,'backers'].astype(int)"
   ]
  },
  {
   "cell_type": "code",
   "execution_count": 18,
   "metadata": {
    "collapsed": false
   },
   "outputs": [
    {
     "name": "stdout",
     "output_type": "stream",
     "text": [
      "The top 90.0% of Kickstarters Have 0 Backers\n",
      "The top 80.0% of Kickstarters Have 1 Backers\n",
      "The top 70.0% of Kickstarters Have 2 Backers\n",
      "The top 60.0% of Kickstarters Have 5 Backers\n",
      "The top 50.0% of Kickstarters Have 12 Backers\n",
      "The top 40.0% of Kickstarters Have 23 Backers\n",
      "The top 30.0% of Kickstarters Have 41 Backers\n",
      "The top 20.0% of Kickstarters Have 75 Backers\n",
      "The top 10.0% of Kickstarters Have 163 Backers\n"
     ]
    }
   ],
   "source": [
    "for i in np.arange(.1,1,.1):\n",
    "    print('The top {}% of Kickstarters Have {:.0f} Backers'\\\n",
    "          .format((1-i) * 100,df['backers'].quantile(i)))"
   ]
  },
  {
   "cell_type": "markdown",
   "metadata": {},
   "source": [
    "* it looks like almost 30% of all kickstarters have only one backer (which we can probably assume to be the person that started the kickstarter or a close family member in most cases)\n",
    "\n",
    "* datetime seems like too much information as well, so I am going to change that to just date"
   ]
  },
  {
   "cell_type": "code",
   "execution_count": 19,
   "metadata": {
    "collapsed": true
   },
   "outputs": [],
   "source": [
    "def get_date(dt):\n",
    "    '''\n",
    "    convert datetime string to python datetime.date output\n",
    "    --------\n",
    "    PARAMETERS\n",
    "    dt: str - Date or datetime input (can also be in datetime.datetime format)\n",
    "    --------\n",
    "    RETURNS\n",
    "    dateout: datetime.date - truncated datetime as date\n",
    "    '''\n",
    "    dlst = str(dt).strip().split()[0].split('-')\n",
    "    return date(int(dlst[0]), int(dlst[1]), int(dlst[2]))"
   ]
  },
  {
   "cell_type": "code",
   "execution_count": 20,
   "metadata": {
    "collapsed": false
   },
   "outputs": [],
   "source": [
    "df['launched'] = df['launched'].apply(get_date)\n",
    "df['deadline'] = df['deadline'].apply(get_date)"
   ]
  },
  {
   "cell_type": "code",
   "execution_count": 28,
   "metadata": {
    "collapsed": true
   },
   "outputs": [],
   "source": [
    "get_nasty = df[np.isnan(df['usd pledged'])]"
   ]
  },
  {
   "cell_type": "code",
   "execution_count": 30,
   "metadata": {
    "collapsed": false
   },
   "outputs": [],
   "source": [
    "dates = get_nasty['launched'].unique()"
   ]
  },
  {
   "cell_type": "code",
   "execution_count": 57,
   "metadata": {
    "collapsed": false
   },
   "outputs": [],
   "source": [
    "currencys = ','.join(get_nasty['currency'].unique())"
   ]
  },
  {
   "cell_type": "code",
   "execution_count": 35,
   "metadata": {
    "collapsed": true
   },
   "outputs": [],
   "source": [
    "curr_key = '6de5280be3f44310ea96a1eba680752e'"
   ]
  },
  {
   "cell_type": "code",
   "execution_count": 61,
   "metadata": {
    "collapsed": false
   },
   "outputs": [],
   "source": [
    "url= \"http://data.fixer.io/api/{date}?access_key={key}&symbols={curs}&format=1\"\n",
    "\n",
    "url_f = url.format(**{'date': '2017-10-03', 'key': curr_key, 'curs' : currencys})\n",
    "req_obj = requests.get(url_f)\n",
    "cols = ['date']\n",
    "for x in req_obj.json()['rates']:\n",
    "    cols.append(x)"
   ]
  },
  {
   "cell_type": "code",
   "execution_count": 84,
   "metadata": {
    "collapsed": false
   },
   "outputs": [],
   "source": [
    "url_dict = {'date' : 'XXXX-XX-XX',\n",
    "           'key' : curr_key,\n",
    "           'curs': currencys}"
   ]
  },
  {
   "cell_type": "code",
   "execution_count": 87,
   "metadata": {
    "collapsed": true
   },
   "outputs": [],
   "source": [
    "url_dict['date'] = dates[0]\n",
    "\n",
    "api_req = requests.get(url.format(**url_dict))"
   ]
  },
  {
   "cell_type": "code",
   "execution_count": 110,
   "metadata": {
    "collapsed": false
   },
   "outputs": [],
   "source": [
    "## one time use function, does not need to be used agian\n",
    "# with open('data/exchange.csv', 'w') as exchange:\n",
    "#     exchange.write(','.join(cols))"
   ]
  },
  {
   "cell_type": "code",
   "execution_count": 111,
   "metadata": {
    "collapsed": false
   },
   "outputs": [],
   "source": [
    "api_json = api_req.json()\n",
    "out =  [api_json[cols[0]]]\n",
    "for col in cols[1:]:\n",
    "    out.append(str(api_json['rates'][col]))\n",
    "with open('data/exchange.csv', 'ab') as exchange:\n",
    "    exchange.write('\\n'+','.join(out))"
   ]
  },
  {
   "cell_type": "code",
   "execution_count": 150,
   "metadata": {
    "collapsed": false
   },
   "outputs": [],
   "source": [
    "for date in ['2014-08-06']:#dates[552:]:\n",
    "    url_dict['date'] = date\n",
    "    api_req = requests.get(url.format(**url_dict))\n",
    "    api_json = api_req.json()\n",
    "    out =  [api_json[cols[0]]]\n",
    "    for col in cols[1:]:\n",
    "        out.append(str(api_json['rates'][col]))\n",
    "    with open('data/exchange.csv', 'ab') as exchange:\n",
    "        exchange.write('\\n'+','.join(out))\n",
    "    time.sleep(2)"
   ]
  },
  {
   "cell_type": "code",
   "execution_count": 222,
   "metadata": {
    "collapsed": true
   },
   "outputs": [],
   "source": [
    "exchange_rates['EUR'] = exchange_rates['USD'] * 1.16"
   ]
  },
  {
   "cell_type": "code",
   "execution_count": 225,
   "metadata": {
    "collapsed": false
   },
   "outputs": [],
   "source": [
    "exchange_rates = pd.read_csv('data/exchange.csv').set_index('date')"
   ]
  },
  {
   "cell_type": "code",
   "execution_count": 229,
   "metadata": {
    "collapsed": true
   },
   "outputs": [],
   "source": [
    "get_nasty = get_nasty[get_nasty['currency'] != 'DKK']"
   ]
  },
  {
   "cell_type": "code",
   "execution_count": 233,
   "metadata": {
    "collapsed": false
   },
   "outputs": [
    {
     "data": {
      "text/plain": [
       "Index([u'ID', u'name', u'category', u'main_category', u'currency', u'deadline',\n",
       "       u'goal', u'launched', u'pledged', u'state', u'backers', u'country',\n",
       "       u'usd pledged'],\n",
       "      dtype='object')"
      ]
     },
     "execution_count": 233,
     "metadata": {},
     "output_type": "execute_result"
    }
   ],
   "source": [
    "get_nasty.columns"
   ]
  },
  {
   "cell_type": "code",
   "execution_count": 234,
   "metadata": {
    "collapsed": false
   },
   "outputs": [
    {
     "name": "stderr",
     "output_type": "stream",
     "text": [
      "/Users/travis/anaconda2/lib/python2.7/site-packages/ipykernel/__main__.py:1: SettingWithCopyWarning: \n",
      "A value is trying to be set on a copy of a slice from a DataFrame.\n",
      "Try using .loc[row_indexer,col_indexer] = value instead\n",
      "\n",
      "See the caveats in the documentation: http://pandas.pydata.org/pandas-docs/stable/indexing.html#indexing-view-versus-copy\n",
      "  if __name__ == '__main__':\n"
     ]
    }
   ],
   "source": [
    "get_nasty_['usd pledged'] = get_nasty_.T.apply(lambda x: x['pledged'] * \\\n",
    "                 exchange_rates.loc[str(x['launched']),'USD'] / \\\n",
    "                 exchange_rates.loc[str(x['launched']),x['currency']]) "
   ]
  },
  {
   "cell_type": "code",
   "execution_count": 236,
   "metadata": {
    "collapsed": false
   },
   "outputs": [],
   "source": [
    "df.loc[get_nasty_.index, 'usd pledged'] = get_nasty['usd pledged']"
   ]
  },
  {
   "cell_type": "code",
   "execution_count": 238,
   "metadata": {
    "collapsed": false
   },
   "outputs": [],
   "source": [
    "df_ = df[~np.isnan(df['usd pledged'])]"
   ]
  },
  {
   "cell_type": "code",
   "execution_count": 242,
   "metadata": {
    "collapsed": false
   },
   "outputs": [],
   "source": [
    "df_.to_csv('data/data_with_usd.csv')"
   ]
  },
  {
   "cell_type": "markdown",
   "metadata": {},
   "source": [
    "## Generate parts of speech"
   ]
  },
  {
   "cell_type": "code",
   "execution_count": 243,
   "metadata": {
    "collapsed": true
   },
   "outputs": [],
   "source": [
    "df = pd.read_csv('data/data_with_usd.csv')"
   ]
  },
  {
   "cell_type": "code",
   "execution_count": 263,
   "metadata": {
    "collapsed": false
   },
   "outputs": [],
   "source": [
    "## there were a few unnamed kickstarters (these are probably errors)\n",
    "df.loc[:,'name'] = df.loc[:,'name'].fillna('None')"
   ]
  },
  {
   "cell_type": "code",
   "execution_count": null,
   "metadata": {
    "collapsed": true
   },
   "outputs": [],
   "source": [
    "names = df['name']"
   ]
  },
  {
   "cell_type": "code",
   "execution_count": 365,
   "metadata": {
    "collapsed": false
   },
   "outputs": [],
   "source": [
    "lett_count = names.apply(lambda x: len(re.sub('[^a-z]', '', x.lower())))"
   ]
  },
  {
   "cell_type": "code",
   "execution_count": 264,
   "metadata": {
    "collapsed": false
   },
   "outputs": [],
   "source": [
    "word_count = names.apply(lambda x: len(re.findall(\"[a-z']+\", x.lower())))"
   ]
  },
  {
   "cell_type": "code",
   "execution_count": 367,
   "metadata": {
    "collapsed": false
   },
   "outputs": [],
   "source": [
    "punc_count = names.apply(lambda x: len(re.findall(\"[\\p{P}\\d]\", x))) / lett_count"
   ]
  },
  {
   "cell_type": "code",
   "execution_count": 368,
   "metadata": {
    "collapsed": false
   },
   "outputs": [],
   "source": [
    "caps_count = names.apply(lambda x: len(re.findall(\"[A-Z]\", x))) / lett_count"
   ]
  },
  {
   "cell_type": "code",
   "execution_count": 311,
   "metadata": {
    "collapsed": false
   },
   "outputs": [],
   "source": [
    "words = names.apply(lambda x: re.findall(\"[a-z']+\", x).lower())"
   ]
  },
  {
   "cell_type": "code",
   "execution_count": 304,
   "metadata": {
    "collapsed": false
   },
   "outputs": [
    {
     "data": {
      "text/plain": [
       "647900    [SF, Bay, Area, recording, studio, to, record,...\n",
       "332470                                  [Test, Tune, Track]\n",
       "170227          [BRuX, A, Personal, Coffee, Brewer, Bottle]\n",
       "463217               [Kaution, Kurves, Plus, Size, Fashion]\n",
       "439976           [LocoBiz, Put, your, Skills, on, The, Map]\n",
       "Name: name, dtype: object"
      ]
     },
     "execution_count": 304,
     "metadata": {},
     "output_type": "execute_result"
    }
   ],
   "source": [
    "words.sample(5)"
   ]
  },
  {
   "cell_type": "code",
   "execution_count": 288,
   "metadata": {
    "collapsed": true
   },
   "outputs": [],
   "source": [
    "import nltk"
   ]
  },
  {
   "cell_type": "code",
   "execution_count": 318,
   "metadata": {
    "collapsed": true
   },
   "outputs": [],
   "source": [
    "text = nltk.pos_tag(words.loc[463217])"
   ]
  },
  {
   "cell_type": "code",
   "execution_count": 321,
   "metadata": {
    "collapsed": false
   },
   "outputs": [
    {
     "data": {
      "text/plain": [
       "['NN', 'NNS', 'CC', 'NN', 'NN']"
      ]
     },
     "execution_count": 321,
     "metadata": {},
     "output_type": "execute_result"
    }
   ],
   "source": [
    "[t[1] for t in text]"
   ]
  },
  {
   "cell_type": "code",
   "execution_count": 320,
   "metadata": {
    "collapsed": false
   },
   "outputs": [],
   "source": [
    "parts_of_speech = words.apply(lambda x: nltk.pos_tag(x))"
   ]
  },
  {
   "cell_type": "code",
   "execution_count": 323,
   "metadata": {
    "collapsed": false
   },
   "outputs": [],
   "source": [
    "just_pos = parts_of_speech.apply(lambda x: [i[1] for i in x])"
   ]
  },
  {
   "cell_type": "code",
   "execution_count": 335,
   "metadata": {
    "collapsed": false
   },
   "outputs": [],
   "source": [
    "def get_count(cell):\n",
    "    cnt_dict = Counter()\n",
    "    for i in cell:\n",
    "        cnt_dict[i[:2]] += 1\n",
    "    return cnt_dict"
   ]
  },
  {
   "cell_type": "code",
   "execution_count": 336,
   "metadata": {
    "collapsed": false
   },
   "outputs": [],
   "source": [
    "pos_counts = just_pos.apply(get_count)"
   ]
  },
  {
   "cell_type": "code",
   "execution_count": 337,
   "metadata": {
    "collapsed": false
   },
   "outputs": [
    {
     "data": {
      "text/plain": [
       "354504    {u'DT': 1, u'NN': 1, u'JJ': 1, u'IN': 1}\n",
       "368017                                  {u'NN': 4}\n",
       "2133                {u'JJ': 1, u'NN': 5, u'IN': 1}\n",
       "408717    {u'CC': 1, u'VB': 1, u'JJ': 1, u'NN': 3}\n",
       "355152              {u'VB': 1, u'NN': 4, u'IN': 1}\n",
       "Name: name, dtype: object"
      ]
     },
     "execution_count": 337,
     "metadata": {},
     "output_type": "execute_result"
    }
   ],
   "source": [
    "pos_counts.sample(5)"
   ]
  },
  {
   "cell_type": "code",
   "execution_count": 339,
   "metadata": {
    "collapsed": false
   },
   "outputs": [
    {
     "data": {
      "text/plain": [
       "10"
      ]
     },
     "execution_count": 339,
     "metadata": {},
     "output_type": "execute_result"
    }
   ],
   "source": [
    "pos_counts.apply(lambda x: len(x)).max()"
   ]
  },
  {
   "cell_type": "code",
   "execution_count": 346,
   "metadata": {
    "collapsed": false
   },
   "outputs": [],
   "source": [
    "pos_types = Counter()\n",
    "for cell in pos_counts:\n",
    "    for val in cell.keys():\n",
    "        pos_types[val] += cell[val]"
   ]
  },
  {
   "cell_type": "code",
   "execution_count": 347,
   "metadata": {
    "collapsed": false
   },
   "outputs": [
    {
     "data": {
      "text/plain": [
       "Counter({'$': 4,\n",
       "         \"''\": 863,\n",
       "         'CC': 52547,\n",
       "         'CD': 17623,\n",
       "         'DT': 326017,\n",
       "         'EX': 576,\n",
       "         'FW': 6063,\n",
       "         'IN': 263042,\n",
       "         'JJ': 488132,\n",
       "         'LS': 9,\n",
       "         'MD': 7244,\n",
       "         'NN': 2007157,\n",
       "         'PD': 1788,\n",
       "         'PO': 2772,\n",
       "         'PR': 74076,\n",
       "         'RB': 68396,\n",
       "         'RP': 9868,\n",
       "         'SY': 83,\n",
       "         'TO': 39261,\n",
       "         'UH': 309,\n",
       "         'VB': 434796,\n",
       "         'WD': 3619,\n",
       "         'WP': 4260,\n",
       "         'WR': 6291})"
      ]
     },
     "execution_count": 347,
     "metadata": {},
     "output_type": "execute_result"
    }
   ],
   "source": [
    "pos_types"
   ]
  },
  {
   "cell_type": "markdown",
   "metadata": {},
   "source": [
    "* WP = Possesive Pronoun\n",
    "* NN = Noun (any type)\n",
    "* JJ = adjective (any type)\n",
    "* VB = Verb (any type)\n",
    "* IN = preposition\n",
    "* DT = Determinator"
   ]
  },
  {
   "cell_type": "code",
   "execution_count": 354,
   "metadata": {
    "collapsed": true
   },
   "outputs": [],
   "source": [
    "possesive_count = pos_counts.apply(lambda x: x.get('WP', 0)) / word_count\n",
    "noun_count = pos_counts.apply(lambda x: x.get('NN', 0)) / word_count\n",
    "adj_count = pos_counts.apply(lambda x: x.get('JJ', 0)) / word_count\n",
    "verb_count = pos_counts.apply(lambda x: x.get('VB', 0)) / word_count\n",
    "preposition_count = pos_counts.apply(lambda x: x.get('IN', 0)) / word_count\n",
    "determinator_count = pos_counts.apply(lambda x: x.get('DT', 0)) / word_count"
   ]
  },
  {
   "cell_type": "code",
   "execution_count": 369,
   "metadata": {
    "collapsed": true
   },
   "outputs": [],
   "source": [
    "df['word_count'] = word_count\n",
    "df['punc_count'] = punc_count\n",
    "df['caps_count'] = caps_count\n",
    "df['possesive_count'] = possesive_count\n",
    "df['noun_count'] = noun_count\n",
    "df['adj_count'] = adj_count\n",
    "df['verb_count'] = verb_count\n",
    "df['preposition_count'] = preposition_count\n",
    "df['determinator_count'] = determinator_count"
   ]
  },
  {
   "cell_type": "code",
   "execution_count": 381,
   "metadata": {
    "collapsed": true
   },
   "outputs": [],
   "source": [
    "keep_cols = [x for x in df.columns if 'Unnamed' not in x]"
   ]
  },
  {
   "cell_type": "code",
   "execution_count": 383,
   "metadata": {
    "collapsed": true
   },
   "outputs": [],
   "source": [
    "df = df[keep_cols]"
   ]
  },
  {
   "cell_type": "code",
   "execution_count": 384,
   "metadata": {
    "collapsed": true
   },
   "outputs": [],
   "source": [
    "df.to_csv('data/data_with_pos')"
   ]
  },
  {
   "cell_type": "markdown",
   "metadata": {},
   "source": [
    "* oddly enough, it looks like 1.5 % of canceled kickstarted atcually met thier fincancial goal"
   ]
  },
  {
   "cell_type": "markdown",
   "metadata": {},
   "source": [
    "## Add dummy cols and convert all values to features"
   ]
  },
  {
   "cell_type": "code",
   "execution_count": 386,
   "metadata": {
    "collapsed": true
   },
   "outputs": [],
   "source": [
    "ndf = df.copy()"
   ]
  },
  {
   "cell_type": "code",
   "execution_count": 387,
   "metadata": {
    "collapsed": false
   },
   "outputs": [],
   "source": [
    "## Create dummy cols\n",
    "for cat in df['category'].unique():\n",
    "    ndf['category&{}'.format(cat)] = df['category'] == cat\n",
    "for cat in df['main_category'].unique():\n",
    "    ndf['main_category&{}'.format(cat)] = df['main_category'] == cat\n",
    "for cat in df['country'].unique():\n",
    "    ndf['country&{}'.format(cat)] = df['country'] == cat\n",
    "for cat in df['currency'].unique():\n",
    "    ndf['currency&{}'.format(cat)] = df['currency'] == cat"
   ]
  },
  {
   "cell_type": "code",
   "execution_count": 391,
   "metadata": {
    "collapsed": true
   },
   "outputs": [],
   "source": [
    "ndf.drop(['category', 'main_category', 'country', 'currency', 'name'], axis=1, inplace=True)"
   ]
  },
  {
   "cell_type": "code",
   "execution_count": 433,
   "metadata": {
    "collapsed": false
   },
   "outputs": [],
   "source": [
    "ndf['deadline'] = df.loc[:,'deadline'].apply(pd.Timestamp)\n",
    "ndf['launched'] = df.loc[:,'launched'].apply(pd.Timestamp)\n",
    "\n",
    "ndf['deadline_month'] = ndf.loc[:,'deadline'].apply(lambda x: x.strftime('%b'))\n",
    "ndf['launched_month'] = ndf.loc[:,'launched'].apply(lambda x: x.strftime('%b'))\n",
    "\n",
    "ndf['length'] = (ndf['deadline'] - ndf['launched']).apply(lambda x: x.days)\n",
    "\n",
    "for cat in ndf['deadline_month'].unique():\n",
    "    ndf['deadline_month&{}'.format(cat)] = ndf['deadline_month'] == cat\n",
    "    \n",
    "for cat in ndf['launched_month'].unique():\n",
    "    ndf['launched_month&{}'.format(cat)] = ndf['deadline_month'] == cat\n",
    "\n",
    "for cat in df['country'].unique():\n",
    "    ndf['country&{}'.format(cat)] = df['country'] == cat\n",
    "\n",
    "ndf.drop(['launched_month', 'country', 'deadline_month', 'launched', 'deadline'],\n",
    "         axis=1, inplace=True)"
   ]
  },
  {
   "cell_type": "code",
   "execution_count": 410,
   "metadata": {
    "collapsed": false
   },
   "outputs": [
    {
     "data": {
      "text/plain": [
       "(693919, 251)"
      ]
     },
     "execution_count": 410,
     "metadata": {},
     "output_type": "execute_result"
    }
   ],
   "source": [
    "ndf.shape"
   ]
  },
  {
   "cell_type": "code",
   "execution_count": 411,
   "metadata": {
    "collapsed": false
   },
   "outputs": [
    {
     "data": {
      "text/plain": [
       "failed        365595\n",
       "successful    246711\n",
       "canceled       71067\n",
       "live            7225\n",
       "suspended       3321\n",
       "Name: state, dtype: int64"
      ]
     },
     "execution_count": 411,
     "metadata": {},
     "output_type": "execute_result"
    }
   ],
   "source": [
    "ndf['state'].value_counts()"
   ]
  },
  {
   "cell_type": "code",
   "execution_count": 413,
   "metadata": {
    "collapsed": false
   },
   "outputs": [],
   "source": [
    "failed = ndf[ndf['state'] == 'failed']"
   ]
  },
  {
   "cell_type": "code",
   "execution_count": 429,
   "metadata": {
    "collapsed": false
   },
   "outputs": [],
   "source": [
    "# failed[(failed['goal'] - failed['pledged'] < 0)]"
   ]
  },
  {
   "cell_type": "code",
   "execution_count": null,
   "metadata": {
    "collapsed": true
   },
   "outputs": [],
   "source": [
    "ndf['success'] = (ndf['state'] == 'successful') | (ndf['pledged'] > ndf['goal'])"
   ]
  },
  {
   "cell_type": "code",
   "execution_count": 389,
   "metadata": {
    "collapsed": false
   },
   "outputs": [],
   "source": [
    "for cat in df['country'].unique():\n",
    "    ndf['country&{}'.format(cat)] = df['country'] == cat"
   ]
  },
  {
   "cell_type": "code",
   "execution_count": 426,
   "metadata": {
    "collapsed": true
   },
   "outputs": [],
   "source": [
    "ndf.drop('state', axis=1, inplace=True)"
   ]
  },
  {
   "cell_type": "code",
   "execution_count": 427,
   "metadata": {
    "collapsed": true
   },
   "outputs": [],
   "source": [
    "ndf.to_csv('data/data_with_dummies.csv')"
   ]
  },
  {
   "cell_type": "code",
   "execution_count": 428,
   "metadata": {
    "collapsed": false
   },
   "outputs": [
    {
     "name": "stdout",
     "output_type": "stream",
     "text": [
      "<class 'pandas.core.frame.DataFrame'>\n",
      "RangeIndex: 693919 entries, 0 to 693918\n",
      "Columns: 251 entries, ID to success\n",
      "dtypes: bool(235), datetime64[ns](2), float64(9), int64(5)\n",
      "memory usage: 240.2 MB\n"
     ]
    }
   ],
   "source": [
    "ndf.info()"
   ]
  },
  {
   "cell_type": "code",
   "execution_count": 87,
   "metadata": {
    "collapsed": false
   },
   "outputs": [
    {
     "name": "stdout",
     "output_type": "stream",
     "text": [
      "0.0 : 1.0\n",
      "0.1 : 21.0\n",
      "0.2 : 30.0\n",
      "0.3 : 30.0\n",
      "0.4 : 30.0\n",
      "0.5 : 30.0\n",
      "0.6 : 30.0\n",
      "0.7 : 34.0\n",
      "0.8 : 43.0\n",
      "0.9 : 60.0\n"
     ]
    }
   ],
   "source": [
    "for i in np.arange(0,1,.1):\n",
    "    print('{} : {}'.format(i,ndf['length'].quantile(i)))"
   ]
  },
  {
   "cell_type": "code",
   "execution_count": 431,
   "metadata": {
    "collapsed": false
   },
   "outputs": [
    {
     "name": "stdout",
     "output_type": "stream",
     "text": [
      "total 598152\r\n",
      "-rw-r--r--  1 travis  staff  100371588 Apr  3 17:49 all_data.csv\r\n",
      "-rw-r--r--  1 travis  staff  100234685 Apr  3 18:26 data_nobadrows.csv\r\n",
      "-rw-r--r--  1 travis  staff      70074 Apr 14 17:54 exchange.csv\r\n",
      "-rw-r--r--@ 1 travis  staff   46500324 Feb  8 09:02 ks-projects-201612.csv\r\n",
      "-rw-r--r--@ 1 travis  staff   58030359 Feb  8 09:02 ks-projects-201801.csv\r\n"
     ]
    }
   ],
   "source": [
    "!ls -l data"
   ]
  }
 ],
 "metadata": {
  "anaconda-cloud": {},
  "kernelspec": {
   "display_name": "Python [conda root]",
   "language": "python",
   "name": "conda-root-py"
  },
  "language_info": {
   "codemirror_mode": {
    "name": "ipython",
    "version": 2
   },
   "file_extension": ".py",
   "mimetype": "text/x-python",
   "name": "python",
   "nbconvert_exporter": "python",
   "pygments_lexer": "ipython2",
   "version": "2.7.12"
  }
 },
 "nbformat": 4,
 "nbformat_minor": 1
}
