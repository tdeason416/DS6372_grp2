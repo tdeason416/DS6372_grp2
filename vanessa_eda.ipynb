{
 "cells": [
  {
   "cell_type": "code",
   "execution_count": 1,
   "metadata": {
    "collapsed": true
   },
   "outputs": [],
   "source": [
    "import numpy as np\n",
    "import pandas as pd\n",
    "import seaborn as sns\n",
    "import matplotlib.pyplot as plt\n",
    "%matplotlib inline\n",
    "sns.set_style('darkgrid')\n",
    "import os\n",
    "\n",
    "from datetime import timedelta, datetime, date"
   ]
  },
  {
   "cell_type": "code",
   "execution_count": 53,
   "metadata": {
    "collapsed": true
   },
   "outputs": [],
   "source": [
    "def to_date(x):\n",
    "    date_str = x.strip().split()[0].split('-')\n",
    "    return date(int(date_str[0]), int(date_str[1]), int(date_str[2]))"
   ]
  },
  {
   "cell_type": "code",
   "execution_count": 3,
   "metadata": {
    "collapsed": false
   },
   "outputs": [
    {
     "data": {
      "text/plain": [
       "['data_nobadrows.csv',\n",
       " 'all_data.csv',\n",
       " 'ks-projects-201801.csv',\n",
       " 'ks-projects-201612.csv']"
      ]
     },
     "execution_count": 3,
     "metadata": {},
     "output_type": "execute_result"
    }
   ],
   "source": [
    "# print(os.listdir(\"../vanessatorres/desktop/kickstarter-projects\"))\n",
    "os.listdir('data')"
   ]
  },
  {
   "cell_type": "code",
   "execution_count": 8,
   "metadata": {
    "collapsed": false
   },
   "outputs": [
    {
     "name": "stdout",
     "output_type": "stream",
     "text": [
      "<class 'pandas.core.frame.DataFrame'>\n",
      "RangeIndex: 701506 entries, 0 to 701505\n",
      "Data columns (total 14 columns):\n",
      "Unnamed: 0       701506 non-null int64\n",
      "ID               701506 non-null int64\n",
      "name             701500 non-null object\n",
      "category         701506 non-null object\n",
      "main_category    701506 non-null object\n",
      "currency         701506 non-null object\n",
      "deadline         701506 non-null object\n",
      "goal             701506 non-null float64\n",
      "launched         701506 non-null object\n",
      "pledged          701506 non-null float64\n",
      "state            701506 non-null object\n",
      "backers          701506 non-null int64\n",
      "country          701506 non-null object\n",
      "usd pledged      693919 non-null float64\n",
      "dtypes: float64(3), int64(3), object(8)\n",
      "memory usage: 74.9+ MB\n"
     ]
    }
   ],
   "source": [
    "df_ks16 = pd.read_csv(\"data/data_nobadrows.csv\")\n",
    "df_ks16.info()\n",
    "# df_ks16.head(n=3)"
   ]
  },
  {
   "cell_type": "code",
   "execution_count": 6,
   "metadata": {
    "collapsed": true
   },
   "outputs": [],
   "source": [
    "# df_ks16.drop(['Unnamed: 13', 'Unnamed: 14', 'Unnamed: 15', 'Unnamed: 16'], axis=1, inplace=True)"
   ]
  },
  {
   "cell_type": "code",
   "execution_count": 9,
   "metadata": {
    "collapsed": false
   },
   "outputs": [],
   "source": [
    "df_ks16.columns = [col.strip() for col in df_ks16.columns]\n",
    "# cols = df_ks16.columns.tolist()\n",
    "# for entry in np.arange(0,len(cols),1):\n",
    "#     cols[entry] = cols[entry].rstrip()\n",
    "# df_ks16.columns = cols\n",
    "# df_ks16.columns"
   ]
  },
  {
   "cell_type": "code",
   "execution_count": 10,
   "metadata": {
    "collapsed": false
   },
   "outputs": [
    {
     "name": "stdout",
     "output_type": "stream",
     "text": [
      "<class 'pandas.core.frame.DataFrame'>\n",
      "RangeIndex: 701506 entries, 0 to 701505\n",
      "Data columns (total 14 columns):\n",
      "Unnamed: 0       701506 non-null int64\n",
      "ID               701506 non-null int64\n",
      "name             701500 non-null object\n",
      "category         701506 non-null object\n",
      "main_category    701506 non-null object\n",
      "currency         701506 non-null object\n",
      "deadline         701506 non-null object\n",
      "goal             701506 non-null float64\n",
      "launched         701506 non-null object\n",
      "pledged          701506 non-null float64\n",
      "state            701506 non-null object\n",
      "backers          701506 non-null int64\n",
      "country          701506 non-null object\n",
      "usd pledged      693919 non-null float64\n",
      "dtypes: float64(3), int64(3), object(8)\n",
      "memory usage: 74.9+ MB\n"
     ]
    }
   ],
   "source": [
    "df_ks16.info()"
   ]
  },
  {
   "cell_type": "code",
   "execution_count": 25,
   "metadata": {
    "collapsed": false
   },
   "outputs": [
    {
     "name": "stdout",
     "output_type": "stream",
     "text": [
      "<class 'pandas.core.frame.DataFrame'>\n",
      "RangeIndex: 701506 entries, 0 to 701505\n",
      "Data columns (total 14 columns):\n",
      "Unnamed: 0       701506 non-null int64\n",
      "ID               701506 non-null int64\n",
      "name             701500 non-null object\n",
      "category         701506 non-null object\n",
      "main_category    701506 non-null object\n",
      "currency         701506 non-null object\n",
      "deadline         701506 non-null object\n",
      "goal             701506 non-null float64\n",
      "launched         701506 non-null object\n",
      "pledged          701506 non-null float64\n",
      "state            701506 non-null object\n",
      "backers          701506 non-null int64\n",
      "country          701506 non-null object\n",
      "usd pledged      693919 non-null float64\n",
      "dtypes: float64(3), int64(3), object(8)\n",
      "memory usage: 74.9+ MB\n"
     ]
    }
   ],
   "source": [
    "df_ks16[['goal', 'pledged', 'usd pledged', 'backers']] =\\\n",
    "    df_ks16[['goal', 'pledged', 'usd pledged', 'backers']].apply(pd.to_numeric, errors='coerce')\n",
    "df_ks16.info()"
   ]
  },
  {
   "cell_type": "code",
   "execution_count": 28,
   "metadata": {
    "collapsed": false
   },
   "outputs": [
    {
     "data": {
      "text/plain": [
       "failed        365805\n",
       "successful    246921\n",
       "canceled       71111\n",
       "live            7227\n",
       "undefined       7117\n",
       "suspended       3325\n",
       "Name: state, dtype: int64"
      ]
     },
     "execution_count": 28,
     "metadata": {},
     "output_type": "execute_result"
    }
   ],
   "source": [
    "df_ks16['state'].value_counts()\n",
    "# acc_states = ['failed', 'successful', 'live', 'undefined', 'suspended']"
   ]
  },
  {
   "cell_type": "code",
   "execution_count": 29,
   "metadata": {
    "collapsed": true
   },
   "outputs": [],
   "source": [
    "acc_df_ks16 =df_ks16[df_ks16['state'].isin(acc_states)]"
   ]
  },
  {
   "cell_type": "code",
   "execution_count": 15,
   "metadata": {
    "collapsed": false
   },
   "outputs": [
    {
     "data": {
      "text/plain": [
       "<matplotlib.axes._subplots.AxesSubplot at 0x10c7ca2e8>"
      ]
     },
     "execution_count": 15,
     "metadata": {},
     "output_type": "execute_result"
    },
    {
     "data": {
      "image/png": "[encoded data removed]",
      "text/plain": [
       "<matplotlib.figure.Figure at 0x11168a710>"
      ]
     },
     "metadata": {},
     "output_type": "display_data"
    }
   ],
   "source": [
    "plt.figure(figsize=(12,6))\n",
    "sns.countplot(x='state', data=acc_df_ks16)"
   ]
  },
  {
   "cell_type": "code",
   "execution_count": 30,
   "metadata": {
    "collapsed": false
   },
   "outputs": [
    {
     "data": {
      "text/plain": [
       "<function matplotlib.pyplot.tight_layout>"
      ]
     },
     "execution_count": 30,
     "metadata": {},
     "output_type": "execute_result"
    },
    {
     "data": {
      "image/png": "[encoded data removed]",
      "text/plain": [
       "<matplotlib.figure.Figure at 0x129add550>"
      ]
     },
     "metadata": {},
     "output_type": "display_data"
    }
   ],
   "source": [
    "plt.figure(figsize=(16,6))\n",
    "sns.countplot(x='main_category', data=acc_df_ks16, hue='state')\n",
    "plt.legend(loc='upper center')\n",
    "plt.tight_layout"
   ]
  },
  {
   "cell_type": "code",
   "execution_count": 31,
   "metadata": {
    "collapsed": false
   },
   "outputs": [
    {
     "data": {
      "text/plain": [
       "<function matplotlib.pyplot.tight_layout>"
      ]
     },
     "execution_count": 31,
     "metadata": {},
     "output_type": "execute_result"
    },
    {
     "data": {
      "image/png": "[encoded data removed]",
      "text/plain": [
       "<matplotlib.figure.Figure at 0x135285890>"
      ]
     },
     "metadata": {},
     "output_type": "display_data"
    }
   ],
   "source": [
    "plt.figure(figsize=(16,6))\n",
    "sns.countplot(x='currency', data=acc_df_ks16, hue='state')\n",
    "plt.legend(loc='upper center')\n",
    "plt.tight_layout"
   ]
  },
  {
   "cell_type": "code",
   "execution_count": 32,
   "metadata": {
    "collapsed": true
   },
   "outputs": [],
   "source": [
    "df_successfail = acc_df_ks16[(acc_df_ks16['state'] == 'failed') |(acc_df_ks16['state'] == 'successful')]"
   ]
  },
  {
   "cell_type": "code",
   "execution_count": 34,
   "metadata": {
    "collapsed": false
   },
   "outputs": [
    {
     "data": {
      "text/plain": [
       "<matplotlib.axes._subplots.AxesSubplot at 0x11fbc8c90>"
      ]
     },
     "execution_count": 34,
     "metadata": {},
     "output_type": "execute_result"
    },
    {
     "data": {
      "image/png": "[encoded data removed]",
      "text/plain": [
       "<matplotlib.figure.Figure at 0x110c35110>"
      ]
     },
     "metadata": {},
     "output_type": "display_data"
    }
   ],
   "source": [
    "sns.countplot(x='state', data=df_successfail)"
   ]
  },
  {
   "cell_type": "code",
   "execution_count": 72,
   "metadata": {
    "collapsed": false
   },
   "outputs": [
    {
     "name": "stdout",
     "output_type": "stream",
     "text": [
      "<class 'pandas.core.frame.DataFrame'>\n",
      "Int64Index: 612726 entries, 0 to 701505\n",
      "Data columns (total 14 columns):\n",
      "Unnamed: 0       612726 non-null int64\n",
      "ID               612726 non-null int64\n",
      "name             612722 non-null object\n",
      "category         612726 non-null object\n",
      "main_category    612726 non-null int64\n",
      "currency         612726 non-null object\n",
      "deadline         612726 non-null object\n",
      "goal             612726 non-null float64\n",
      "launched         612726 non-null object\n",
      "pledged          612726 non-null float64\n",
      "state            612726 non-null float64\n",
      "backers          612726 non-null int64\n",
      "country          612726 non-null object\n",
      "usd pledged      612306 non-null float64\n",
      "dtypes: float64(4), int64(4), object(6)\n",
      "memory usage: 70.1+ MB\n"
     ]
    }
   ],
   "source": [
    "df_successfail.info()"
   ]
  },
  {
   "cell_type": "code",
   "execution_count": 75,
   "metadata": {
    "collapsed": false
   },
   "outputs": [
    {
     "ename": "AttributeError",
     "evalue": "'datetime.date' object has no attribute 'strip'",
     "output_type": "error",
     "traceback": [
      "\u001b[0;31m---------------------------------------------------------------------------\u001b[0m",
      "\u001b[0;31mAttributeError\u001b[0m                            Traceback (most recent call last)",
      "\u001b[0;32m<ipython-input-75-e6c16714eea6>\u001b[0m in \u001b[0;36m<module>\u001b[0;34m()\u001b[0m\n\u001b[1;32m      1\u001b[0m \u001b[0;31m# df_successfail[['deadline', 'launched']] = \\\u001b[0m\u001b[0;34m\u001b[0m\u001b[0;34m\u001b[0m\u001b[0m\n\u001b[1;32m      2\u001b[0m \u001b[0;31m#     df_successfail[['deadline', 'launched']].apply(pd.to_datetime, errors='coerce', infer_datetime_format=True)\u001b[0m\u001b[0;34m\u001b[0m\u001b[0;34m\u001b[0m\u001b[0m\n\u001b[0;32m----> 3\u001b[0;31m \u001b[0mdf_successfail\u001b[0m\u001b[0;34m[\u001b[0m\u001b[0;34m'deadline'\u001b[0m\u001b[0;34m]\u001b[0m \u001b[0;34m=\u001b[0m \u001b[0mdf_successfail\u001b[0m\u001b[0;34m[\u001b[0m\u001b[0;34m'deadline'\u001b[0m\u001b[0;34m]\u001b[0m\u001b[0;34m.\u001b[0m\u001b[0mapply\u001b[0m\u001b[0;34m(\u001b[0m\u001b[0mto_date\u001b[0m\u001b[0;34m)\u001b[0m\u001b[0;34m.\u001b[0m\u001b[0mastype\u001b[0m\u001b[0;34m(\u001b[0m\u001b[0mdate\u001b[0m\u001b[0;34m)\u001b[0m\u001b[0;34m\u001b[0m\u001b[0m\n\u001b[0m\u001b[1;32m      4\u001b[0m \u001b[0mdf_successfail\u001b[0m\u001b[0;34m[\u001b[0m\u001b[0;34m'launched'\u001b[0m\u001b[0;34m]\u001b[0m \u001b[0;34m=\u001b[0m \u001b[0mdf_successfail\u001b[0m\u001b[0;34m[\u001b[0m\u001b[0;34m'launched'\u001b[0m\u001b[0;34m]\u001b[0m\u001b[0;34m.\u001b[0m\u001b[0mapply\u001b[0m\u001b[0;34m(\u001b[0m\u001b[0mto_date\u001b[0m\u001b[0;34m)\u001b[0m\u001b[0;34m.\u001b[0m\u001b[0mastype\u001b[0m\u001b[0;34m(\u001b[0m\u001b[0mdate\u001b[0m\u001b[0;34m)\u001b[0m\u001b[0;34m\u001b[0m\u001b[0m\n",
      "\u001b[0;32m/Users/travis/anaconda2/lib/python2.7/site-packages/pandas/core/series.pyc\u001b[0m in \u001b[0;36mapply\u001b[0;34m(self, func, convert_dtype, args, **kwds)\u001b[0m\n\u001b[1;32m   2218\u001b[0m         \u001b[0;32melse\u001b[0m\u001b[0;34m:\u001b[0m\u001b[0;34m\u001b[0m\u001b[0m\n\u001b[1;32m   2219\u001b[0m             \u001b[0mvalues\u001b[0m \u001b[0;34m=\u001b[0m \u001b[0mself\u001b[0m\u001b[0;34m.\u001b[0m\u001b[0masobject\u001b[0m\u001b[0;34m\u001b[0m\u001b[0m\n\u001b[0;32m-> 2220\u001b[0;31m             \u001b[0mmapped\u001b[0m \u001b[0;34m=\u001b[0m \u001b[0mlib\u001b[0m\u001b[0;34m.\u001b[0m\u001b[0mmap_infer\u001b[0m\u001b[0;34m(\u001b[0m\u001b[0mvalues\u001b[0m\u001b[0;34m,\u001b[0m \u001b[0mf\u001b[0m\u001b[0;34m,\u001b[0m \u001b[0mconvert\u001b[0m\u001b[0;34m=\u001b[0m\u001b[0mconvert_dtype\u001b[0m\u001b[0;34m)\u001b[0m\u001b[0;34m\u001b[0m\u001b[0m\n\u001b[0m\u001b[1;32m   2221\u001b[0m \u001b[0;34m\u001b[0m\u001b[0m\n\u001b[1;32m   2222\u001b[0m         \u001b[0;32mif\u001b[0m \u001b[0mlen\u001b[0m\u001b[0;34m(\u001b[0m\u001b[0mmapped\u001b[0m\u001b[0;34m)\u001b[0m \u001b[0;32mand\u001b[0m \u001b[0misinstance\u001b[0m\u001b[0;34m(\u001b[0m\u001b[0mmapped\u001b[0m\u001b[0;34m[\u001b[0m\u001b[0;36m0\u001b[0m\u001b[0;34m]\u001b[0m\u001b[0;34m,\u001b[0m \u001b[0mSeries\u001b[0m\u001b[0;34m)\u001b[0m\u001b[0;34m:\u001b[0m\u001b[0;34m\u001b[0m\u001b[0m\n",
      "\u001b[0;32mpandas/src/inference.pyx\u001b[0m in \u001b[0;36mpandas.lib.map_infer (pandas/lib.c:62658)\u001b[0;34m()\u001b[0m\n",
      "\u001b[0;32m<ipython-input-53-3dfab71662db>\u001b[0m in \u001b[0;36mto_date\u001b[0;34m(x)\u001b[0m\n\u001b[1;32m      1\u001b[0m \u001b[0;32mdef\u001b[0m \u001b[0mto_date\u001b[0m\u001b[0;34m(\u001b[0m\u001b[0mx\u001b[0m\u001b[0;34m)\u001b[0m\u001b[0;34m:\u001b[0m\u001b[0;34m\u001b[0m\u001b[0m\n\u001b[0;32m----> 2\u001b[0;31m     \u001b[0mdate_str\u001b[0m \u001b[0;34m=\u001b[0m \u001b[0mx\u001b[0m\u001b[0;34m.\u001b[0m\u001b[0mstrip\u001b[0m\u001b[0;34m(\u001b[0m\u001b[0;34m)\u001b[0m\u001b[0;34m.\u001b[0m\u001b[0msplit\u001b[0m\u001b[0;34m(\u001b[0m\u001b[0;34m)\u001b[0m\u001b[0;34m[\u001b[0m\u001b[0;36m0\u001b[0m\u001b[0;34m]\u001b[0m\u001b[0;34m.\u001b[0m\u001b[0msplit\u001b[0m\u001b[0;34m(\u001b[0m\u001b[0;34m'-'\u001b[0m\u001b[0;34m)\u001b[0m\u001b[0;34m\u001b[0m\u001b[0m\n\u001b[0m\u001b[1;32m      3\u001b[0m     \u001b[0;32mreturn\u001b[0m \u001b[0mdate\u001b[0m\u001b[0;34m(\u001b[0m\u001b[0mint\u001b[0m\u001b[0;34m(\u001b[0m\u001b[0mdate_str\u001b[0m\u001b[0;34m[\u001b[0m\u001b[0;36m0\u001b[0m\u001b[0;34m]\u001b[0m\u001b[0;34m)\u001b[0m\u001b[0;34m,\u001b[0m \u001b[0mint\u001b[0m\u001b[0;34m(\u001b[0m\u001b[0mdate_str\u001b[0m\u001b[0;34m[\u001b[0m\u001b[0;36m1\u001b[0m\u001b[0;34m]\u001b[0m\u001b[0;34m)\u001b[0m\u001b[0;34m,\u001b[0m \u001b[0mint\u001b[0m\u001b[0;34m(\u001b[0m\u001b[0mdate_str\u001b[0m\u001b[0;34m[\u001b[0m\u001b[0;36m2\u001b[0m\u001b[0;34m]\u001b[0m\u001b[0;34m)\u001b[0m\u001b[0;34m)\u001b[0m\u001b[0;34m\u001b[0m\u001b[0m\n",
      "\u001b[0;31mAttributeError\u001b[0m: 'datetime.date' object has no attribute 'strip'"
     ]
    }
   ],
   "source": [
    "# df_successfail[['deadline', 'launched']] = \\\n",
    "#     df_successfail[['deadline', 'launched']].apply(pd.to_datetime, errors='coerce', infer_datetime_format=True)\n",
    "df_successfail['deadline'] = df_successfail['deadline'].apply(to_date).astype(date)\n",
    "df_successfail['launched'] = df_successfail['launched'].apply(to_date).astype(date)"
   ]
  },
  {
   "cell_type": "code",
   "execution_count": 82,
   "metadata": {
    "collapsed": false
   },
   "outputs": [
    {
     "name": "stderr",
     "output_type": "stream",
     "text": [
      "/Users/travis/anaconda2/lib/python2.7/site-packages/ipykernel/__main__.py:1: SettingWithCopyWarning: \n",
      "A value is trying to be set on a copy of a slice from a DataFrame.\n",
      "Try using .loc[row_indexer,col_indexer] = value instead\n",
      "\n",
      "See the caveats in the documentation: http://pandas.pydata.org/pandas-docs/stable/indexing.html#indexing-view-versus-copy\n",
      "  if __name__ == '__main__':\n"
     ]
    }
   ],
   "source": [
    "df_successfail['length'] = (df_successfail['deadline'] - df_successfail['launched']).sample(10)"
   ]
  },
  {
   "cell_type": "code",
   "execution_count": 83,
   "metadata": {
    "collapsed": false
   },
   "outputs": [
    {
     "name": "stderr",
     "output_type": "stream",
     "text": [
      "/Users/travis/anaconda2/lib/python2.7/site-packages/ipykernel/__main__.py:1: SettingWithCopyWarning: \n",
      "A value is trying to be set on a copy of a slice from a DataFrame.\n",
      "Try using .loc[row_indexer,col_indexer] = value instead\n",
      "\n",
      "See the caveats in the documentation: http://pandas.pydata.org/pandas-docs/stable/indexing.html#indexing-view-versus-copy\n",
      "  if __name__ == '__main__':\n"
     ]
    }
   ],
   "source": [
    "df_successfail['length'] = df_successfail['deadline'] - df_successfail['launched']"
   ]
  },
  {
   "cell_type": "code",
   "execution_count": 35,
   "metadata": {
    "collapsed": true
   },
   "outputs": [],
   "source": [
    "# def daysfinder(timedelta):\n",
    "#     numdays = timedelta.days\n",
    "#     return numdays"
   ]
  },
  {
   "cell_type": "code",
   "execution_count": 85,
   "metadata": {
    "collapsed": false
   },
   "outputs": [
    {
     "name": "stderr",
     "output_type": "stream",
     "text": [
      "/Users/travis/anaconda2/lib/python2.7/site-packages/ipykernel/__main__.py:1: SettingWithCopyWarning: \n",
      "A value is trying to be set on a copy of a slice from a DataFrame.\n",
      "Try using .loc[row_indexer,col_indexer] = value instead\n",
      "\n",
      "See the caveats in the documentation: http://pandas.pydata.org/pandas-docs/stable/indexing.html#indexing-view-versus-copy\n",
      "  if __name__ == '__main__':\n"
     ]
    }
   ],
   "source": [
    "df_successfail['length'] = df_successfail['length'].apply(lambda x: x.days)"
   ]
  },
  {
   "cell_type": "code",
   "execution_count": 86,
   "metadata": {
    "collapsed": false
   },
   "outputs": [
    {
     "name": "stdout",
     "output_type": "stream",
     "text": [
      "<class 'pandas.core.frame.DataFrame'>\n",
      "Int64Index: 612726 entries, 0 to 701505\n",
      "Data columns (total 15 columns):\n",
      "Unnamed: 0       612726 non-null int64\n",
      "ID               612726 non-null int64\n",
      "name             612722 non-null object\n",
      "category         612726 non-null object\n",
      "main_category    612726 non-null int64\n",
      "currency         612726 non-null object\n",
      "deadline         612726 non-null object\n",
      "goal             612726 non-null float64\n",
      "launched         612726 non-null object\n",
      "pledged          612726 non-null float64\n",
      "state            612726 non-null float64\n",
      "backers          612726 non-null int64\n",
      "country          612726 non-null object\n",
      "usd pledged      612306 non-null float64\n",
      "length           612726 non-null int64\n",
      "dtypes: float64(4), int64(5), object(6)\n",
      "memory usage: 74.8+ MB\n"
     ]
    }
   ],
   "source": [
    "df_successfail.info()"
   ]
  },
  {
   "cell_type": "code",
   "execution_count": 87,
   "metadata": {
    "collapsed": true
   },
   "outputs": [],
   "source": [
    "# df_successfail = df_successfail[df_successfail['goal'] < 5000000]"
   ]
  },
  {
   "cell_type": "code",
   "execution_count": 88,
   "metadata": {
    "collapsed": false
   },
   "outputs": [
    {
     "data": {
      "text/plain": [
       "<function matplotlib.pyplot.tight_layout>"
      ]
     },
     "execution_count": 88,
     "metadata": {},
     "output_type": "execute_result"
    },
    {
     "data": {
      "image/png": "[encoded data removed]",
      "text/plain": [
       "<matplotlib.figure.Figure at 0x12b24cc10>"
      ]
     },
     "metadata": {},
     "output_type": "display_data"
    }
   ],
   "source": [
    "plt.figure(figsize=(16,6))\n",
    "sns.countplot(x='main_category', data=df_successfail, hue='state')\n",
    "plt.legend(loc='upper center')\n",
    "plt.tight_layout"
   ]
  },
  {
   "cell_type": "code",
   "execution_count": 89,
   "metadata": {
    "collapsed": true
   },
   "outputs": [],
   "source": [
    "df_dummies16 = pd.get_dummies(data=df_successfail['state'], drop_first=True)"
   ]
  },
  {
   "cell_type": "code",
   "execution_count": 90,
   "metadata": {
    "collapsed": false
   },
   "outputs": [
    {
     "name": "stderr",
     "output_type": "stream",
     "text": [
      "/Users/travis/anaconda2/lib/python2.7/site-packages/ipykernel/__main__.py:1: SettingWithCopyWarning: \n",
      "A value is trying to be set on a copy of a slice from a DataFrame.\n",
      "Try using .loc[row_indexer,col_indexer] = value instead\n",
      "\n",
      "See the caveats in the documentation: http://pandas.pydata.org/pandas-docs/stable/indexing.html#indexing-view-versus-copy\n",
      "  if __name__ == '__main__':\n"
     ]
    }
   ],
   "source": [
    "df_successfail['state'] = df_dummies16"
   ]
  },
  {
   "cell_type": "code",
   "execution_count": 91,
   "metadata": {
    "collapsed": false
   },
   "outputs": [
    {
     "data": {
      "text/plain": [
       "array([ 1,  2,  3,  4,  5,  6,  7,  8,  9, 10, 11, 12, 13, 14, 15])"
      ]
     },
     "execution_count": 91,
     "metadata": {},
     "output_type": "execute_result"
    }
   ],
   "source": [
    "df_successfail['main_category'].unique()"
   ]
  },
  {
   "cell_type": "code",
   "execution_count": 112,
   "metadata": {
    "collapsed": false
   },
   "outputs": [
    {
     "data": {
      "text/html": [
       "<div>\n",
       "<table border=\"1\" class=\"dataframe\">\n",
       "  <thead>\n",
       "    <tr style=\"text-align: right;\">\n",
       "      <th></th>\n",
       "      <th>256132</th>\n",
       "      <th>529958</th>\n",
       "      <th>609705</th>\n",
       "    </tr>\n",
       "  </thead>\n",
       "  <tbody>\n",
       "    <tr>\n",
       "      <th>Unnamed: 0</th>\n",
       "      <td>256848</td>\n",
       "      <td>207113</td>\n",
       "      <td>286860</td>\n",
       "    </tr>\n",
       "    <tr>\n",
       "      <th>ID</th>\n",
       "      <td>598267658</td>\n",
       "      <td>2055471626</td>\n",
       "      <td>52936111</td>\n",
       "    </tr>\n",
       "    <tr>\n",
       "      <th>name</th>\n",
       "      <td>Best Thing You'll Ever Do, a Miniseries</td>\n",
       "      <td>CIAN</td>\n",
       "      <td>Barstow System and Mini Bar: Bike Tools from M...</td>\n",
       "    </tr>\n",
       "    <tr>\n",
       "      <th>category</th>\n",
       "      <td>Webseries</td>\n",
       "      <td>Design</td>\n",
       "      <td>Product Design</td>\n",
       "    </tr>\n",
       "    <tr>\n",
       "      <th>main_category</th>\n",
       "      <td>2</td>\n",
       "      <td>7</td>\n",
       "      <td>7</td>\n",
       "    </tr>\n",
       "    <tr>\n",
       "      <th>currency</th>\n",
       "      <td>USD</td>\n",
       "      <td>GBP</td>\n",
       "      <td>USD</td>\n",
       "    </tr>\n",
       "    <tr>\n",
       "      <th>deadline</th>\n",
       "      <td>2016-05-21</td>\n",
       "      <td>2014-08-26</td>\n",
       "      <td>2016-02-12</td>\n",
       "    </tr>\n",
       "    <tr>\n",
       "      <th>goal</th>\n",
       "      <td>15000</td>\n",
       "      <td>1000</td>\n",
       "      <td>20000</td>\n",
       "    </tr>\n",
       "    <tr>\n",
       "      <th>launched</th>\n",
       "      <td>2016-04-20</td>\n",
       "      <td>2014-07-22</td>\n",
       "      <td>2016-01-04</td>\n",
       "    </tr>\n",
       "    <tr>\n",
       "      <th>pledged</th>\n",
       "      <td>31632</td>\n",
       "      <td>7</td>\n",
       "      <td>22170</td>\n",
       "    </tr>\n",
       "    <tr>\n",
       "      <th>state</th>\n",
       "      <td>1</td>\n",
       "      <td>0</td>\n",
       "      <td>1</td>\n",
       "    </tr>\n",
       "    <tr>\n",
       "      <th>backers</th>\n",
       "      <td>267</td>\n",
       "      <td>1</td>\n",
       "      <td>276</td>\n",
       "    </tr>\n",
       "    <tr>\n",
       "      <th>country</th>\n",
       "      <td>US</td>\n",
       "      <td>GB</td>\n",
       "      <td>US</td>\n",
       "    </tr>\n",
       "    <tr>\n",
       "      <th>usd pledged</th>\n",
       "      <td>31632</td>\n",
       "      <td>11.88</td>\n",
       "      <td>22170</td>\n",
       "    </tr>\n",
       "    <tr>\n",
       "      <th>length</th>\n",
       "      <td>31</td>\n",
       "      <td>35</td>\n",
       "      <td>39</td>\n",
       "    </tr>\n",
       "  </tbody>\n",
       "</table>\n",
       "</div>"
      ],
      "text/plain": [
       "                                                256132      529958  \\\n",
       "Unnamed: 0                                      256848      207113   \n",
       "ID                                           598267658  2055471626   \n",
       "name           Best Thing You'll Ever Do, a Miniseries        CIAN   \n",
       "category                                     Webseries      Design   \n",
       "main_category                                        2           7   \n",
       "currency                                           USD         GBP   \n",
       "deadline                                    2016-05-21  2014-08-26   \n",
       "goal                                             15000        1000   \n",
       "launched                                    2016-04-20  2014-07-22   \n",
       "pledged                                          31632           7   \n",
       "state                                                1           0   \n",
       "backers                                            267           1   \n",
       "country                                             US          GB   \n",
       "usd pledged                                      31632       11.88   \n",
       "length                                              31          35   \n",
       "\n",
       "                                                          609705  \n",
       "Unnamed: 0                                                286860  \n",
       "ID                                                      52936111  \n",
       "name           Barstow System and Mini Bar: Bike Tools from M...  \n",
       "category                                          Product Design  \n",
       "main_category                                                  7  \n",
       "currency                                                     USD  \n",
       "deadline                                              2016-02-12  \n",
       "goal                                                       20000  \n",
       "launched                                              2016-01-04  \n",
       "pledged                                                    22170  \n",
       "state                                                          1  \n",
       "backers                                                      276  \n",
       "country                                                       US  \n",
       "usd pledged                                                22170  \n",
       "length                                                        39  "
      ]
     },
     "execution_count": 112,
     "metadata": {},
     "output_type": "execute_result"
    }
   ],
   "source": [
    "df_successfail.sample(3).T"
   ]
  },
  {
   "cell_type": "code",
   "execution_count": 92,
   "metadata": {
    "collapsed": false
   },
   "outputs": [],
   "source": [
    "# I am not sure why you are doing this\n",
    "# category_dict = {\n",
    "#     'Publishing' :1,\n",
    "#     'Film & Video' :2,\n",
    "#     'Music' :3,\n",
    "#     'Food' :4,\n",
    "#     'Crafts' :5,\n",
    "#     'Games' :6,\n",
    "#     'Design' :7,\n",
    "#     'Comics' :8,\n",
    "#     'Fashion' :9,\n",
    "#     'Theater' :10,\n",
    "#     'Art' :11,\n",
    "#     'Photography' :12,\n",
    "#     'Technology' :13,\n",
    "#     'Dance' :14,\n",
    "#     'Journalism' :15\n",
    "# }\n",
    "# df_successfail['main_category'] = df_successfail['main_category'].replace(category_dict)"
   ]
  },
  {
   "cell_type": "code",
   "execution_count": 113,
   "metadata": {
    "collapsed": true
   },
   "outputs": [],
   "source": [
    "## create dummu varaibles\n",
    "df_2 = df_successfail.copy()\n",
    "for cat in df_successfail['main_category'].unique():\n",
    "    df_2[\"main_cat::{}\".format(cat)] = df_successfail['main_category']  == cat\n",
    "    "
   ]
  },
  {
   "cell_type": "code",
   "execution_count": 116,
   "metadata": {
    "collapsed": true
   },
   "outputs": [],
   "source": [
    "## or just use\n",
    "#pd.get_dummies()"
   ]
  },
  {
   "cell_type": "code",
   "execution_count": null,
   "metadata": {
    "collapsed": true
   },
   "outputs": [],
   "source": [
    "df_successfail['main_category']"
   ]
  },
  {
   "cell_type": "code",
   "execution_count": 114,
   "metadata": {
    "collapsed": false
   },
   "outputs": [
    {
     "data": {
      "text/html": [
       "<div>\n",
       "<table border=\"1\" class=\"dataframe\">\n",
       "  <thead>\n",
       "    <tr style=\"text-align: right;\">\n",
       "      <th></th>\n",
       "      <th>601929</th>\n",
       "      <th>624892</th>\n",
       "      <th>563329</th>\n",
       "    </tr>\n",
       "  </thead>\n",
       "  <tbody>\n",
       "    <tr>\n",
       "      <th>Unnamed: 0</th>\n",
       "      <td>279084</td>\n",
       "      <td>302047</td>\n",
       "      <td>240484</td>\n",
       "    </tr>\n",
       "    <tr>\n",
       "      <th>ID</th>\n",
       "      <td>489560974</td>\n",
       "      <td>608125543</td>\n",
       "      <td>293088173</td>\n",
       "    </tr>\n",
       "    <tr>\n",
       "      <th>name</th>\n",
       "      <td>The world’s most beautiful story told on a bra...</td>\n",
       "      <td>The Point at Which Time Stands Still</td>\n",
       "      <td>'WE ARE THE PEOPLE' - LIVES WITHOUT BOUNDARIES?</td>\n",
       "    </tr>\n",
       "    <tr>\n",
       "      <th>category</th>\n",
       "      <td>Crafts</td>\n",
       "      <td>Painting</td>\n",
       "      <td>Photography</td>\n",
       "    </tr>\n",
       "    <tr>\n",
       "      <th>main_category</th>\n",
       "      <td>5</td>\n",
       "      <td>11</td>\n",
       "      <td>12</td>\n",
       "    </tr>\n",
       "    <tr>\n",
       "      <th>currency</th>\n",
       "      <td>USD</td>\n",
       "      <td>USD</td>\n",
       "      <td>GBP</td>\n",
       "    </tr>\n",
       "    <tr>\n",
       "      <th>deadline</th>\n",
       "      <td>2014-02-02</td>\n",
       "      <td>2010-11-09</td>\n",
       "      <td>2013-04-23</td>\n",
       "    </tr>\n",
       "    <tr>\n",
       "      <th>goal</th>\n",
       "      <td>10000</td>\n",
       "      <td>1000</td>\n",
       "      <td>22422</td>\n",
       "    </tr>\n",
       "    <tr>\n",
       "      <th>launched</th>\n",
       "      <td>2013-12-19</td>\n",
       "      <td>2010-10-10</td>\n",
       "      <td>2013-03-27</td>\n",
       "    </tr>\n",
       "    <tr>\n",
       "      <th>pledged</th>\n",
       "      <td>90</td>\n",
       "      <td>1089</td>\n",
       "      <td>11</td>\n",
       "    </tr>\n",
       "    <tr>\n",
       "      <th>state</th>\n",
       "      <td>0</td>\n",
       "      <td>1</td>\n",
       "      <td>0</td>\n",
       "    </tr>\n",
       "    <tr>\n",
       "      <th>backers</th>\n",
       "      <td>3</td>\n",
       "      <td>19</td>\n",
       "      <td>2</td>\n",
       "    </tr>\n",
       "    <tr>\n",
       "      <th>country</th>\n",
       "      <td>US</td>\n",
       "      <td>US</td>\n",
       "      <td>GB</td>\n",
       "    </tr>\n",
       "    <tr>\n",
       "      <th>usd pledged</th>\n",
       "      <td>90</td>\n",
       "      <td>1089</td>\n",
       "      <td>16.7</td>\n",
       "    </tr>\n",
       "    <tr>\n",
       "      <th>length</th>\n",
       "      <td>45</td>\n",
       "      <td>30</td>\n",
       "      <td>27</td>\n",
       "    </tr>\n",
       "    <tr>\n",
       "      <th>main_cat::1</th>\n",
       "      <td>False</td>\n",
       "      <td>False</td>\n",
       "      <td>False</td>\n",
       "    </tr>\n",
       "    <tr>\n",
       "      <th>main_cat::2</th>\n",
       "      <td>False</td>\n",
       "      <td>False</td>\n",
       "      <td>False</td>\n",
       "    </tr>\n",
       "    <tr>\n",
       "      <th>main_cat::3</th>\n",
       "      <td>False</td>\n",
       "      <td>False</td>\n",
       "      <td>False</td>\n",
       "    </tr>\n",
       "    <tr>\n",
       "      <th>main_cat::4</th>\n",
       "      <td>False</td>\n",
       "      <td>False</td>\n",
       "      <td>False</td>\n",
       "    </tr>\n",
       "    <tr>\n",
       "      <th>main_cat::5</th>\n",
       "      <td>True</td>\n",
       "      <td>False</td>\n",
       "      <td>False</td>\n",
       "    </tr>\n",
       "    <tr>\n",
       "      <th>main_cat::6</th>\n",
       "      <td>False</td>\n",
       "      <td>False</td>\n",
       "      <td>False</td>\n",
       "    </tr>\n",
       "    <tr>\n",
       "      <th>main_cat::7</th>\n",
       "      <td>False</td>\n",
       "      <td>False</td>\n",
       "      <td>False</td>\n",
       "    </tr>\n",
       "    <tr>\n",
       "      <th>main_cat::8</th>\n",
       "      <td>False</td>\n",
       "      <td>False</td>\n",
       "      <td>False</td>\n",
       "    </tr>\n",
       "    <tr>\n",
       "      <th>main_cat::9</th>\n",
       "      <td>False</td>\n",
       "      <td>False</td>\n",
       "      <td>False</td>\n",
       "    </tr>\n",
       "    <tr>\n",
       "      <th>main_cat::10</th>\n",
       "      <td>False</td>\n",
       "      <td>False</td>\n",
       "      <td>False</td>\n",
       "    </tr>\n",
       "    <tr>\n",
       "      <th>main_cat::11</th>\n",
       "      <td>False</td>\n",
       "      <td>True</td>\n",
       "      <td>False</td>\n",
       "    </tr>\n",
       "    <tr>\n",
       "      <th>main_cat::12</th>\n",
       "      <td>False</td>\n",
       "      <td>False</td>\n",
       "      <td>True</td>\n",
       "    </tr>\n",
       "    <tr>\n",
       "      <th>main_cat::13</th>\n",
       "      <td>False</td>\n",
       "      <td>False</td>\n",
       "      <td>False</td>\n",
       "    </tr>\n",
       "    <tr>\n",
       "      <th>main_cat::14</th>\n",
       "      <td>False</td>\n",
       "      <td>False</td>\n",
       "      <td>False</td>\n",
       "    </tr>\n",
       "    <tr>\n",
       "      <th>main_cat::15</th>\n",
       "      <td>False</td>\n",
       "      <td>False</td>\n",
       "      <td>False</td>\n",
       "    </tr>\n",
       "  </tbody>\n",
       "</table>\n",
       "</div>"
      ],
      "text/plain": [
       "                                                          601929  \\\n",
       "Unnamed: 0                                                279084   \n",
       "ID                                                     489560974   \n",
       "name           The world’s most beautiful story told on a bra...   \n",
       "category                                                  Crafts   \n",
       "main_category                                                  5   \n",
       "currency                                                     USD   \n",
       "deadline                                              2014-02-02   \n",
       "goal                                                       10000   \n",
       "launched                                              2013-12-19   \n",
       "pledged                                                       90   \n",
       "state                                                          0   \n",
       "backers                                                        3   \n",
       "country                                                       US   \n",
       "usd pledged                                                   90   \n",
       "length                                                        45   \n",
       "main_cat::1                                                False   \n",
       "main_cat::2                                                False   \n",
       "main_cat::3                                                False   \n",
       "main_cat::4                                                False   \n",
       "main_cat::5                                                 True   \n",
       "main_cat::6                                                False   \n",
       "main_cat::7                                                False   \n",
       "main_cat::8                                                False   \n",
       "main_cat::9                                                False   \n",
       "main_cat::10                                               False   \n",
       "main_cat::11                                               False   \n",
       "main_cat::12                                               False   \n",
       "main_cat::13                                               False   \n",
       "main_cat::14                                               False   \n",
       "main_cat::15                                               False   \n",
       "\n",
       "                                             624892  \\\n",
       "Unnamed: 0                                   302047   \n",
       "ID                                        608125543   \n",
       "name           The Point at Which Time Stands Still   \n",
       "category                                   Painting   \n",
       "main_category                                    11   \n",
       "currency                                        USD   \n",
       "deadline                                 2010-11-09   \n",
       "goal                                           1000   \n",
       "launched                                 2010-10-10   \n",
       "pledged                                        1089   \n",
       "state                                             1   \n",
       "backers                                          19   \n",
       "country                                          US   \n",
       "usd pledged                                    1089   \n",
       "length                                           30   \n",
       "main_cat::1                                   False   \n",
       "main_cat::2                                   False   \n",
       "main_cat::3                                   False   \n",
       "main_cat::4                                   False   \n",
       "main_cat::5                                   False   \n",
       "main_cat::6                                   False   \n",
       "main_cat::7                                   False   \n",
       "main_cat::8                                   False   \n",
       "main_cat::9                                   False   \n",
       "main_cat::10                                  False   \n",
       "main_cat::11                                   True   \n",
       "main_cat::12                                  False   \n",
       "main_cat::13                                  False   \n",
       "main_cat::14                                  False   \n",
       "main_cat::15                                  False   \n",
       "\n",
       "                                                        563329  \n",
       "Unnamed: 0                                              240484  \n",
       "ID                                                   293088173  \n",
       "name           'WE ARE THE PEOPLE' - LIVES WITHOUT BOUNDARIES?  \n",
       "category                                           Photography  \n",
       "main_category                                               12  \n",
       "currency                                                   GBP  \n",
       "deadline                                            2013-04-23  \n",
       "goal                                                     22422  \n",
       "launched                                            2013-03-27  \n",
       "pledged                                                     11  \n",
       "state                                                        0  \n",
       "backers                                                      2  \n",
       "country                                                     GB  \n",
       "usd pledged                                               16.7  \n",
       "length                                                      27  \n",
       "main_cat::1                                              False  \n",
       "main_cat::2                                              False  \n",
       "main_cat::3                                              False  \n",
       "main_cat::4                                              False  \n",
       "main_cat::5                                              False  \n",
       "main_cat::6                                              False  \n",
       "main_cat::7                                              False  \n",
       "main_cat::8                                              False  \n",
       "main_cat::9                                              False  \n",
       "main_cat::10                                             False  \n",
       "main_cat::11                                             False  \n",
       "main_cat::12                                              True  \n",
       "main_cat::13                                             False  \n",
       "main_cat::14                                             False  \n",
       "main_cat::15                                             False  "
      ]
     },
     "execution_count": 114,
     "metadata": {},
     "output_type": "execute_result"
    }
   ],
   "source": [
    "df_2.sample(3).T"
   ]
  },
  {
   "cell_type": "code",
   "execution_count": 93,
   "metadata": {
    "collapsed": true
   },
   "outputs": [],
   "source": [
    "features = ['main_category', 'goal', 'backers', 'length']\n",
    "target = ['state']"
   ]
  },
  {
   "cell_type": "code",
   "execution_count": 94,
   "metadata": {
    "collapsed": true
   },
   "outputs": [],
   "source": [
    "from sklearn.model_selection import train_test_split"
   ]
  },
  {
   "cell_type": "code",
   "execution_count": 95,
   "metadata": {
    "collapsed": true
   },
   "outputs": [],
   "source": [
    "X = df_successfail[features]\n",
    "y = df_successfail[target]\n",
    "\n",
    "X_train, X_test, y_train, y_test = train_test_split(X, y, test_size=0.25, random_state=42)"
   ]
  },
  {
   "cell_type": "code",
   "execution_count": 100,
   "metadata": {
    "collapsed": true
   },
   "outputs": [],
   "source": [
    "from sklearn.linear_model import LogisticRegression\n",
    "regressor = LogisticRegression(C=.8, n_jobs=-1)"
   ]
  },
  {
   "cell_type": "code",
   "execution_count": 101,
   "metadata": {
    "collapsed": false
   },
   "outputs": [
    {
     "data": {
      "text/plain": [
       "LogisticRegression(C=0.8, class_weight=None, dual=False, fit_intercept=True,\n",
       "          intercept_scaling=1, max_iter=100, multi_class='ovr', n_jobs=-1,\n",
       "          penalty='l2', random_state=None, solver='liblinear', tol=0.0001,\n",
       "          verbose=0, warm_start=False)"
      ]
     },
     "execution_count": 101,
     "metadata": {},
     "output_type": "execute_result"
    }
   ],
   "source": [
    "regressor.fit(X_train, y_train)"
   ]
  },
  {
   "cell_type": "code",
   "execution_count": 104,
   "metadata": {
    "collapsed": true
   },
   "outputs": [],
   "source": [
    "predictions = regressor.predict(X_test)"
   ]
  },
  {
   "cell_type": "code",
   "execution_count": 103,
   "metadata": {
    "collapsed": true
   },
   "outputs": [],
   "source": [
    "from sklearn.metrics import classification_report, confusion_matrix"
   ]
  },
  {
   "cell_type": "code",
   "execution_count": 54,
   "metadata": {
    "collapsed": false
   },
   "outputs": [
    {
     "name": "stdout",
     "output_type": "stream",
     "text": [
      "             precision    recall  f1-score   support\n",
      "\n",
      "          0       0.89      0.95      0.92     42021\n",
      "          1       0.92      0.82      0.87     28246\n",
      "\n",
      "avg / total       0.90      0.90      0.90     70267\n",
      "\n"
     ]
    }
   ],
   "source": [
    "print(classification_report(y_test, predictions))"
   ]
  },
  {
   "cell_type": "code",
   "execution_count": 55,
   "metadata": {
    "collapsed": false
   },
   "outputs": [
    {
     "name": "stdout",
     "output_type": "stream",
     "text": [
      "[[40034  1987]\n",
      " [ 4974 23272]]\n"
     ]
    }
   ],
   "source": [
    "print(confusion_matrix(y_test, predictions))"
   ]
  },
  {
   "cell_type": "code",
   "execution_count": null,
   "metadata": {
    "collapsed": true
   },
   "outputs": [],
   "source": []
  }
 ],
 "metadata": {
  "anaconda-cloud": {},
  "kernelspec": {
   "display_name": "Python [conda root]",
   "language": "python",
   "name": "conda-root-py"
  },
  "language_info": {
   "codemirror_mode": {
    "name": "ipython",
    "version": 2
   },
   "file_extension": ".py",
   "mimetype": "text/x-python",
   "name": "python",
   "nbconvert_exporter": "python",
   "pygments_lexer": "ipython2",
   "version": "2.7.12"
  }
 },
 "nbformat": 4,
 "nbformat_minor": 2
}
