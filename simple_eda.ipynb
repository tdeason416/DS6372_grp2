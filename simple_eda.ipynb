{
 "cells": [
  {
   "cell_type": "code",
   "execution_count": 2,
   "metadata": {
    "collapsed": true
   },
   "outputs": [],
   "source": [
    "import scipy.stats as scs\n",
    "import matplotlib.pyplot as plt\n",
    "import pandas as pd\n",
    "import time\n",
    "import numpy as np\n",
    "import re\n",
    "import json\n",
    "import matplotlib.pyplot as plt\n",
    "import seaborn as sns\n",
    "import requests\n",
    "import nltk\n",
    "from datetime import date, datetime, timedelta\n",
    "from collections import Counter\n",
    "plt.style.use('fivethirtyeight')\n",
    "sns.set_style('darkgrid')\n",
    "%matplotlib inline"
   ]
  },
  {
   "cell_type": "code",
   "execution_count": 7,
   "metadata": {
    "collapsed": true
   },
   "outputs": [],
   "source": [
    "def get_date(dt):\n",
    "    '''\n",
    "    convert datetime string to python datetime.date output\n",
    "    --------\n",
    "    PARAMETERS\n",
    "    dt: str - Date or datetime input (can also be in datetime.datetime format)\n",
    "    --------\n",
    "    RETURNS\n",
    "    dateout: datetime.date - truncated datetime as date\n",
    "    '''\n",
    "    dlst = str(dt).strip().split()[0].split('-')\n",
    "    return date(int(dlst[0]), int(dlst[1]), int(dlst[2]))\n",
    "\n",
    "def get_count(cell):\n",
    "    '''\n",
    "    converts nltk parts of speech tuples into counts of parts of speech\n",
    "    '''\n",
    "    cnt_dict = Counter()\n",
    "    for i in cell:\n",
    "        cnt_dict[i[:2]] += 1\n",
    "    return cnt_dict"
   ]
  },
  {
   "cell_type": "code",
   "execution_count": null,
   "metadata": {
    "collapsed": true
   },
   "outputs": [],
   "source": [
    "### Convert currencies\n",
    "\n",
    "df = pd.read_csv('data/data_nobadrows.csv')\n",
    "keep_cols = [x for x in df.columns if 'Unnamed' not in x]\n",
    "df = df[keep_cols]\n",
    "df.loc[:,'goal'] = df.loc[:,'goal'].astype(int)\n",
    "df.loc[:,'pledged'] = df.loc[:,'pledged'].astype(int)\n",
    "df.loc[:,'backers'] = df.loc[:,'backers'].astype(int)\n",
    "\n",
    "df['launched'] = df['launched'].apply(get_date)\n",
    "df['deadline'] = df['deadline'].apply(get_date)\n",
    "\n",
    "get_nasty = df[np.isnan(df['usd pledged'])]\n",
    "dates = get_nasty['launched'].unique()\n",
    "\n",
    "currencys = ','.join(get_nasty['currency'].unique())\n",
    "\n",
    "exchange_rates = pd.read_csv('data/exchange.csv').set_index('date')\n",
    "\n",
    "get_nasty_ = get_nasty[get_nasty['currency'] != 'DKK']\n",
    "\n",
    "get_nasty_['usd pledged'] = get_nasty_.T.apply(lambda x: x['pledged'] * \\\n",
    "                 exchange_rates.loc[str(x['launched']),'USD'] / \\\n",
    "                 exchange_rates.loc[str(x['launched']),x['currency']]) \n",
    "\n",
    "df.loc[get_nasty_.index, 'usd pledged'] = get_nasty['usd pledged']\n",
    "\n",
    "df_ = df[~np.isnan(df['usd pledged'])]\n",
    "\n",
    "df_.to_csv('data/data_with_usd.csv')"
   ]
  },
  {
   "cell_type": "code",
   "execution_count": null,
   "metadata": {
    "collapsed": false
   },
   "outputs": [],
   "source": [
    "### add parts of speech tagging\n",
    "\n",
    "df = pd.read_csv('data/data_with_usd.csv')\n",
    "names = df['name']\n",
    "df.loc[:,'name'] = df.loc[:,'name'].fillna('None')\n",
    "lett_count = names.apply(lambda x: len(re.sub('[^a-z]', '', x.lower())))\n",
    "word_count = names.apply(lambda x: len(re.findall(\"[a-z']+\", x.lower())))\n",
    "punc_count = names.apply(lambda x: len(re.findall(\"[\\p{P}\\d]\", x))) / lett_count\n",
    "caps_count = names.apply(lambda x: len(re.findall(\"[A-Z]\", x))) / lett_count\n",
    "words = names.apply(lambda x: re.findall(\"[a-z']+\", x.lower()))\n",
    "parts_of_speech = words.apply(lambda x: nltk.pos_tag(x))\n",
    "just_pos = parts_of_speech.apply(lambda x: [i[1] for i in x])\n",
    "pos_counts = just_pos.apply(get_count)\n",
    "pos_counts.apply(lambda x: len(x)).max()\n",
    "\n",
    "pos_types = Counter()\n",
    "for cell in pos_counts:\n",
    "    for val in cell.keys():\n",
    "        pos_types[val] += cell[val]\n",
    "        \n",
    "possesive_count = pos_counts.apply(lambda x: x.get('WP', 0)) / word_count\n",
    "noun_count = pos_counts.apply(lambda x: x.get('NN', 0)) / word_count\n",
    "adj_count = pos_counts.apply(lambda x: x.get('JJ', 0)) / word_count\n",
    "verb_count = pos_counts.apply(lambda x: x.get('VB', 0)) / word_count\n",
    "preposition_count = pos_counts.apply(lambda x: x.get('IN', 0)) / word_count\n",
    "determinator_count = pos_counts.apply(lambda x: x.get('DT', 0)) / word_count\n",
    "\n",
    "df['word_count'] = word_count\n",
    "df['punc_count'] = punc_count\n",
    "df['caps_count'] = caps_count\n",
    "df['possesive_count'] = possesive_count\n",
    "df['noun_count'] = noun_count\n",
    "df['adj_count'] = adj_count\n",
    "df['verb_count'] = verb_count\n",
    "df['preposition_count'] = preposition_count\n",
    "df['determinator_count'] = determinator_count\n",
    "\n",
    "keep_cols = [x for x in df.columns if 'Unnamed' not in x]\n",
    "df = df[keep_cols]\n",
    "\n",
    "df.to_csv('data/data_with_pos.csv')"
   ]
  },
  {
   "cell_type": "code",
   "execution_count": null,
   "metadata": {
    "collapsed": true
   },
   "outputs": [],
   "source": [
    "### Add dummy cols\n",
    "ndf = pd.read_csv('data/data_with_pos.csv')\n",
    "for cat in df['category'].unique():\n",
    "    ndf['category&{}'.format(cat)] = df['category'] == cat\n",
    "for cat in df['main_category'].unique():\n",
    "    ndf['main_category&{}'.format(cat)] = df['main_category'] == cat\n",
    "for cat in df['country'].unique():\n",
    "    ndf['country&{}'.format(cat)] = df['country'] == cat\n",
    "for cat in df['currency'].unique():\n",
    "    ndf['currency&{}'.format(cat)] = df['currency'] == cat\n",
    "for cat in df['country'].unique():\n",
    "    ndf['country&{}'.format(cat)] = df['country'] == cat    \n",
    "ndf.drop(['category', 'main_category', 'country', 'currency', 'name', 'country'], axis=1, inplace=True)\n",
    "\n",
    "ndf['deadline'] = df.loc[:,'deadline'].apply(pd.Timestamp)\n",
    "ndf['launched'] = df.loc[:,'launched'].apply(pd.Timestamp)\n",
    "\n",
    "ndf['deadline_month'] = ndf.loc[:,'deadline'].apply(lambda x: x.strftime('%b'))\n",
    "ndf['launched_month'] = ndf.loc[:,'launched'].apply(lambda x: x.strftime('%b'))\n",
    "\n",
    "ndf['length'] = (ndf['deadline'] - ndf['launched']).apply(lambda x: x.days)\n",
    "\n",
    "for cat in ndf['deadline_month'].unique():\n",
    "    ndf['deadline_month&{}'.format(cat)] = ndf['deadline_month'] == cat\n",
    "    \n",
    "for cat in ndf['launched_month'].unique():\n",
    "    ndf['launched_month&{}'.format(cat)] = ndf['deadline_month'] == cat\n",
    "\n",
    "ndf.drop(['launched_month', 'deadline_month', 'launched', 'deadline'], axis=1, inplace=True)\n",
    "\n",
    "ndf.to_csv('data/data_with_dummies.csv')"
   ]
  },
  {
   "cell_type": "code",
   "execution_count": null,
   "metadata": {
    "collapsed": true
   },
   "outputs": [],
   "source": [
    "### create binary classification dataset\n",
    "ndf = pd.read_csv('data/data_with_dummies.csv')\n",
    "ndf['success'] = (ndf['state'] == 'successful') | (ndf['pledged'] > ndf['goal'])\n",
    "ndf.drop('state', axis=1, inplace=True)\n",
    "ndf.to_csv('data/data_with_dummies_and_class.csv')"
   ]
  }
 ],
 "metadata": {
  "anaconda-cloud": {},
  "kernelspec": {
   "display_name": "Python [conda root]",
   "language": "python",
   "name": "conda-root-py"
  },
  "language_info": {
   "codemirror_mode": {
    "name": "ipython",
    "version": 2
   },
   "file_extension": ".py",
   "mimetype": "text/x-python",
   "name": "python",
   "nbconvert_exporter": "python",
   "pygments_lexer": "ipython2",
   "version": "2.7.12"
  }
 },
 "nbformat": 4,
 "nbformat_minor": 1
}
